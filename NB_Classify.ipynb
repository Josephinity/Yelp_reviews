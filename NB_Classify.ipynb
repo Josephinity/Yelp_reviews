{
 "metadata": {
  "name": "",
  "signature": "sha256:8a99f0a974002d25c966c7d38f8bfbee8ce421b898ec433e17c6f04ddc34e604"
 },
 "nbformat": 3,
 "nbformat_minor": 0,
 "worksheets": [
  {
   "cells": [
    {
     "cell_type": "code",
     "collapsed": false,
     "input": [
      "%cd~/GitHub/Yelp_reviews\n",
      "execfile('read_reviews_txt.py')"
     ],
     "language": "python",
     "metadata": {},
     "outputs": [
      {
       "output_type": "stream",
       "stream": "stdout",
       "text": [
        "/Users/xiaobaby/GitHub/Yelp_reviews\n"
       ]
      }
     ],
     "prompt_number": 1
    },
    {
     "cell_type": "code",
     "collapsed": false,
     "input": [
      "reviews=read_reviews_txt('reviews_0_50.txt')"
     ],
     "language": "python",
     "metadata": {},
     "outputs": [],
     "prompt_number": 2
    },
    {
     "cell_type": "code",
     "collapsed": false,
     "input": [
      "import matplotlib.pyplot as plt\n",
      "counts = list(reviews.review_rating.value_counts().values)[::-1]\n",
      "\n",
      "# Switching to the OO-interface. You can do all of this with \"plt\" as well.\n",
      "fig, ax = plt.subplots()\n",
      "ax.bar(range(1,6), counts, width=0.5, align='center')\n",
      "ax.set(xticks=range(1,6), xlim=[.5,5.5],xlabel='rating',ylabel='count')\n",
      "ax.set_title('Rating Distribution')\n",
      "plt.show()"
     ],
     "language": "python",
     "metadata": {},
     "outputs": [
      {
       "metadata": {},
       "output_type": "display_data",
       "png": "[encoded data removed]",
       "text": [
        "<matplotlib.figure.Figure at 0x10ca2ce90>"
       ]
      }
     ],
     "prompt_number": 6
    },
    {
     "cell_type": "code",
     "collapsed": false,
     "input": [
      "#review tokenizer(& punctuation stripper)\n",
      "punctuations = set(['[','!','#','\"','%','&','\\\\','(',')','*'\n",
      "                    ,'+',',','-','.','/',':',';','<','=','>','?','@','[',']','^','_','`','{','|','}','~',']'])\n",
      "strip_punctuations = lambda x: ''.join([i if i not in punctuations else ' ' for i in x ])\n",
      "reviews['words']=[strip_punctuations(r.lower()).split() for r in reviews.review]"
     ],
     "language": "python",
     "metadata": {},
     "outputs": [],
     "prompt_number": 7
    },
    {
     "cell_type": "code",
     "collapsed": false,
     "input": [
      "#apply naive bayes classifier\n",
      "import collections, itertools\n",
      "import nltk.classify.util, nltk.metrics\n",
      "from nltk.classify import NaiveBayesClassifier\n",
      "from nltk.corpus import stopwords\n",
      "from nltk.collocations import *\n",
      "from nltk.metrics import BigramAssocMeasures,scores\n",
      "from nltk.probability import FreqDist, ConditionalFreqDist\n",
      "\n",
      "\n",
      "#create bag of words\n",
      "def all_words(data):\n",
      "    dic={}\n",
      "    for label in data.keys():\n",
      "        tokens = []\n",
      "        for words in data[label]:\n",
      "            tokens += words\n",
      "        dic[label] = tokens\n",
      "    return dic\n",
      "\n",
      "\n",
      "#initial run, include all words in analysis\n",
      "def word_feats(words):\n",
      "    return dict([(word.lower(), True) for word in words])    \n",
      "  "
     ],
     "language": "python",
     "metadata": {},
     "outputs": [
      {
       "output_type": "stream",
       "stream": "stdout",
       "text": [
        "\n"
       ]
      }
     ],
     "prompt_number": 232
    },
    {
     "cell_type": "code",
     "collapsed": false,
     "input": [
      "#identify significant features                      ----nBestWords N, minFreq\n",
      "def get_nBestFeatures(labeled_words, N = 50):\n",
      "    word_fd = FreqDist()\n",
      "    label_word_fd = ConditionalFreqDist()\n",
      "    \n",
      "    #word count\n",
      "    word_count = {'total':0}\n",
      "    \n",
      "    for label in labeled_words.keys():\n",
      "        for word in labeled_words[label]:\n",
      "            word_fd[word.lower()]+=1\n",
      "            label_word_fd[label][word.lower()]+=1\n",
      "        word_count[label] = label_word_fd[label].N()\n",
      "        word_count['total'] += word_count[label]\n",
      "    \n",
      "    word_scores = {}\n",
      "    \n",
      "    for word, freq in word_fd.iteritems():\n",
      "        word_scores[word] = 0\n",
      "        for label in labeled_words.keys():\n",
      "            word_scores[word] += BigramAssocMeasures.chi_sq(label_word_fd[label][word],\n",
      "                (freq, word_count[label]), word_count['total'])            \n",
      "            \n",
      "    best = sorted(word_scores.iteritems(), key=lambda (w,s): s, reverse=True)[:N]\n",
      "    bestwords = set([w for w, s in best if word_fd[w]>=minFreq])\n",
      "    return bestwords\n",
      "\n",
      "#second run, include only nBestWords    \n",
      "def best_word_feats(words,bestwords):\n",
      "    return dict([(word, True) for word in words if word in bestwords])\n",
      "\n",
      "def informative_word_feats(words,informativewords):\n",
      "    return dict([(word, True) for word in words if word in informativewords])"
     ],
     "language": "python",
     "metadata": {},
     "outputs": [],
     "prompt_number": 233
    },
    {
     "cell_type": "code",
     "collapsed": false,
     "input": [
      "#identify n-grams       ---minFreq, nBestNGrams , n best ngram features, minNgramFreq\n",
      "def find_ngrams(data):\n",
      "    volcabulary = []\n",
      "    for sublist in all_words(data).values():\n",
      "        volcabulary += sublist\n",
      "        \n",
      "    bigram_finder = BigramCollocationFinder.from_words(volcabulary)\n",
      "    bigram_finder.apply_freq_filter(minNgramFreq)\n",
      "    bigrams = bigram_finder.nbest(BigramAssocMeasures.pmi, 200)\n",
      "    trigram_finder = TrigramCollocationFinder.from_words(volcabulary)\n",
      "    trigram_finder.apply_freq_filter(minNgramFreq)\n",
      "    trigram_measures = nltk.collocations.TrigramAssocMeasures()\n",
      "    trigrams = trigram_finder.nbest(trigram_measures.pmi, 200)\n",
      "    return bigrams+trigrams\n",
      " \n",
      "#final run, include n-grams     \n",
      "def best_ngram_word_feats(words, ngrams, bestwords, score_fn=BigramAssocMeasures.chi_sq):\n",
      "    bigram_finder = BigramCollocationFinder.from_words(words)\n",
      "    bigrams_ = bigram_finder.nbest(BigramAssocMeasures.pmi, nBestNGrams)\n",
      "    trigram_finder = TrigramCollocationFinder.from_words(words)\n",
      "    trigram_measures = nltk.collocations.TrigramAssocMeasures()\n",
      "    trigrams_ = trigram_finder.nbest(trigram_measures.pmi, nBestNGrams)\n",
      "    d = dict([(ngram, True) for ngram in bigrams_+trigrams_ if ngram in ngrams])\n",
      "    d.update(best_word_feats(words,bestwords))\n",
      "    return d"
     ],
     "language": "python",
     "metadata": {},
     "outputs": [],
     "prompt_number": 234
    },
    {
     "cell_type": "code",
     "collapsed": false,
     "input": [
      "#for getting most informative word feats \n",
      "def best_word_classifier(data):\n",
      "    bestwords = get_nBestFeatures(all_words(data),N=nBestFeatures)\n",
      "    features = {label:[(best_word_feats(words,bestwords),label) for words in data[label]] for label in data.keys()}\n",
      "\n",
      "    #features={label:[(word_feats(words),label) for words in data[label]] for label in data.keys()}\n",
      "    trainfeats=[]\n",
      "    for label in features.keys():\n",
      "        trainfeats += features[label][:len(features[label])*3/4]\n",
      "\n",
      "    classifier = NaiveBayesClassifier.train(trainfeats)\n",
      "    return classifier"
     ],
     "language": "python",
     "metadata": {},
     "outputs": [],
     "prompt_number": 235
    },
    {
     "cell_type": "code",
     "collapsed": false,
     "input": [
      "#for getting most informative ngram feats \n",
      "def best_ngram_classifier(data):\n",
      "    ngrams = find_ngrams(data)\n",
      "    bestwords = get_nBestFeatures(all_words(data),N=nBestFeatures)\n",
      "    features = {label:[(best_ngram_word_feats(words,ngrams,bestwords),label) for words in data[label]] for label in data.keys()}\n",
      "    trainfeats=[]\n",
      "    for label in features.keys():\n",
      "        trainfeats += features[label][:len(features[label])*3/4]\n",
      "\n",
      "    classifier = NaiveBayesClassifier.train(trainfeats)\n",
      "    return classifier"
     ],
     "language": "python",
     "metadata": {},
     "outputs": [],
     "prompt_number": 236
    },
    {
     "cell_type": "code",
     "collapsed": false,
     "input": [
      "def evaluate_classifier(data,featx):\n",
      "    \n",
      "    bestwords = get_nBestFeatures(all_words(data),N=nBestFeatures)\n",
      "    if best_word_feats==featx:\n",
      "        features = {label:[(featx(words,bestwords),label) for words in data[label]] for label in data.keys()}\n",
      "    elif informative_word_feats==featx:\n",
      "        mostInformWords = [x[0] for x in best_word_classifier(data).most_informative_features(300)]\n",
      "        features = {label:[(featx(words,mostInformWords),label) for words in data[label]] for label in data.keys()}\n",
      "    elif best_ngram_word_feats==featx:\n",
      "        ngrams = find_ngrams(data)\n",
      "        features = {label:[(featx(words,ngrams,bestwords),label) for words in data[label]] for label in data.keys()}\n",
      "    else:\n",
      "        features={label:[(featx(words),label) for words in data[label]] for label in data.keys()}\n",
      "    \n",
      "    for label in features.keys():\n",
      "        print (label + 'sample = %i' %len(features[label]))\n",
      "        \n",
      "    trainfeats = []\n",
      "    testfeats = []\n",
      "    for label in features.keys():\n",
      "        trainfeats += features[label][:len(features[label])*3/4] #decide size of train/test cutoff here\n",
      "        testfeats += features[label][len(features[label])*3/4:]\n",
      "        \n",
      "    ###print 'training size:  %i, testing size: %i' %(len(trainfeats),len(testfeats))\n",
      " \n",
      "    classifier = NaiveBayesClassifier.train(trainfeats)\n",
      "    refsets = collections.defaultdict(set)  \n",
      "    testsets = collections.defaultdict(set)   \n",
      " \n",
      "    for i, (feats, label) in enumerate(testfeats):\n",
      "            refsets[label].add(i)\n",
      "            observed = classifier.classify(feats)\n",
      "            testsets[observed].add(i)\n",
      " \n",
      "    print 'accuracy:', nltk.classify.util.accuracy(classifier, testfeats)\n",
      "    #return nltk.classify.util.accuracy(classifier, testfeats)\n",
      "    if(len(features)==2):\n",
      "        print 'pos precision:', scores.precision(refsets['pos'], testsets['pos'])\n",
      "        print 'pos recall:', scores.recall(refsets['pos'], testsets['pos'])\n",
      "        print 'neg precision:', scores.precision(refsets['neg'], testsets['neg'])\n",
      "        print 'neg recall:', scores.recall(refsets['neg'], testsets['neg'])\n",
      "    ###classifier.show_most_informative_features(n=15)\n",
      "    \n",
      "    print nBestFeatures\n",
      "    #return nltk.classify.util.accuracy(classifier, testfeats)\n",
      "    return (nltk.classify.util.accuracy(classifier, testfeats)\n",
      "            ,scores.precision(refsets['pos'], testsets['pos'])\n",
      "            ,1-scores.precision(refsets['neg'], testsets['neg']))\n",
      "    "
     ],
     "language": "python",
     "metadata": {},
     "outputs": [],
     "prompt_number": 239
    },
    {
     "cell_type": "code",
     "collapsed": false,
     "input": [
      "nBestFeaturesls=range(10,1000,100)\n",
      "ls=[]\n",
      "for nBestFeatures in nBestFeaturesls:\n",
      "    ls.append([nBestFeatures,evaluate_classifier(data,best_word_feats)])"
     ],
     "language": "python",
     "metadata": {},
     "outputs": [
      {
       "output_type": "stream",
       "stream": "stdout",
       "text": [
        "negsample = 5372\n",
        "possample = 16303\n",
        "accuracy:"
       ]
      },
      {
       "output_type": "stream",
       "stream": "stdout",
       "text": [
        " 0.780033216461\n",
        "pos precision: 0.796463815789\n",
        "pos recall: 0.950441609421\n",
        "neg precision: 0.636036036036\n",
        "neg recall: 0.262844378258\n",
        "150\n",
        "negsample = 5372"
       ]
      },
      {
       "output_type": "stream",
       "stream": "stdout",
       "text": [
        "\n",
        "possample = 16303\n",
        "accuracy:"
       ]
      },
      {
       "output_type": "stream",
       "stream": "stdout",
       "text": [
        " 0.71544565418\n",
        "pos precision: 0.935694635488\n",
        "pos recall: 0.667566241413\n",
        "neg precision: 0.460374352847\n",
        "neg recall: 0.860759493671\n",
        "150\n",
        "negsample = 5372"
       ]
      },
      {
       "output_type": "stream",
       "stream": "stdout",
       "text": [
        "\n",
        "possample = 16303\n",
        "accuracy:"
       ]
      },
      {
       "output_type": "stream",
       "stream": "stdout",
       "text": [
        " 0.700682782801\n",
        "pos precision: 0.947810218978\n",
        "pos recall: 0.637144259078\n",
        "neg precision: 0.447928331467\n",
        "neg recall: 0.893521965748\n",
        "150\n",
        "negsample = 5372"
       ]
      },
      {
       "output_type": "stream",
       "stream": "stdout",
       "text": [
        "\n",
        "possample = 16303\n",
        "accuracy:"
       ]
      },
      {
       "output_type": "stream",
       "stream": "stdout",
       "text": [
        " 0.660269422403\n",
        "pos precision: 0.956681651001\n",
        "pos recall: 0.574337585868\n",
        "neg precision: 0.416218034993\n",
        "neg recall: 0.921072226359\n",
        "150\n",
        "negsample = 5372"
       ]
      },
      {
       "output_type": "stream",
       "stream": "stdout",
       "text": [
        "\n",
        "possample = 16303\n",
        "accuracy:"
       ]
      },
      {
       "output_type": "stream",
       "stream": "stdout",
       "text": [
        " 0.660823030079\n",
        "pos precision: 0.957855973813\n",
        "pos recall: 0.574337585868\n",
        "neg precision: 0.416806722689\n",
        "neg recall: 0.923306031273\n",
        "150\n",
        "negsample = 5372"
       ]
      },
      {
       "output_type": "stream",
       "stream": "stdout",
       "text": [
        "\n",
        "possample = 16303\n",
        "accuracy:"
       ]
      },
      {
       "output_type": "stream",
       "stream": "stdout",
       "text": [
        " 0.657316848127\n",
        "pos precision: 0.960564549606\n",
        "pos recall: 0.567713444553\n",
        "neg precision: 0.414617940199\n",
        "neg recall: 0.929262844378\n",
        "150\n",
        "negsample = 5372"
       ]
      },
      {
       "output_type": "stream",
       "stream": "stdout",
       "text": [
        "\n",
        "possample = 16303\n",
        "accuracy:"
       ]
      },
      {
       "output_type": "stream",
       "stream": "stdout",
       "text": [
        " 0.646244694593\n",
        "pos precision: 0.962312633833\n",
        "pos recall: 0.55127576055\n",
        "neg precision: 0.406939040208\n",
        "neg recall: 0.934475055845\n",
        "150\n",
        "negsample = 5372"
       ]
      },
      {
       "output_type": "stream",
       "stream": "stdout",
       "text": [
        "\n",
        "possample = 16303\n",
        "accuracy:"
       ]
      },
      {
       "output_type": "stream",
       "stream": "stdout",
       "text": [
        " 0.640893153718\n",
        "pos precision: 0.965065502183\n",
        "pos recall: 0.542198233562\n",
        "neg precision: 0.403643336529\n",
        "neg recall: 0.94043186895\n",
        "150\n",
        "negsample = 5372"
       ]
      },
      {
       "output_type": "stream",
       "stream": "stdout",
       "text": [
        "\n",
        "possample = 16303\n",
        "accuracy:"
       ]
      },
      {
       "output_type": "stream",
       "stream": "stdout",
       "text": [
        " 0.639416866581\n",
        "pos precision: 0.966168717047\n",
        "pos recall: 0.539499509323\n",
        "neg precision: 0.402799872733\n",
        "neg recall: 0.942665673864\n",
        "150\n",
        "negsample = 5372"
       ]
      },
      {
       "output_type": "stream",
       "stream": "stdout",
       "text": [
        "\n",
        "possample = 16303\n",
        "accuracy:"
       ]
      },
      {
       "output_type": "stream",
       "stream": "stdout",
       "text": [
        " 0.640524081934\n",
        "pos precision: 0.967076382792\n",
        "pos recall: 0.540480863592\n",
        "neg precision: 0.403693091372\n",
        "neg recall: 0.944154877141\n",
        "150\n"
       ]
      }
     ],
     "prompt_number": 258
    },
    {
     "cell_type": "code",
     "collapsed": false,
     "input": [
      "#shuffle rows\n",
      "samples=reviews.sample(frac=1)"
     ],
     "language": "python",
     "metadata": {},
     "outputs": [],
     "prompt_number": 14
    },
    {
     "cell_type": "code",
     "collapsed": false,
     "input": [
      "high = samples.words[samples.review_rating.astype(float)>=3.5]\n",
      "low = samples.words[samples.review_rating.astype(float)<=3.5]\n",
      "data={\n",
      "    'pos':high,\n",
      "    'neg':low\n",
      "    }"
     ],
     "language": "python",
     "metadata": {},
     "outputs": [],
     "prompt_number": 15
    },
    {
     "cell_type": "code",
     "collapsed": false,
     "input": [
      "#n is top n most informative features\n",
      "def show_most_informative_features(classifier, word_fd, n=10):\n",
      "    # Determine the most relevant features, and display them.\n",
      "    cpdist = classifier._feature_probdist\n",
      "    print('Most Informative Features')\n",
      "    mif=[['word','label','probability']]\n",
      "    for (fname, fval) in classifier.most_informative_features(n):\n",
      "        if word_fd[fname]>=minFreq or len(fname)>1:\n",
      "            def labelprob(l):\n",
      "                return cpdist[l, fname].prob(fval)\n",
      "\n",
      "            labels = sorted([l for l in classifier._labels\n",
      "                             if fval in cpdist[l, fname].samples()],\n",
      "                            key=labelprob)\n",
      "            if len(labels) == 1:\n",
      "                continue\n",
      "            l0 = labels[0]\n",
      "            l1 = labels[-1]\n",
      "            if cpdist[l0, fname].prob(fval) == 0:\n",
      "                ratio = 'INF'\n",
      "            else:\n",
      "                ratio = '%8.1f' % (cpdist[l1, fname].prob(fval) /\n",
      "                                   cpdist[l0, fname].prob(fval))\n",
      "    #         print(('%24s = %-14r %6s : %-6s = %s : 1.0' %\n",
      "    #                (fname, fval, (\"%s\" % l1)[:6], (\"%s\" % l0)[:6], ratio)))\n",
      "            mif+=[[fname,labels[-1],ratio]]\n",
      "    return mif"
     ],
     "language": "python",
     "metadata": {},
     "outputs": [],
     "prompt_number": 16
    },
    {
     "cell_type": "code",
     "collapsed": false,
     "input": [
      "#thresholds\n",
      "#only take the top nBest important features of all into account\n",
      "nBestFeatures=55\n",
      "#ignore words with <minFreq\n",
      "minFreq=150\n",
      "#top n ngrams for EACH review\n",
      "nBestNGrams=50\n",
      "#ignore ngrams with <#ignore words with <minFreq\n",
      "minNgramFreq=150"
     ],
     "language": "python",
     "metadata": {},
     "outputs": [],
     "prompt_number": 256
    },
    {
     "cell_type": "code",
     "collapsed": false,
     "input": [
      "#to get term frequency\n",
      "labeled_words = all_words(data)\n",
      "word_fd = FreqDist()\n",
      "label_word_fd = ConditionalFreqDist()\n",
      "\n",
      "#word count\n",
      "word_count = {'total':0}\n",
      "\n",
      "for label in labeled_words.keys():\n",
      "    for word in labeled_words[label]:\n",
      "        word_fd[word.lower()]+=1\n",
      "        label_word_fd[label][word.lower()]+=1\n",
      "    word_count[label] = label_word_fd[label].N()\n",
      "    word_count['total'] += word_count[label]\n",
      "    \n",
      "    \n",
      "#to get word score(normalization) with BigramAssoMeasures.chi_sq\n",
      "word_scores = {}\n",
      "\n",
      "for word, freq in word_fd.iteritems():\n",
      "    word_scores[word] = 0\n",
      "    for label in labeled_words.keys():\n",
      "        word_scores[word] += BigramAssocMeasures.chi_sq(label_word_fd[label][word],\n",
      "            (freq, word_count[label]), word_count['total'])            \n",
      "\n",
      "best = sorted(word_scores.iteritems(), key=lambda (w,s): s, reverse=True)[:50]\n",
      "bestwords = set([w for w, s in best if word_fd[w]>=minFreq])\n",
      "#words with most scores \n",
      "sorted(word_scores, key=word_scores.get, reverse=True)[:5]\n",
      "word_scores['best']"
     ],
     "language": "python",
     "metadata": {},
     "outputs": [
      {
       "metadata": {},
       "output_type": "pyout",
       "prompt_number": 20,
       "text": [
        "1154.3843291699661"
       ]
      }
     ],
     "prompt_number": 20
    },
    {
     "cell_type": "code",
     "collapsed": false,
     "input": [
      "#for getting most informative word feats        \n",
      "###classifier = best_word_classifier(data)\n",
      "clf =best_ngram_classifier(data)"
     ],
     "language": "python",
     "metadata": {},
     "outputs": [],
     "prompt_number": 21
    },
    {
     "cell_type": "code",
     "collapsed": false,
     "input": [
      "###mif = show_most_informative_features(clf, word_fd, n=100)\n",
      "mif = show_most_informative_features(clf, word_fd,50)"
     ],
     "language": "python",
     "metadata": {},
     "outputs": [
      {
       "output_type": "stream",
       "stream": "stdout",
       "text": [
        "Most Informative Features\n"
       ]
      }
     ],
     "prompt_number": 22
    },
    {
     "cell_type": "code",
     "collapsed": false,
     "input": [
      "#get most informative features into dataframe\n",
      "def to_string(tup):\n",
      "    word=''\n",
      "    for x in tup:\n",
      "        word+=x+' '\n",
      "    return word[:-1]\n",
      "mifd = {\n",
      "    mif[0][0]:[to_string(x[0]) if type(x[0]) is tuple else x[0] for x in mif[1:]],\n",
      "    mif[0][1]:[x[1] for x in mif[1:]],\n",
      "    mif[0][2]:[x[2] for x in mif[1:]]\n",
      "    }\n",
      "mifd=pd.DataFrame(mifd)\n",
      "mifd=mifd[['word','label','probability']][:30]"
     ],
     "language": "python",
     "metadata": {},
     "outputs": [],
     "prompt_number": 23
    },
    {
     "cell_type": "code",
     "collapsed": false,
     "input": [
      "mifd"
     ],
     "language": "python",
     "metadata": {},
     "outputs": [
      {
       "html": [
        "<div style=\"max-width:1500px;overflow:auto;\">\n",
        "<table border=\"1\" class=\"dataframe\">\n",
        "  <thead>\n",
        "    <tr style=\"text-align: right;\">\n",
        "      <th></th>\n",
        "      <th>word</th>\n",
        "      <th>label</th>\n",
        "      <th>probability</th>\n",
        "    </tr>\n",
        "  </thead>\n",
        "  <tbody>\n",
        "    <tr>\n",
        "      <th>0</th>\n",
        "      <td>will definitely be</td>\n",
        "      <td>pos</td>\n",
        "      <td>32.6</td>\n",
        "    </tr>\n",
        "    <tr>\n",
        "      <th>1</th>\n",
        "      <td>of my favorite</td>\n",
        "      <td>pos</td>\n",
        "      <td>27.6</td>\n",
        "    </tr>\n",
        "    <tr>\n",
        "      <th>2</th>\n",
        "      <td>worst</td>\n",
        "      <td>neg</td>\n",
        "      <td>20.6</td>\n",
        "    </tr>\n",
        "    <tr>\n",
        "      <th>3</th>\n",
        "      <td>3 stars</td>\n",
        "      <td>neg</td>\n",
        "      <td>19.9</td>\n",
        "    </tr>\n",
        "    <tr>\n",
        "      <th>4</th>\n",
        "      <td>can't wait</td>\n",
        "      <td>pos</td>\n",
        "      <td>15.9</td>\n",
        "    </tr>\n",
        "    <tr>\n",
        "      <th>5</th>\n",
        "      <td>my favorites</td>\n",
        "      <td>pos</td>\n",
        "      <td>15.4</td>\n",
        "    </tr>\n",
        "    <tr>\n",
        "      <th>6</th>\n",
        "      <td>hands down</td>\n",
        "      <td>pos</td>\n",
        "      <td>12.7</td>\n",
        "    </tr>\n",
        "    <tr>\n",
        "      <th>7</th>\n",
        "      <td>definitely be back</td>\n",
        "      <td>pos</td>\n",
        "      <td>12.6</td>\n",
        "    </tr>\n",
        "    <tr>\n",
        "      <th>8</th>\n",
        "      <td>horrible</td>\n",
        "      <td>neg</td>\n",
        "      <td>11.1</td>\n",
        "    </tr>\n",
        "    <tr>\n",
        "      <th>9</th>\n",
        "      <td>mediocre</td>\n",
        "      <td>neg</td>\n",
        "      <td>10.4</td>\n",
        "    </tr>\n",
        "    <tr>\n",
        "      <th>10</th>\n",
        "      <td>rude</td>\n",
        "      <td>neg</td>\n",
        "      <td>9.6</td>\n",
        "    </tr>\n",
        "    <tr>\n",
        "      <th>11</th>\n",
        "      <td>terrible</td>\n",
        "      <td>neg</td>\n",
        "      <td>9.1</td>\n",
        "    </tr>\n",
        "    <tr>\n",
        "      <th>12</th>\n",
        "      <td>disappointing</td>\n",
        "      <td>neg</td>\n",
        "      <td>8.7</td>\n",
        "    </tr>\n",
        "    <tr>\n",
        "      <th>13</th>\n",
        "      <td>the chirashi bowl</td>\n",
        "      <td>pos</td>\n",
        "      <td>8.2</td>\n",
        "    </tr>\n",
        "    <tr>\n",
        "      <th>14</th>\n",
        "      <td>meh</td>\n",
        "      <td>neg</td>\n",
        "      <td>8.1</td>\n",
        "    </tr>\n",
        "    <tr>\n",
        "      <th>15</th>\n",
        "      <td>overpriced</td>\n",
        "      <td>neg</td>\n",
        "      <td>7.8</td>\n",
        "    </tr>\n",
        "    <tr>\n",
        "      <th>16</th>\n",
        "      <td>be sure to</td>\n",
        "      <td>pos</td>\n",
        "      <td>7.6</td>\n",
        "    </tr>\n",
        "    <tr>\n",
        "      <th>17</th>\n",
        "      <td>melts in</td>\n",
        "      <td>pos</td>\n",
        "      <td>7.4</td>\n",
        "    </tr>\n",
        "    <tr>\n",
        "      <th>18</th>\n",
        "      <td>to sit at</td>\n",
        "      <td>pos</td>\n",
        "      <td>7.4</td>\n",
        "    </tr>\n",
        "    <tr>\n",
        "      <th>19</th>\n",
        "      <td>my favorite sushi</td>\n",
        "      <td>pos</td>\n",
        "      <td>6.9</td>\n",
        "    </tr>\n",
        "    <tr>\n",
        "      <th>20</th>\n",
        "      <td>sit at the</td>\n",
        "      <td>pos</td>\n",
        "      <td>6.7</td>\n",
        "    </tr>\n",
        "    <tr>\n",
        "      <th>21</th>\n",
        "      <td>i was expecting</td>\n",
        "      <td>neg</td>\n",
        "      <td>6.7</td>\n",
        "    </tr>\n",
        "    <tr>\n",
        "      <th>22</th>\n",
        "      <td>highly recommend</td>\n",
        "      <td>pos</td>\n",
        "      <td>6.6</td>\n",
        "    </tr>\n",
        "    <tr>\n",
        "      <th>23</th>\n",
        "      <td>must try</td>\n",
        "      <td>pos</td>\n",
        "      <td>6.6</td>\n",
        "    </tr>\n",
        "    <tr>\n",
        "      <th>24</th>\n",
        "      <td>can't go wrong</td>\n",
        "      <td>pos</td>\n",
        "      <td>6.3</td>\n",
        "    </tr>\n",
        "    <tr>\n",
        "      <th>25</th>\n",
        "      <td>the super bad</td>\n",
        "      <td>pos</td>\n",
        "      <td>6.3</td>\n",
        "    </tr>\n",
        "    <tr>\n",
        "      <th>26</th>\n",
        "      <td>to die for</td>\n",
        "      <td>pos</td>\n",
        "      <td>5.9</td>\n",
        "    </tr>\n",
        "    <tr>\n",
        "      <th>27</th>\n",
        "      <td>by far the</td>\n",
        "      <td>pos</td>\n",
        "      <td>5.7</td>\n",
        "    </tr>\n",
        "    <tr>\n",
        "      <th>28</th>\n",
        "      <td>nothing special</td>\n",
        "      <td>neg</td>\n",
        "      <td>5.3</td>\n",
        "    </tr>\n",
        "    <tr>\n",
        "      <th>29</th>\n",
        "      <td>love this place</td>\n",
        "      <td>pos</td>\n",
        "      <td>5.1</td>\n",
        "    </tr>\n",
        "  </tbody>\n",
        "</table>\n",
        "</div>"
       ],
       "metadata": {},
       "output_type": "pyout",
       "prompt_number": 29,
       "text": [
        "                  word label probability\n",
        "0   will definitely be   pos        32.6\n",
        "1       of my favorite   pos        27.6\n",
        "2                worst   neg        20.6\n",
        "3              3 stars   neg        19.9\n",
        "4           can't wait   pos        15.9\n",
        "5         my favorites   pos        15.4\n",
        "6           hands down   pos        12.7\n",
        "7   definitely be back   pos        12.6\n",
        "8             horrible   neg        11.1\n",
        "9             mediocre   neg        10.4\n",
        "10                rude   neg         9.6\n",
        "11            terrible   neg         9.1\n",
        "12       disappointing   neg         8.7\n",
        "13   the chirashi bowl   pos         8.2\n",
        "14                 meh   neg         8.1\n",
        "15          overpriced   neg         7.8\n",
        "16          be sure to   pos         7.6\n",
        "17            melts in   pos         7.4\n",
        "18           to sit at   pos         7.4\n",
        "19   my favorite sushi   pos         6.9\n",
        "20          sit at the   pos         6.7\n",
        "21     i was expecting   neg         6.7\n",
        "22    highly recommend   pos         6.6\n",
        "23            must try   pos         6.6\n",
        "24      can't go wrong   pos         6.3\n",
        "25       the super bad   pos         6.3\n",
        "26          to die for   pos         5.9\n",
        "27          by far the   pos         5.7\n",
        "28     nothing special   neg         5.3\n",
        "29     love this place   pos         5.1"
       ]
      }
     ],
     "prompt_number": 29
    },
    {
     "cell_type": "code",
     "collapsed": false,
     "input": [
      "#get most frequent terms (before normalization)\n",
      "nn=1\n",
      "print label_word_fd['pos'].most_common(nn)\n",
      "print label_word_fd['neg'].most_common(nn)"
     ],
     "language": "python",
     "metadata": {},
     "outputs": [
      {
       "output_type": "stream",
       "stream": "stdout",
       "text": [
        "[(u'the', 102595)]\n",
        "[(u'the', 40929)]\n"
       ]
      }
     ],
     "prompt_number": 24
    },
    {
     "cell_type": "code",
     "collapsed": false,
     "input": [
      "from threading import Thread\n",
      "class ModelWorker(Thread):\n",
      "   def __init__(self, queue, acc):\n",
      "       Thread.__init__(self)\n",
      "       self.queue = queue\n",
      "       self.ls=acc\n",
      "\n",
      "   def run(self):\n",
      "       while len(self.queue)>0:\n",
      "           # Get the work from the queue and expand the tuple       \n",
      "           minNgramFreq = self.queue.pop()\n",
      "           print 'done'\n",
      "           self.ls+=[evaluate_classifier(data,best_ngram_word_feats)]"
     ],
     "language": "python",
     "metadata": {},
     "outputs": [],
     "prompt_number": 202
    },
    {
     "cell_type": "code",
     "collapsed": false,
     "input": [
      "worker = ModelWorker([2,3,5,10,50,100,500,1000],[])\n",
      "       # Setting daemon to True will let the main thread exit even though the workers are blocking\n",
      "worker.daemon = True\n",
      "worker.start()"
     ],
     "language": "python",
     "metadata": {},
     "outputs": [
      {
       "output_type": "stream",
       "stream": "stdout",
       "text": [
        "done\n"
       ]
      }
     ],
     "prompt_number": 204
    },
    {
     "cell_type": "code",
     "collapsed": false,
     "input": [
      "worker.ls"
     ],
     "language": "python",
     "metadata": {},
     "outputs": [
      {
       "metadata": {},
       "output_type": "pyout",
       "prompt_number": 203,
       "text": [
        "[]"
       ]
      }
     ],
     "prompt_number": 203
    },
    {
     "cell_type": "code",
     "collapsed": false,
     "input": [
      "# a_documents = reviews.words[reviews.review_rating.astype(float)>4.5]\n",
      "# b_documents = reviews.words[reviews.review_rating.astype(float)==4]\n",
      "# c_documents = reviews.words[reviews.review_rating.astype(float)==3]\n",
      "# d_documents = reviews.words[reviews.review_rating.astype(float)<2.5]\n",
      "# data = {\n",
      "#         '5':a_documents,\n",
      "#         '4':b_documents,\n",
      "#         '3':c_documents,\n",
      "#         '2':d_documents\n",
      "#         }\n",
      "\n",
      "\n",
      "\n",
      "print 'evaluating single word features'\n",
      "#evaluate_classifier(data,word_feats)\n",
      "\n",
      "\n",
      " \n",
      "print 'evaluating best word features'\n",
      "#evaluate_classifier(data,best_word_feats)\n",
      "\n",
      "\n",
      "print 'evaluating most informative word features'\n",
      "#evaluate_classifier(data,informative_word_feats)\n",
      "\n",
      " \n",
      "print 'evaluating best words + bigram chi_sq word features'\n",
      "#evaluate_classifier(data,best_ngram_word_feats)"
     ],
     "language": "python",
     "metadata": {},
     "outputs": [
      {
       "output_type": "stream",
       "stream": "stdout",
       "text": [
        "evaluating single word features\n",
        "evaluating best word features\n",
        "negsample = 5372"
       ]
      },
      {
       "output_type": "stream",
       "stream": "stdout",
       "text": [
        "\n",
        "possample = 16303\n",
        "accuracy:"
       ]
      },
      {
       "output_type": "stream",
       "stream": "stdout",
       "text": [
        " 0.775604355047\n",
        "pos precision: 0.907407407407\n",
        "pos recall: 0.781403336605\n",
        "neg precision: 0.533263488738\n",
        "neg recall: 0.75800446761\n",
        "150\n",
        "evaluating most informative word features"
       ]
      },
      {
       "output_type": "stream",
       "stream": "stdout",
       "text": [
        "\n",
        "evaluating best words + bigram chi_sq word features\n"
       ]
      }
     ],
     "prompt_number": 238
    },
    {
     "cell_type": "code",
     "collapsed": false,
     "input": [
      "from sklearn.feature_extraction.text import CountVectorizer\n",
      "from sklearn.feature_extraction.text import TfidfVectorizer"
     ],
     "language": "python",
     "metadata": {},
     "outputs": [],
     "prompt_number": 328
    },
    {
     "cell_type": "code",
     "collapsed": false,
     "input": [
      "#Using only bestwords\n",
      "def get_best_words(N):\n",
      "    best = sorted(word_scores.iteritems(), key=lambda (w,s): s, reverse=True)[:N]\n",
      "    bestwords = set([w for w, s in best if word_fd[w]>=minFreq])\n",
      "    return bestwords\n",
      "\n",
      "\n",
      "bestwordsN=get_best_words(100)\n",
      "pp = [filter(lambda x: x in bestwordsN, sublist) for sublist in reviews.words[reviews.review_rating.astype(float)>3.5]]\n",
      "nn = [filter(lambda x: x in bestwordsN, sublist) for sublist in reviews.words[reviews.review_rating.astype(float)<3.5]]\n",
      "positive_docs=[' '.join(words) for words in pp]\n",
      "negative_docs=[' '.join(words) for words in nn]\n",
      "x=positive_docs+negative_docs\n",
      "y=['pos']*len(positive_docs)+['neg']*len(negative_docs)"
     ],
     "language": "python",
     "metadata": {},
     "outputs": [],
     "prompt_number": 311
    },
    {
     "cell_type": "code",
     "collapsed": false,
     "input": [
      "#Use all terms, choose from from this and the last block\n",
      "positive_docs=[' '.join(words) for words in reviews.words[reviews.review_rating.astype(float)>3.5]]\n",
      "negative_docs=[' '.join(words) for words in reviews.words[reviews.review_rating.astype(float)<3.5]]\n",
      "x=positive_docs+negative_docs\n",
      "y=['pos']*len(positive_docs)+['neg']*len(negative_docs)"
     ],
     "language": "python",
     "metadata": {},
     "outputs": [],
     "prompt_number": 367
    },
    {
     "cell_type": "code",
     "collapsed": false,
     "input": [
      "vectorizer = TfidfVectorizer()\n",
      "#vectorizer = CountVectorizer()\n",
      "bag = vectorizer.fit_transform(x)\n",
      "x=bag.toarray()"
     ],
     "language": "python",
     "metadata": {},
     "outputs": [],
     "prompt_number": 368
    },
    {
     "cell_type": "code",
     "collapsed": false,
     "input": [
      "print len(vectorizer.get_feature_names())\n",
      "print x.shape"
     ],
     "language": "python",
     "metadata": {},
     "outputs": [
      {
       "output_type": "stream",
       "stream": "stdout",
       "text": [
        "28850\n",
        "(21675, 28850)\n"
       ]
      }
     ],
     "prompt_number": 369
    },
    {
     "cell_type": "code",
     "collapsed": false,
     "input": [
      "best = np.array([True if n in bestwordsN else False for n in vectorizer.get_feature_names()])\n",
      "np.array(vectorizer.get_feature_names())[best]"
     ],
     "language": "python",
     "metadata": {},
     "outputs": [
      {
       "metadata": {},
       "output_type": "pyout",
       "prompt_number": 384,
       "text": [
        "array([u'after', u'also', u'always', u'amazing', u'and', u'another',\n",
        "       u'are', u'asked', u'attitude', u'average', u'awesome', u'bad',\n",
        "       u'best', u'better', u'biz', u'bland', u'but', u'came', u'can',\n",
        "       u'charge', u'com', u'decent', u'definitely', u'delicious', u'did',\n",
        "       u'disappointing', u'everything', u'excellent', u'fantastic',\n",
        "       u'favorite', u'fine', u'fresh', u'give', u'great', u'happy', u'her',\n",
        "       u'highly', u'horrible', u'is', u'just', u'left', u'love', u'loved',\n",
        "       u'manager', u'maybe', u'me', u'mediocre', u'meh', u'minutes',\n",
        "       u'mouth', u'must', u'no', u'not', u'nothing', u'ok', u'okay',\n",
        "       u'our', u'overpriced', u'perfect', u'photos', u'poor', u'recommend',\n",
        "       u'reviews', u'rude', u'said', u'seattle', u'server', u'she',\n",
        "       u'should', u'sorry', u'sushi', u'table', u'terrible', u'that',\n",
        "       u'then', u'to', u'told', u'took', u'understand', u'us', u'waited',\n",
        "       u'waiter', u'waitress', u'wanted', u'was', u'we', u'were', u'why',\n",
        "       u'wonderful', u'worst', u'you'], \n",
        "      dtype='<U64')"
       ]
      }
     ],
     "prompt_number": 384
    },
    {
     "cell_type": "code",
     "collapsed": false,
     "input": [
      "#For Tfidf to filter best words\n",
      "x=x[:,best]\n",
      "x.shape"
     ],
     "language": "python",
     "metadata": {},
     "outputs": [
      {
       "metadata": {},
       "output_type": "pyout",
       "prompt_number": 373,
       "text": [
        "(21675, 91)"
       ]
      }
     ],
     "prompt_number": 373
    },
    {
     "cell_type": "code",
     "collapsed": false,
     "input": [
      "index=np.random.choice(x.shape[0],x.shape[0]*.7,replace=False)\n",
      "to_train=[False]*x.shape[0]\n",
      "for i in index:\n",
      "    to_train[i]=True\n",
      "to_train=np.array(to_train)"
     ],
     "language": "python",
     "metadata": {},
     "outputs": [],
     "prompt_number": 374
    },
    {
     "cell_type": "code",
     "collapsed": false,
     "input": [
      "y_train=np.asarray(y)[to_train]\n",
      "x_train=np.asarray(x)[to_train,]\n",
      "y_test=np.asarray(y)[np.invert(to_train)]\n",
      "x_test=np.asarray(x)[np.invert(to_train),]"
     ],
     "language": "python",
     "metadata": {},
     "outputs": [],
     "prompt_number": 375
    },
    {
     "cell_type": "code",
     "collapsed": false,
     "input": [
      "#random forests\n",
      "#max_feats = [10,20,40,80,300,500,1000]\n",
      "#acc=[randomForests(m) for m in max_feats]\n",
      "from sklearn.ensemble import RandomForestClassifier\n",
      "#max_features=M\n",
      "def randomForests(M):\n",
      "    rf = RandomForestClassifier(n_estimators=100,max_features=M)\n",
      "    rf.fit(x_train, y_train)\n",
      "    return rf"
     ],
     "language": "python",
     "metadata": {},
     "outputs": [],
     "prompt_number": 376
    },
    {
     "cell_type": "code",
     "collapsed": false,
     "input": [
      "from sklearn.metrics import roc_curve, auc\n",
      "#roc curve\n",
      "def roc(y_test,predicted):\n",
      "    binary_test =[0 if x=='neg' else 1 for x in  y_test]\n",
      "    binary_predicted = [0 if x=='neg' else 1 for x in predicted]\n",
      "    fpr, tpr, _ = roc_curve(binary_test, binary_predicted)\n",
      "    roc_auc = auc(fpr, tpr)\n",
      "    print(\"Area under the ROC curve : %f\" % roc_auc)\n",
      "    return roc_auc,fpr,tpr"
     ],
     "language": "python",
     "metadata": {},
     "outputs": [],
     "prompt_number": 377
    },
    {
     "cell_type": "code",
     "collapsed": false,
     "input": [
      "rates2[-1]\n",
      "print 'Estimators: ',rates2[-1][0]\n",
      "print 'nBestWords: ',100\n",
      "print 'Accuracy: ',rates2[-1][-1]\n",
      "print 'tpr: ',rates2[-1][-2][1]\n",
      "print 'fpr: ',rates2[-1][-3][1]"
     ],
     "language": "python",
     "metadata": {},
     "outputs": [
      {
       "output_type": "stream",
       "stream": "stdout",
       "text": [
        "Estimators:  91\n",
        "nBestWords:  100\n",
        "Accuracy:  0.831308626788\n",
        "tpr:  0.927955665025\n",
        "fpr:  0.457388105457\n"
       ]
      }
     ],
     "prompt_number": 388
    },
    {
     "cell_type": "code",
     "collapsed": false,
     "input": [
      "rates2=[]\n",
      "for m in [91]:\n",
      "    rf=randomForests(m)\n",
      "    predicted = rf.predict(x_test)\n",
      "    roc_auc,fpr,tpr=roc(y_test,predicted)\n",
      "    print (m,rf.score(x_test,y_test))\n",
      "    rates2.append((m,roc_auc,fpr,tpr,rf.score(x_test,y_test)))"
     ],
     "language": "python",
     "metadata": {},
     "outputs": [
      {
       "output_type": "stream",
       "stream": "stdout",
       "text": [
        "Area under the ROC curve : 0.735284\n",
        "(91, 0.83130862678763651)"
       ]
      },
      {
       "output_type": "stream",
       "stream": "stdout",
       "text": [
        "\n"
       ]
      }
     ],
     "prompt_number": 386
    },
    {
     "cell_type": "code",
     "collapsed": false,
     "input": [
      "rates=[]\n",
      "for m in range(1010,9,-100):\n",
      "    rf=randomForests(m)\n",
      "    predicted = rf.predict(x_test)\n",
      "    roc_auc,fpr,tpr=roc(y_test,predicted)\n",
      "    print (m,rf.score(x_test,y_test))\n",
      "    rates.append((m,roc_auc,fpr,tpr,rf.score(x_test,y_test)))"
     ],
     "language": "python",
     "metadata": {},
     "outputs": [
      {
       "output_type": "stream",
       "stream": "stdout",
       "text": [
        "Area under the ROC curve : 0.693437\n",
        "(1010, 0.8377671843764416)"
       ]
      },
      {
       "output_type": "stream",
       "stream": "stdout",
       "text": [
        "\n",
        "Area under the ROC curve : 0.685186"
       ]
      },
      {
       "output_type": "stream",
       "stream": "stdout",
       "text": [
        "\n",
        "(910, 0.8351530063047824)"
       ]
      },
      {
       "output_type": "stream",
       "stream": "stdout",
       "text": [
        "\n",
        "Area under the ROC curve : 0.681310"
       ]
      },
      {
       "output_type": "stream",
       "stream": "stdout",
       "text": [
        "\n",
        "(810, 0.83330770413655231)"
       ]
      },
      {
       "output_type": "stream",
       "stream": "stdout",
       "text": [
        "\n",
        "Area under the ROC curve : 0.674071"
       ]
      },
      {
       "output_type": "stream",
       "stream": "stdout",
       "text": [
        "\n",
        "(710, 0.83007842534214982)"
       ]
      },
      {
       "output_type": "stream",
       "stream": "stdout",
       "text": [
        "\n",
        "Area under the ROC curve : 0.666731"
       ]
      },
      {
       "output_type": "stream",
       "stream": "stdout",
       "text": [
        "\n",
        "(610, 0.82700292172843304)"
       ]
      },
      {
       "output_type": "stream",
       "stream": "stdout",
       "text": [
        "\n",
        "Area under the ROC curve : 0.667037"
       ]
      },
      {
       "output_type": "stream",
       "stream": "stdout",
       "text": [
        "\n",
        "(510, 0.82715669690911886)"
       ]
      },
      {
       "output_type": "stream",
       "stream": "stdout",
       "text": [
        "\n",
        "Area under the ROC curve : 0.650222"
       ]
      },
      {
       "output_type": "stream",
       "stream": "stdout",
       "text": [
        "\n",
        "(410, 0.82085191450099959)"
       ]
      },
      {
       "output_type": "stream",
       "stream": "stdout",
       "text": [
        "\n",
        "Area under the ROC curve : 0.639615"
       ]
      },
      {
       "output_type": "stream",
       "stream": "stdout",
       "text": [
        "\n",
        "(310, 0.81562355835768108)"
       ]
      },
      {
       "output_type": "stream",
       "stream": "stdout",
       "text": [
        "\n",
        "Area under the ROC curve : 0.604331"
       ]
      },
      {
       "output_type": "stream",
       "stream": "stdout",
       "text": [
        "\n",
        "(210, 0.7990158388436106)"
       ]
      },
      {
       "output_type": "stream",
       "stream": "stdout",
       "text": [
        "\n",
        "Area under the ROC curve : 0.578532"
       ]
      },
      {
       "output_type": "stream",
       "stream": "stdout",
       "text": [
        "\n",
        "(110, 0.78717514993080118)"
       ]
      },
      {
       "output_type": "stream",
       "stream": "stdout",
       "text": [
        "\n",
        "Area under the ROC curve : 0.520296"
       ]
      },
      {
       "output_type": "stream",
       "stream": "stdout",
       "text": [
        "\n",
        "(10, 0.75872674150392128)"
       ]
      },
      {
       "output_type": "stream",
       "stream": "stdout",
       "text": [
        "\n"
       ]
      }
     ],
     "prompt_number": 284
    },
    {
     "cell_type": "code",
     "collapsed": false,
     "input": [
      "print rates"
     ],
     "language": "python",
     "metadata": {},
     "outputs": [
      {
       "output_type": "stream",
       "stream": "stdout",
       "text": [
        "[(1000, 0.68997677963123427, array([ 0.        ,  0.60587515,  1.        ]), array([ 0.        ,  0.98582871,  1.        ]), 0.83715208365369831)]\n"
       ]
      }
     ],
     "prompt_number": 282
    },
    {
     "cell_type": "code",
     "collapsed": false,
     "input": [
      "import matplotlib.patches as mpatches\n",
      "plt.figure()\n",
      "plt.plot([0]+[fpr[2][1] for fpr in rates]+[1], [0]+[tpr[3][1] for tpr in rates]+[1],'-')\n",
      "plt.plot([0]+[fpr[2][1] for fpr in rates2]+[1], [0]+[tpr[3][1] for tpr in rates2]+[1],'-',color='grey')\n",
      "#plt.plot([fpr[2][1] for fpr in rates], [tpr[3][1] for tpr in rates],'-')\n",
      "plt.plot([0]+[fpr[1][2] for fpr in ls]+[1],[0]+[tpr[1][1] for tpr in ls]+[1],'-',color='green')\n",
      "plt.plot([0, 1], [0, 1], 'k--')\n",
      "#plt.xlim([0.0, 1])\n",
      "#plt.ylim([0, 1.05])\n",
      "plt.xlabel('False Positive Rate')\n",
      "plt.ylabel('True Positive Rate')\n",
      "plt.title('ROC')\n",
      "green= mpatches.Patch(color='green', label='Naive Bayes')\n",
      "blue = mpatches.Patch(color='blue', label='Random Forests')\n",
      "red = mpatches.Patch(color = 'grey', label='RF on Best Terms')\n",
      "plt.legend(handles=[green,blue,red],loc=\"lower right\")\n",
      "plt.show()"
     ],
     "language": "python",
     "metadata": {},
     "outputs": [
      {
       "metadata": {},
       "output_type": "display_data",
       "png": "[encoded data removed]",
       "text": [
        "<matplotlib.figure.Figure at 0x3b43afdd0>"
       ]
      }
     ],
     "prompt_number": 317
    },
    {
     "cell_type": "code",
     "collapsed": false,
     "input": [
      "rf.max_features"
     ],
     "language": "python",
     "metadata": {},
     "outputs": [
      {
       "metadata": {},
       "output_type": "pyout",
       "prompt_number": 392,
       "text": [
        "91"
       ]
      }
     ],
     "prompt_number": 392
    },
    {
     "cell_type": "code",
     "collapsed": false,
     "input": [
      "#accuracy\n",
      "importances = rf.feature_importances_\n",
      "std = np.std([tree.feature_importances_ for tree in rf.estimators_],\n",
      "             axis=0)\n",
      "indices = np.argsort(importances)[::-1]\n",
      "top_indices = indices[:200]\n",
      "# Print the feature ranking\n",
      "print(\"Feature ranking:\")\n",
      "\n",
      "for i in range(len(top_indices)):\n",
      "    print(\"%d. feature %d (%f) \" % (i + 1, top_indices[i], importances[top_indices[i]])\n",
      "          ,vectorizer.get_feature_names()[top_indices[i]])\n",
      "\n",
      "# Plot the feature importances of the forest\n",
      "# plt.figure()\n",
      "# plt.title(\"Feature importances\")\n",
      "# plt.bar(range(X.shape[1]), importances[indices],\n",
      "#        color=\"r\", yerr=std[indices], align=\"center\")\n",
      "# plt.xticks(range(X.shape[1]), indices)\n",
      "# plt.xlim([-1, X.shape[1]])\n",
      "# plt.show()"
     ],
     "language": "python",
     "metadata": {},
     "outputs": [
      {
       "output_type": "stream",
       "stream": "stdout",
       "text": [
        "Feature ranking:\n",
        "('1. feature 52 (0.086035) ', u'102')"
       ]
      },
      {
       "output_type": "stream",
       "stream": "stdout",
       "text": [
        "\n",
        "('2. feature 4 (0.040492) ', u'000th')\n",
        "('3. feature 84 (0.039753) ', u'1130p')"
       ]
      },
      {
       "output_type": "stream",
       "stream": "stdout",
       "text": [
        "\n",
        "('4. feature 16 (0.028626) ', u'01pm')"
       ]
      },
      {
       "output_type": "stream",
       "stream": "stdout",
       "text": [
        "\n",
        "('5. feature 38 (0.028435) ', u'10')\n",
        "('6. feature 23 (0.027874) ', u'05')"
       ]
      },
      {
       "output_type": "stream",
       "stream": "stdout",
       "text": [
        "\n",
        "('7. feature 75 (0.026414) ', u'11')"
       ]
      },
      {
       "output_type": "stream",
       "stream": "stdout",
       "text": [
        "\n",
        "('8. feature 33 (0.026375) ', u'08pm')"
       ]
      },
      {
       "output_type": "stream",
       "stream": "stdout",
       "text": [
        "\n",
        "('9. feature 54 (0.026325) ', u'1030p')"
       ]
      },
      {
       "output_type": "stream",
       "stream": "stdout",
       "text": [
        "\n",
        "('10. feature 90 (0.019445) ', u'117')"
       ]
      },
      {
       "output_type": "stream",
       "stream": "stdout",
       "text": [
        "\n",
        "('11. feature 70 (0.019187) ', u'10p')"
       ]
      },
      {
       "output_type": "stream",
       "stream": "stdout",
       "text": [
        "\n",
        "('12. feature 46 (0.018875) ', u'100x')"
       ]
      },
      {
       "output_type": "stream",
       "stream": "stdout",
       "text": [
        "\n",
        "('13. feature 73 (0.018390) ', u'10th')"
       ]
      },
      {
       "output_type": "stream",
       "stream": "stdout",
       "text": [
        "\n",
        "('14. feature 55 (0.018151) ', u'1030pm')"
       ]
      },
      {
       "output_type": "stream",
       "stream": "stdout",
       "text": [
        "\n",
        "('15. feature 12 (0.017739) ', u'00p')"
       ]
      },
      {
       "output_type": "stream",
       "stream": "stdout",
       "text": [
        "\n",
        "('16. feature 13 (0.016908) ', u'00pm')"
       ]
      },
      {
       "output_type": "stream",
       "stream": "stdout",
       "text": [
        "\n",
        "('17. feature 53 (0.015514) ', u'1030')"
       ]
      },
      {
       "output_type": "stream",
       "stream": "stdout",
       "text": [
        "\n",
        "('18. feature 86 (0.014459) ', u'1145')"
       ]
      },
      {
       "output_type": "stream",
       "stream": "stdout",
       "text": [
        "\n",
        "('19. feature 6 (0.014036) ', u'007')\n",
        "('20. feature 3 (0.013604) ', u'000pts')"
       ]
      },
      {
       "output_type": "stream",
       "stream": "stdout",
       "text": [
        "\n",
        "('21. feature 39 (0.013369) ', u'100')"
       ]
      },
      {
       "output_type": "stream",
       "stream": "stdout",
       "text": [
        "\n",
        "('22. feature 63 (0.013080) ', u'109')"
       ]
      },
      {
       "output_type": "stream",
       "stream": "stdout",
       "text": [
        "\n",
        "('23. feature 31 (0.012949) ', u'075')"
       ]
      },
      {
       "output_type": "stream",
       "stream": "stdout",
       "text": [
        "\n",
        "('24. feature 22 (0.012609) ', u'0400pm')"
       ]
      },
      {
       "output_type": "stream",
       "stream": "stdout",
       "text": [
        "\n",
        "('25. feature 85 (0.012376) ', u'1140pm')"
       ]
      },
      {
       "output_type": "stream",
       "stream": "stdout",
       "text": [
        "\n",
        "('26. feature 45 (0.012266) ', u'100th')"
       ]
      },
      {
       "output_type": "stream",
       "stream": "stdout",
       "text": [
        "\n",
        "('27. feature 1 (0.012178) ', u'000')"
       ]
      },
      {
       "output_type": "stream",
       "stream": "stdout",
       "text": [
        "\n",
        "('28. feature 9 (0.012154) ', u'00am')"
       ]
      },
      {
       "output_type": "stream",
       "stream": "stdout",
       "text": [
        "\n",
        "('29. feature 89 (0.011445) ', u'115')"
       ]
      },
      {
       "output_type": "stream",
       "stream": "stdout",
       "text": [
        "\n",
        "('30. feature 41 (0.011443) ', u'10000')"
       ]
      },
      {
       "output_type": "stream",
       "stream": "stdout",
       "text": [
        "\n",
        "('31. feature 34 (0.011038) ', u'09')\n",
        "('32. feature 44 (0.010985) ', u'100pp')"
       ]
      },
      {
       "output_type": "stream",
       "stream": "stdout",
       "text": [
        "\n",
        "('33. feature 11 (0.010891) ', u'00m')"
       ]
      },
      {
       "output_type": "stream",
       "stream": "stdout",
       "text": [
        "\n",
        "('34. feature 18 (0.010881) ', u'02pm')"
       ]
      },
      {
       "output_type": "stream",
       "stream": "stdout",
       "text": [
        "\n",
        "('35. feature 21 (0.010462) ', u'04')"
       ]
      },
      {
       "output_type": "stream",
       "stream": "stdout",
       "text": [
        "\n",
        "('36. feature 25 (0.010454) ', u'05f')"
       ]
      },
      {
       "output_type": "stream",
       "stream": "stdout",
       "text": [
        "\n",
        "('37. feature 51 (0.010021) ', u'1015pm')"
       ]
      },
      {
       "output_type": "stream",
       "stream": "stdout",
       "text": [
        "\n",
        "('38. feature 72 (0.009198) ', u'10stars')"
       ]
      },
      {
       "output_type": "stream",
       "stream": "stdout",
       "text": [
        "\n",
        "('39. feature 57 (0.008897) ', u'104')"
       ]
      },
      {
       "output_type": "stream",
       "stream": "stdout",
       "text": [
        "\n",
        "('40. feature 32 (0.008535) ', u'08')"
       ]
      },
      {
       "output_type": "stream",
       "stream": "stdout",
       "text": [
        "\n",
        "('41. feature 2 (0.008425) ', u'0001')"
       ]
      },
      {
       "output_type": "stream",
       "stream": "stdout",
       "text": [
        "\n",
        "('42. feature 56 (0.008185) ', u'103rd')"
       ]
      },
      {
       "output_type": "stream",
       "stream": "stdout",
       "text": [
        "\n",
        "('43. feature 37 (0.008032) ', u'0hrhiyftrpcfzxtoros')"
       ]
      },
      {
       "output_type": "stream",
       "stream": "stdout",
       "text": [
        "\n",
        "('44. feature 17 (0.007982) ', u'02')"
       ]
      },
      {
       "output_type": "stream",
       "stream": "stdout",
       "text": [
        "\n",
        "('45. feature 65 (0.007781) ', u'10min')"
       ]
      },
      {
       "output_type": "stream",
       "stream": "stdout",
       "text": [
        "\n",
        "('46. feature 79 (0.007648) ', u'111')"
       ]
      },
      {
       "output_type": "stream",
       "stream": "stdout",
       "text": [
        "\n",
        "('47. feature 0 (0.007588) ', u'00')\n",
        "('48. feature 48 (0.007483) ', u'100yr')"
       ]
      },
      {
       "output_type": "stream",
       "stream": "stdout",
       "text": [
        "\n",
        "('49. feature 58 (0.007471) ', u'104th')"
       ]
      },
      {
       "output_type": "stream",
       "stream": "stdout",
       "text": [
        "\n",
        "('50. feature 7 (0.007217) ', u'008')"
       ]
      },
      {
       "output_type": "stream",
       "stream": "stdout",
       "text": [
        "\n",
        "('51. feature 29 (0.007099) ', u'06')"
       ]
      },
      {
       "output_type": "stream",
       "stream": "stdout",
       "text": [
        "\n",
        "('52. feature 74 (0.007036) ', u'10x')"
       ]
      },
      {
       "output_type": "stream",
       "stream": "stdout",
       "text": [
        "\n",
        "('53. feature 71 (0.006907) ', u'10pm')"
       ]
      },
      {
       "output_type": "stream",
       "stream": "stdout",
       "text": [
        "\n",
        "('54. feature 15 (0.006902) ', u'01h')"
       ]
      },
      {
       "output_type": "stream",
       "stream": "stdout",
       "text": [
        "\n",
        "('55. feature 27 (0.006860) ', u'05p')"
       ]
      },
      {
       "output_type": "stream",
       "stream": "stdout",
       "text": [
        "\n",
        "('56. feature 26 (0.006662) ', u'05f9h9pe')"
       ]
      },
      {
       "output_type": "stream",
       "stream": "stdout",
       "text": [
        "\n",
        "('57. feature 42 (0.006516) ', u'1000th')"
       ]
      },
      {
       "output_type": "stream",
       "stream": "stdout",
       "text": [
        "\n",
        "('58. feature 40 (0.006419) ', u'1000')"
       ]
      },
      {
       "output_type": "stream",
       "stream": "stdout",
       "text": [
        "\n",
        "('59. feature 5 (0.006148) ', u'00489')"
       ]
      },
      {
       "output_type": "stream",
       "stream": "stdout",
       "text": [
        "\n",
        "('60. feature 87 (0.006136) ', u'1145a')"
       ]
      },
      {
       "output_type": "stream",
       "stream": "stdout",
       "text": [
        "\n",
        "('61. feature 78 (0.006108) ', u'1100th')"
       ]
      },
      {
       "output_type": "stream",
       "stream": "stdout",
       "text": [
        "\n",
        "('62. feature 64 (0.006059) ', u'10best')"
       ]
      },
      {
       "output_type": "stream",
       "stream": "stdout",
       "text": [
        "\n",
        "('63. feature 68 (0.005919) ', u'10month')"
       ]
      },
      {
       "output_type": "stream",
       "stream": "stdout",
       "text": [
        "\n",
        "('64. feature 10 (0.005253) ', u'00d476000f4303f3bfc3fbf6bd729d7e7282207a5abeabf970fcc7b9bf7b91c3')"
       ]
      },
      {
       "output_type": "stream",
       "stream": "stdout",
       "text": [
        "\n",
        "('65. feature 24 (0.005159) ', u'058th')"
       ]
      },
      {
       "output_type": "stream",
       "stream": "stdout",
       "text": [
        "\n",
        "('66. feature 67 (0.005002) ', u'10minutes')"
       ]
      },
      {
       "output_type": "stream",
       "stream": "stdout",
       "text": [
        "\n",
        "('67. feature 47 (0.004946) ', u'100year')\n"
       ]
      },
      {
       "output_type": "stream",
       "stream": "stdout",
       "text": [
        "('68. feature 77 (0.004868) ', u'1100')\n",
        "('69. feature 30 (0.004757) ', u'07')\n",
        "('70. feature 76 (0.004676) ', u'110')"
       ]
      },
      {
       "output_type": "stream",
       "stream": "stdout",
       "text": [
        "\n",
        "('71. feature 61 (0.004483) ', u'1063')"
       ]
      },
      {
       "output_type": "stream",
       "stream": "stdout",
       "text": [
        "\n",
        "('72. feature 62 (0.004457) ', u'108')"
       ]
      },
      {
       "output_type": "stream",
       "stream": "stdout",
       "text": [
        "\n",
        "('73. feature 83 (0.004301) ', u'1130am')"
       ]
      },
      {
       "output_type": "stream",
       "stream": "stdout",
       "text": [
        "\n",
        "('74. feature 82 (0.004263) ', u'1130')"
       ]
      },
      {
       "output_type": "stream",
       "stream": "stdout",
       "text": [
        "\n",
        "('75. feature 50 (0.004037) ', u'101')"
       ]
      },
      {
       "output_type": "stream",
       "stream": "stdout",
       "text": [
        "\n",
        "('76. feature 60 (0.003957) ', u'106')"
       ]
      },
      {
       "output_type": "stream",
       "stream": "stdout",
       "text": [
        "\n",
        "('77. feature 66 (0.003840) ', u'10mins')"
       ]
      },
      {
       "output_type": "stream",
       "stream": "stdout",
       "text": [
        "\n",
        "('78. feature 35 (0.003625) ', u'0b4pwqxfvxcnapz0uxmdlw')"
       ]
      },
      {
       "output_type": "stream",
       "stream": "stdout",
       "text": [
        "\n",
        "('79. feature 43 (0.003467) ', u'1000x')"
       ]
      },
      {
       "output_type": "stream",
       "stream": "stdout",
       "text": [
        "\n",
        "('80. feature 81 (0.003332) ', u'1120am')"
       ]
      },
      {
       "output_type": "stream",
       "stream": "stdout",
       "text": [
        "\n",
        "('81. feature 69 (0.003247) ', u'10oz')"
       ]
      },
      {
       "output_type": "stream",
       "stream": "stdout",
       "text": [
        "\n",
        "('82. feature 80 (0.003051) ', u'112')"
       ]
      },
      {
       "output_type": "stream",
       "stream": "stdout",
       "text": [
        "\n",
        "('83. feature 19 (0.003049) ', u'03')"
       ]
      },
      {
       "output_type": "stream",
       "stream": "stdout",
       "text": [
        "\n",
        "('84. feature 28 (0.002560) ', u'05pm')"
       ]
      },
      {
       "output_type": "stream",
       "stream": "stdout",
       "text": [
        "\n",
        "('85. feature 49 (0.002550) ', u'100yrs')"
       ]
      },
      {
       "output_type": "stream",
       "stream": "stdout",
       "text": [
        "\n",
        "('86. feature 88 (0.002117) ', u'1145am')"
       ]
      },
      {
       "output_type": "stream",
       "stream": "stdout",
       "text": [
        "\n",
        "('87. feature 36 (0.001998) ', u'0bcmzkz')"
       ]
      },
      {
       "output_type": "stream",
       "stream": "stdout",
       "text": [
        "\n",
        "('88. feature 8 (0.001942) ', u'009')"
       ]
      },
      {
       "output_type": "stream",
       "stream": "stdout",
       "text": [
        "\n",
        "('89. feature 59 (0.000378) ', u'105')"
       ]
      },
      {
       "output_type": "stream",
       "stream": "stdout",
       "text": [
        "\n",
        "('90. feature 20 (0.000171) ', u'03pm')"
       ]
      },
      {
       "output_type": "stream",
       "stream": "stdout",
       "text": [
        "\n",
        "('91. feature 14 (0.000057) ', u'01')"
       ]
      },
      {
       "output_type": "stream",
       "stream": "stdout",
       "text": [
        "\n"
       ]
      }
     ],
     "prompt_number": 389
    },
    {
     "cell_type": "code",
     "collapsed": false,
     "input": [
      "#most important features using chi2\n",
      "from sklearn.feature_selection import SelectKBest, chi2\n",
      "ch2 = SelectKBest(chi2, k = 100)\n",
      "K_best = ch2.fit_transform(X_train_features, train_y)\n",
      "print np.asarray(vectorizer.get_feature_names())[ch2.get_support()]"
     ],
     "language": "python",
     "metadata": {},
     "outputs": [
      {
       "output_type": "stream",
       "stream": "stdout",
       "text": [
        "[u'adams' u'ahhh' u'aint' u'ajjusshi' u'although' u'apologetic' u'arduous'\n",
        " u'artichokes' u'ashi' u'asians' u'assured' u'barbecuing' u'barking'\n",
        " u'becoming' u'bottle' u'breakers' u'bwwn' u'by' u'corey' u'courage'\n",
        " u'crabs' u'cupcake' u'cupertino' u'dairuma' u'dinned' u'disdainful'\n",
        " u'drapes' u'edamade' u'efficiently' u'emphatically' u'exceptionable'\n",
        " u'feint' u'flickr' u'flyer' u'fondue' u'fouls' u'foyer' u'frieds'\n",
        " u'gangstar' u'gatos' u'glassybaby' u'gluey' u'gno' u'have' u'holes'\n",
        " u'indicate' u'investigate' u'investigating' u'japense' u'japenses'\n",
        " u'juicy' u'junior' u'kabucha' u'kaki' u'knacks' u'lord' u'lrb' u'luckily'\n",
        " u'manipulate' u'manliness' u'media3' u'mesmerizing' u'mess' u'molded'\n",
        " u'nationally' u'onigiri' u'organizational' u'phillip' u'pier' u'pile'\n",
        " u'poured' u'prawns' u'procedures' u'publix' u'rawr' u'regrettably'\n",
        " u'scrolling' u'scrubbing' u'sequences' u'seven' u'sft' u'shots'\n",
        " u'shriveled' u'snipe' u'soho' u'soleil' u'spiffy' u'stories' u'storing'\n",
        " u'stowell' u'stressing' u'stromed' u'stuck' u'studied' u'suckssss'\n",
        " u'superfire' u'sushiwhores' u'swear' u'sweatin' u'sweetest']\n"
       ]
      }
     ],
     "prompt_number": 102
    },
    {
     "cell_type": "code",
     "collapsed": false,
     "input": [
      "execfile('read_restaurants_txt.py')\n",
      "restaurants=read_restaurants_txt()"
     ],
     "language": "python",
     "metadata": {},
     "outputs": [],
     "prompt_number": 4
    },
    {
     "cell_type": "code",
     "collapsed": false,
     "input": [
      "#plot distribution for pandas data\n",
      "import matplotlib.pyplot as plt\n",
      "plt.hist(restaurants.rating.astype(float))\n",
      "plt.xlabel('Rating')\n",
      "plt.title('Rating Distribution')\n",
      "plt.show()"
     ],
     "language": "python",
     "metadata": {},
     "outputs": [
      {
       "metadata": {},
       "output_type": "display_data",
       "png": "[encoded data removed]",
       "text": [
        "<matplotlib.figure.Figure at 0x12716b410>"
       ]
      }
     ],
     "prompt_number": 319
    },
    {
     "cell_type": "code",
     "collapsed": false,
     "input": [
      "'do'"
     ],
     "language": "python",
     "metadata": {},
     "outputs": [
      {
       "metadata": {},
       "output_type": "pyout",
       "prompt_number": 230,
       "text": [
        "'do'"
       ]
      }
     ],
     "prompt_number": 230
    },
    {
     "cell_type": "code",
     "collapsed": false,
     "input": [],
     "language": "python",
     "metadata": {},
     "outputs": []
    }
   ],
   "metadata": {}
  }
 ]
}
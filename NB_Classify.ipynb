{
 "metadata": {
  "name": "",
  "signature": "sha256:8bd5b9475cacf908cf9fb5b353250e0bc012fb6342436afd984b82484c58f3e3"
 },
 "nbformat": 3,
 "nbformat_minor": 0,
 "worksheets": [
  {
   "cells": [
    {
     "cell_type": "code",
     "collapsed": false,
     "input": [
      "%cd~/GitHub/Yelp_reviews\n",
      "execfile('read_reviews_txt.py')"
     ],
     "language": "python",
     "metadata": {},
     "outputs": [
      {
       "output_type": "stream",
       "stream": "stdout",
       "text": [
        "/Users/xiaobaby/GitHub/Yelp_reviews\n"
       ]
      }
     ],
     "prompt_number": 4
    },
    {
     "cell_type": "code",
     "collapsed": false,
     "input": [
      "reviews=read_reviews_txt('reviews_0_50.txt')"
     ],
     "language": "python",
     "metadata": {},
     "outputs": [],
     "prompt_number": 7
    },
    {
     "cell_type": "code",
     "collapsed": false,
     "input": [
      "len(reviews)"
     ],
     "language": "python",
     "metadata": {},
     "outputs": [
      {
       "metadata": {},
       "output_type": "pyout",
       "prompt_number": 11,
       "text": [
        "21675"
       ]
      }
     ],
     "prompt_number": 11
    },
    {
     "cell_type": "code",
     "collapsed": false,
     "input": [
      "#plot distribution for pandas data\n",
      "pd.options.display.mpl_style = 'default'\n",
      "reviews.review_rating.astype(float).hist()"
     ],
     "language": "python",
     "metadata": {},
     "outputs": [
      {
       "metadata": {},
       "output_type": "pyout",
       "prompt_number": 13,
       "text": [
        "<matplotlib.axes._subplots.AxesSubplot at 0x10dd22050>"
       ]
      },
      {
       "metadata": {},
       "output_type": "display_data",
       "png": "[encoded data removed]",
       "text": [
        "<matplotlib.figure.Figure at 0x10dd49090>"
       ]
      }
     ],
     "prompt_number": 13
    },
    {
     "cell_type": "code",
     "collapsed": false,
     "input": [
      "#review tokenizer(& punctuation stripper)\n",
      "punctuations = set(['[','!','#','\"','%','&','\\\\','(',')','*'\n",
      "                    ,'+',',','-','.','/',':',';','<','=','>','?','@','[',']','^','_','`','{','|','}','~',']'])\n",
      "strip_punctuations = lambda x: ''.join([i if i not in punctuations else ' ' for i in x ])\n",
      "reviews['words']=[strip_punctuations(r.lower()).split() for r in reviews.review]"
     ],
     "language": "python",
     "metadata": {},
     "outputs": [],
     "prompt_number": 313
    },
    {
     "cell_type": "code",
     "collapsed": false,
     "input": [
      "print reviews.words[5]"
     ],
     "language": "python",
     "metadata": {},
     "outputs": [
      {
       "output_type": "stream",
       "stream": "stdout",
       "text": [
        "[u'the', u'short', u'i', u'love', u'this', u'place', u\"i'm\", u'salivating', u'while', u'writing', u'this', u'review', u'ambiance', u'very', u'nice', u'options', u'to', u'sit', u'on', u'tatami', u'mat', u'with', u'feet', u'on', u'the', u'ground', u'need', u'to', u'take', u'shoes', u'off', u'at', u'a', u'regular', u'table', u'at', u'a', u'mini', u'counter', u'bar', u'or', u'a', u'screened', u'area', u'on', u'the', u'two', u'occasions', u'that', u\"i've\", u'been', u'to', u'gochi', u\"i've\", u'overheard', u'japanese', u'people', u'talking', u'i', u'love', u'it', u'because', u\"that's\", u'always', u'a', u'sign', u'that', u'they', u'equally', u'think', u'the', u'food', u'is', u'authentic', u'and', u'delicious', u'service', u'phenomenal', u'all', u'the', u'waiters', u'are', u'very', u'kind', u'very', u'patient', u'and', u'very', u'attentive', u'they', u'were', u'never', u'gone', u'for', u'too', u'long', u'nor', u'were', u'they', u'breathing', u'down', u'our', u'backs', u'food', u'amazing', u'really', u'fresh', u'and', u'the', u'food', u'has', u'a', u'lot', u'of', u'unique', u'flavors', u'that', u'are', u'very', u'rare', u'in', u'other', u'japanese', u'restaurants', u'i', u'thought', u'i', u'had', u'written', u'down', u'everything', u'we', u'had', u'ordered', u'but', u'i', u'lost', u'it', u'i', u'do', u'remember', u'that', u'the', u'unagi', u'pizza', u'was', u'a', u'very', u'memorable', u'dish', u'there', u'was', u'no', u'dish', u'that', u'i', u\"didn't\", u'like', u'in', u'fact', u'there', u'were', u'many', u'dishes', u'that', u'i', u'loved', u\"there's\", u'a', u'paper', u'menu', u'with', u'daily', u'specials', u'and', u'a', u'regular', u'menu', u'with', u'everyday', u'food', u\"there's\", u'also', u'a', u'glutenfree', u'menu', u'thanks', u'gochi', u'for', u'the', u'memorable', u'experience', u'i', u'hope', u'to', u'frequent', u'you', u'more', u'often', u'tip', u'make', u'a', u'reservation']\n"
       ]
      }
     ],
     "prompt_number": 303
    },
    {
     "cell_type": "code",
     "collapsed": false,
     "input": [
      "#apply naive bayes classifier\n",
      "import collections, itertools\n",
      "import nltk.classify.util, nltk.metrics\n",
      "from nltk.classify import NaiveBayesClassifier\n",
      "from nltk.corpus import stopwords\n",
      "from nltk.collocations import *\n",
      "from nltk.metrics import BigramAssocMeasures,scores\n",
      "from nltk.probability import FreqDist, ConditionalFreqDist\n",
      "\n",
      "\n",
      "#create bag of words\n",
      "def all_words(data):\n",
      "    dic={}\n",
      "    for label in data.keys():\n",
      "        tokens = []\n",
      "        for words in data[label]:\n",
      "            tokens += words\n",
      "        dic[label] = tokens\n",
      "    return dic\n",
      "\n",
      "\n",
      "#initial run, include all words in analysis\n",
      "def word_feats(words):\n",
      "    return dict([(word.lower(), True) for word in words])    \n",
      "  "
     ],
     "language": "python",
     "metadata": {},
     "outputs": [],
     "prompt_number": 41
    },
    {
     "cell_type": "code",
     "collapsed": false,
     "input": [
      "#identify significant features                      ----nBestWords N, minFreq\n",
      "def get_nBestFeatures(labeled_words, N = 50):\n",
      "    word_fd = FreqDist()\n",
      "    label_word_fd = ConditionalFreqDist()\n",
      "    \n",
      "    #word count\n",
      "    word_count = {'total':0}\n",
      "    \n",
      "    for label in labeled_words.keys():\n",
      "        for word in labeled_words[label]:\n",
      "            word_fd[word.lower()]+=1\n",
      "            label_word_fd[label][word.lower()]+=1\n",
      "        word_count[label] = label_word_fd[label].N()\n",
      "        word_count['total'] += word_count[label]\n",
      "    \n",
      "    word_scores = {}\n",
      "    \n",
      "    for word, freq in word_fd.iteritems():\n",
      "        word_scores[word] = 0\n",
      "        for label in labeled_words.keys():\n",
      "            word_scores[word] += BigramAssocMeasures.chi_sq(label_word_fd[label][word],\n",
      "                (freq, word_count[label]), word_count['total'])            \n",
      "            \n",
      "    best = sorted(word_scores.iteritems(), key=lambda (w,s): s, reverse=True)[:N]\n",
      "    bestwords = set([w for w, s in best if word_fd[w]>=minFreq])\n",
      "    return bestwords\n",
      "\n",
      "#second run, include only nBestWords    \n",
      "def best_word_feats(words,bestwords):\n",
      "    return dict([(word, True) for word in words if word in bestwords])"
     ],
     "language": "python",
     "metadata": {},
     "outputs": [],
     "prompt_number": 114
    },
    {
     "cell_type": "code",
     "collapsed": false,
     "input": [
      "#identify n-grams       ---minFreq, nBestNGrams , n best ngram features\n",
      "def find_ngrams(data):\n",
      "    volcabulary = []\n",
      "    for sublist in all_words(data).values():\n",
      "        volcabulary += sublist\n",
      "        \n",
      "    bigram_finder = BigramCollocationFinder.from_words(volcabulary)\n",
      "    bigram_finder.apply_freq_filter(minFreq)\n",
      "    bigrams = bigram_finder.nbest(BigramAssocMeasures.pmi, 200)\n",
      "    trigram_finder = TrigramCollocationFinder.from_words(volcabulary)\n",
      "    trigram_finder.apply_freq_filter(minFreq-2)\n",
      "    trigram_measures = nltk.collocations.TrigramAssocMeasures()\n",
      "    trigrams = trigram_finder.nbest(trigram_measures.pmi, 200)\n",
      "    return bigrams+trigrams\n",
      " \n",
      "#final run, include n-grams     \n",
      "def best_ngram_word_feats(words, ngrams, bestwords, score_fn=BigramAssocMeasures.chi_sq):\n",
      "    bigram_finder = BigramCollocationFinder.from_words(words)\n",
      "    bigrams_ = bigram_finder.nbest(BigramAssocMeasures.pmi, nBestNGrams)\n",
      "    trigram_finder = TrigramCollocationFinder.from_words(words)\n",
      "    trigram_measures = nltk.collocations.TrigramAssocMeasures()\n",
      "    trigrams_ = trigram_finder.nbest(trigram_measures.pmi, nBestNGrams)\n",
      "    d = dict([(ngram, True) for ngram in bigrams_+trigrams_ if ngram in ngrams])\n",
      "    d.update(best_word_feats(words,bestwords))\n",
      "    return d"
     ],
     "language": "python",
     "metadata": {},
     "outputs": [],
     "prompt_number": 115
    },
    {
     "cell_type": "code",
     "collapsed": false,
     "input": [
      "def evaluate_classifier(data,featx):\n",
      "    \n",
      "    bestwords = get_nBestFeatures(all_words(data),N=nBestFeatures)\n",
      "    if best_word_feats==featx:\n",
      "        features = {label:[(featx(words,bestwords),label) for words in data[label]] for label in data.keys()}\n",
      "    elif best_ngram_word_feats==featx:\n",
      "        ngrams = find_ngrams(data)\n",
      "        features = {label:[(featx(words,ngrams,bestwords),label) for words in data[label]] for label in data.keys()}\n",
      "    else:\n",
      "        features={label:[(featx(words),label) for words in data[label]] for label in data.keys()}\n",
      "    \n",
      "    for label in features.keys():\n",
      "        print (label + 'sample = %i' %len(features[label]))\n",
      "        \n",
      "    trainfeats = []\n",
      "    testfeats = []\n",
      "    for label in features.keys():\n",
      "        trainfeats += features[label][:len(features[label])*3/4] #decide size of train/test cutoff here\n",
      "        testfeats += features[label][len(features[label])*3/4:]\n",
      "        \n",
      "    print 'training size:  %i, testing size: %i' %(len(trainfeats),len(testfeats))\n",
      " \n",
      "    classifier = NaiveBayesClassifier.train(trainfeats)\n",
      "    refsets = collections.defaultdict(set)  \n",
      "    testsets = collections.defaultdict(set)   \n",
      " \n",
      "    for i, (feats, label) in enumerate(testfeats):\n",
      "            refsets[label].add(i)\n",
      "            observed = classifier.classify(feats)\n",
      "            testsets[observed].add(i)\n",
      " \n",
      "    print 'accuracy:', nltk.classify.util.accuracy(classifier, testfeats)\n",
      "    #return nltk.classify.util.accuracy(classifier, testfeats)\n",
      "    if(len(features)==2):\n",
      "        print 'pos precision:', scores.precision(refsets['pos'], testsets['pos'])\n",
      "        print 'pos recall:', scores.recall(refsets['pos'], testsets['pos'])\n",
      "        print 'neg precision:', scores.precision(refsets['neg'], testsets['neg'])\n",
      "        print 'neg recall:', scores.recall(refsets['neg'], testsets['neg'])\n",
      "    classifier.show_most_informative_features(n=15)\n",
      "    #return (nltk.classify.util.accuracy(classifier, testfeats),scores.recall(refsets['pos'], testsets['pos']))\n",
      "    "
     ],
     "language": "python",
     "metadata": {},
     "outputs": [],
     "prompt_number": 154
    },
    {
     "cell_type": "code",
     "collapsed": false,
     "input": [
      "a_documents = reviews.words[reviews.review_rating.astype(float)>4.5]\n",
      "b_documents = reviews.words[reviews.review_rating.astype(float)==4]\n",
      "c_documents = reviews.words[reviews.review_rating.astype(float)==3]\n",
      "d_documents = reviews.words[reviews.review_rating.astype(float)<2.5]\n",
      "data = {\n",
      "        '5':a_documents,\n",
      "        '4':b_documents,\n",
      "        '3':c_documents,\n",
      "        '2':d_documents\n",
      "        }\n",
      "\n",
      "\n",
      "#only take the top nBest important features of all into account\n",
      "nBestFeatures=50\n",
      "#ignore words with <minFreq\n",
      "minFreq=50\n",
      "#top n ngrams for EACH review\n",
      "nBestNGrams=50\n",
      "\n",
      "\n",
      "#print 'evaluating single word features'\n",
      "#evaluate_classifier(data,word_feats)\n",
      "\n",
      "\n",
      " \n",
      "print 'evaluating best word features'\n",
      "evaluate_classifier(data,best_word_feats)\n",
      "\n",
      "\n",
      " \n",
      "print 'evaluating best words + bigram chi_sq word features'\n",
      "evaluate_classifier(data,best_ngram_word_feats)"
     ],
     "language": "python",
     "metadata": {},
     "outputs": [
      {
       "output_type": "stream",
       "stream": "stdout",
       "text": [
        "evaluating best word features\n",
        "3sample = 3005"
       ]
      },
      {
       "output_type": "stream",
       "stream": "stdout",
       "text": [
        "\n",
        "2sample = 2367\n",
        "5sample = 8724\n",
        "4sample = 7579\n",
        "training size:  16255, testing size: 5420\n",
        "accuracy:"
       ]
      },
      {
       "output_type": "stream",
       "stream": "stdout",
       "text": [
        " 0.503505535055\n",
        "Most Informative Features\n",
        "                   worst = True                2 : 5      =     84.1 : 1.0\n",
        "                terrible = True                2 : 5      =     32.7 : 1.0\n",
        "                horrible = True                2 : 5      =     28.4 : 1.0\n",
        "                    rude = True                2 : 5      =     20.2 : 1.0\n",
        "           disappointing = True                2 : 5      =     19.0 : 1.0\n",
        "                mediocre = True                2 : 5      =     18.4 : 1.0\n",
        "                    okay = True                3 : 5      =      9.1 : 1.0\n",
        "                 average = True                3 : 5      =      8.9 : 1.0\n",
        "                 manager = True                2 : 4      =      8.4 : 1.0\n",
        "                  decent = True                3 : 5      =      7.2 : 1.0\n",
        "                 amazing = True                5 : 2      =      6.4 : 1.0\n",
        "                      ok = True                3 : 5      =      5.9 : 1.0\n",
        "                   asked = True                2 : 5      =      5.7 : 1.0\n",
        "                 minutes = True                2 : 5      =      5.5 : 1.0\n",
        "               delicious = True                5 : 2      =      5.5 : 1.0\n",
        "evaluating best words + bigram chi_sq word features\n",
        "3sample = 3005"
       ]
      },
      {
       "output_type": "stream",
       "stream": "stdout",
       "text": [
        "\n",
        "2sample = 2367\n",
        "5sample = 8724\n",
        "4sample = 7579\n",
        "training size:  16255, testing size: 5420\n",
        "accuracy:"
       ]
      },
      {
       "output_type": "stream",
       "stream": "stdout",
       "text": [
        " 0.514760147601\n",
        "Most Informative Features\n",
        "                   worst = True                2 : 5      =     84.1 : 1.0\n",
        "                terrible = True                2 : 5      =     32.7 : 1.0\n",
        "       (u'35', u'stars') = True                3 : 2      =     28.6 : 1.0\n",
        "                horrible = True                2 : 5      =     28.4 : 1.0\n",
        "   (u'took', u'forever') = True                3 : 5      =     24.2 : 1.0\n",
        "(u'will', u'definitely', u'be') = True                5 : 3      =     23.3 : 1.0\n",
        "(u'nothing', u'to', u'write') = True                3 : 5      =     20.3 : 1.0\n",
        "                    rude = True                2 : 5      =     20.2 : 1.0\n",
        "           disappointing = True                2 : 5      =     19.0 : 1.0\n",
        "                mediocre = True                2 : 5      =     18.4 : 1.0\n",
        "     (u'hands', u'down') = True                5 : 2      =     17.4 : 1.0\n",
        "      (u'flag', u'down') = True                3 : 5      =     16.8 : 1.0\n",
        "(u'highly', u'recommend') = True                5 : 2      =     16.7 : 1.0\n",
        "(u'green', u'tea', u'creme') = True                4 : 2      =     16.1 : 1.0\n",
        "(u'i', u'highly', u'recommend') = True                5 : 2      =     15.7 : 1.0\n"
       ]
      }
     ],
     "prompt_number": 155
    },
    {
     "cell_type": "code",
     "collapsed": false,
     "input": [
      "from sklearn.feature_extraction.text import TfidfVectorizer"
     ],
     "language": "python",
     "metadata": {},
     "outputs": [],
     "prompt_number": 261
    },
    {
     "cell_type": "code",
     "collapsed": false,
     "input": [
      "positive_docs=[' '.join(words) for words in reviews.words[reviews.review_rating.astype(float)==5]]\n",
      "negative_docs=[' '.join(words) for words in reviews.words[reviews.review_rating.astype(float)<2.5]]\n",
      "y=['pos']*len(positive_docs)+['neg']*len(negative_docs)\n",
      "train_x = positive_docs[:len(positive_docs)*3/4]+negative_docs[:len(negative_docs)*3/4]\n",
      "train_y = ['pos']*(len(positive_docs)*3/4)+['neg']*(len(negative_docs)*3/4)\n",
      "test_x = positive_docs[len(positive_docs)*3/4:]+negative_docs[len(negative_docs)*3/4:]\n",
      "test_y = ['pos']*(len(positive_docs)-len(positive_docs)*3/4)+['neg']*(len(negative_docs)-len(negative_docs)*3/4)"
     ],
     "language": "python",
     "metadata": {},
     "outputs": [],
     "prompt_number": 334
    },
    {
     "cell_type": "code",
     "collapsed": false,
     "input": [
      "vectorizer = TfidfVectorizer()\n",
      "X_train_features = vectorizer.fit_transform(train_x)"
     ],
     "language": "python",
     "metadata": {},
     "outputs": [],
     "prompt_number": 337
    },
    {
     "cell_type": "code",
     "collapsed": false,
     "input": [
      "from sklearn.naive_bayes import MultinomialNB\n",
      "NBclf = MultinomialNB()\n",
      "model = NBclf.fit_transform(positive_docs+negative_docs,y)"
     ],
     "language": "python",
     "metadata": {},
     "outputs": [],
     "prompt_number": 275
    },
    {
     "cell_type": "code",
     "collapsed": false,
     "input": [
      "print len(vectorizer.get_feature_names())\n",
      "X_train_features.shape\n"
     ],
     "language": "python",
     "metadata": {},
     "outputs": [
      {
       "output_type": "stream",
       "stream": "stdout",
       "text": [
        "18685\n"
       ]
      },
      {
       "metadata": {},
       "output_type": "pyout",
       "prompt_number": 342,
       "text": [
        "(8318, 18685)"
       ]
      }
     ],
     "prompt_number": 342
    },
    {
     "cell_type": "code",
     "collapsed": false,
     "input": [
      "from sklearn.feature_selection import SelectKBest, chi2\n",
      "ch2 = SelectKBest(chi2, k = 5000)\n",
      "K_best = ch2.fit_transform(X_train_features, train_y)"
     ],
     "language": "python",
     "metadata": {},
     "outputs": [],
     "prompt_number": 346
    },
    {
     "cell_type": "code",
     "collapsed": false,
     "input": [
      "print np.asarray(vectorizer.get_feature_names())[ch2.get_support()]"
     ],
     "language": "python",
     "metadata": {},
     "outputs": [
      {
       "output_type": "stream",
       "stream": "stdout",
       "text": [
        "[u'00' u'007' u'008' ..., u'zhajiangmian' u'zuma' u'zzzzzzzzz']\n"
       ]
      }
     ],
     "prompt_number": 351
    },
    {
     "cell_type": "code",
     "collapsed": false,
     "input": [
      "for i in reviews.index[reviews.review_rating.astype(float)==5]:\n",
      "    if 'addictingto' in reviews.words[i]:\n",
      "        print reviews.loc[i].review\n",
      "        print reviews.loc[i].words\n",
      "        print i"
     ],
     "language": "python",
     "metadata": {},
     "outputs": [],
     "prompt_number": 314
    },
    {
     "cell_type": "code",
     "collapsed": false,
     "input": [
      "reviews.words[6568]"
     ],
     "language": "python",
     "metadata": {},
     "outputs": [
      {
       "metadata": {},
       "output_type": "pyout",
       "prompt_number": 315,
       "text": [
        "[u'i',\n",
        " u'think',\n",
        " u'their',\n",
        " u'soup',\n",
        " u'bases',\n",
        " u'are',\n",
        " u'quite',\n",
        " u'unique',\n",
        " u'and',\n",
        " u'the',\n",
        " u'soy',\n",
        " u'milk',\n",
        " u'and',\n",
        " u'spicy',\n",
        " u'kimchi',\n",
        " u'ones',\n",
        " u'are',\n",
        " u'especially',\n",
        " u'addicting',\n",
        " u'to',\n",
        " u'me']"
       ]
      }
     ],
     "prompt_number": 315
    },
    {
     "cell_type": "code",
     "collapsed": false,
     "input": [
      "12.9+12.9+3.3+9.9"
     ],
     "language": "python",
     "metadata": {},
     "outputs": [
      {
       "metadata": {},
       "output_type": "pyout",
       "prompt_number": 352,
       "text": [
        "39.0"
       ]
      }
     ],
     "prompt_number": 352
    },
    {
     "cell_type": "code",
     "collapsed": false,
     "input": [
      "39/10"
     ],
     "language": "python",
     "metadata": {},
     "outputs": [
      {
       "metadata": {},
       "output_type": "pyout",
       "prompt_number": 353,
       "text": [
        "3"
       ]
      }
     ],
     "prompt_number": 353
    },
    {
     "cell_type": "code",
     "collapsed": false,
     "input": [
      "144*.75\n"
     ],
     "language": "python",
     "metadata": {},
     "outputs": [
      {
       "metadata": {},
       "output_type": "pyout",
       "prompt_number": 354,
       "text": [
        "108.0"
       ]
      }
     ],
     "prompt_number": 354
    },
    {
     "cell_type": "code",
     "collapsed": false,
     "input": [
      "    "
     ],
     "language": "python",
     "metadata": {},
     "outputs": []
    }
   ],
   "metadata": {}
  }
 ]
}
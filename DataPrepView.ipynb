{
 "metadata": {
  "name": "",
  "signature": "sha256:78600a7b3717e6669bc7d0bea27fe6d56f99452297df21f14edda262f12dceff"
 },
 "nbformat": 3,
 "nbformat_minor": 0,
 "worksheets": [
  {
   "cells": [
    {
     "cell_type": "code",
     "collapsed": false,
     "input": [
      "import argparse\n",
      "import json\n",
      "import pprint\n",
      "import sys\n",
      "import urllib\n",
      "import urllib2\n",
      "\n",
      "import oauth2\n",
      "import httplib2"
     ],
     "language": "python",
     "metadata": {},
     "outputs": [],
     "prompt_number": 1
    },
    {
     "cell_type": "code",
     "collapsed": false,
     "input": [
      "API_HOST = 'api.yelp.com'\n",
      "DEFAULT_TERM = 'japanese restaurant'\n",
      "DEFAULT_LOCATION = 'Cupertino, CA'\n",
      "SEARCH_LIMIT = 10\n",
      "SEARCH_PATH = '/v2/search/'\n",
      "BUSINESS_PATH = '/v2/business/'\n",
      "#determine the search terms from here\n",
      "#Restaurant locations\n",
      "LOCATION_LIST=['bethesda, MD','Cupertino, CA','Miami, FL', \n",
      "               'Salt Lake City', 'Seattle']\n",
      "#Search key terms\n",
      "TERM_LIST=['japanese']\n",
      "\n",
      "#load keys\n",
      "execfile('userConfig.py')"
     ],
     "language": "python",
     "metadata": {},
     "outputs": [],
     "prompt_number": 33
    },
    {
     "cell_type": "code",
     "collapsed": false,
     "input": [
      "def request(host, path, url_params=None):\n",
      "    \"\"\"Prepares OAuth authentication and sends the request to the API.\n",
      "    Args:\n",
      "        host (str): The domain host of the API.\n",
      "        path (str): The path of the API after the domain.\n",
      "        url_params (dict): An optional set of query parameters in the request.\n",
      "    Returns:\n",
      "        dict: The JSON response from the request.\n",
      "    Raises:\n",
      "        urllib2.HTTPError: An error occurs from the HTTP request.\n",
      "    \"\"\"\n",
      "    url_params = url_params or {}\n",
      "    url = 'https://{0}{1}?'.format(host, urllib.quote(path.encode('utf8')))\n",
      "\n",
      "    consumer = oauth2.Consumer(CONSUMER_KEY, CONSUMER_SECRET)\n",
      "    oauth_request = oauth2.Request(method=\"GET\", url=url, parameters=url_params)\n",
      "\n",
      "    oauth_request.update(\n",
      "        {\n",
      "            'oauth_nonce': oauth2.generate_nonce(),\n",
      "            'oauth_timestamp': oauth2.generate_timestamp(),\n",
      "            'oauth_token': TOKEN,\n",
      "            'oauth_consumer_key': CONSUMER_KEY\n",
      "        }\n",
      "    )\n",
      "    token = oauth2.Token(TOKEN, TOKEN_SECRET)\n",
      "    oauth_request.sign_request(oauth2.SignatureMethod_HMAC_SHA1(), consumer, token)\n",
      "    signed_url = oauth_request.to_url()\n",
      "    \n",
      "    print u'Querying {0} ...'.format(url)\n",
      "\n",
      "    conn = urllib2.urlopen(signed_url, None)\n",
      "    try:\n",
      "        response = json.loads(conn.read())\n",
      "    finally:\n",
      "        conn.close()\n",
      "\n",
      "    return response\n",
      "\n",
      "def search(term, location):\n",
      "    \"\"\"Query the Search API by a search term and location.\n",
      "    Args:\n",
      "        term (str): The search term passed to the API.\n",
      "        location (str): The search location passed to the API.\n",
      "    Returns:\n",
      "        dict: The JSON response from the request.\n",
      "    \"\"\"\n",
      "    \n",
      "    url_params = {\n",
      "        'term': term.replace(' ', '+'),\n",
      "        'location': location.replace(' ', '+'),\n",
      "        'limit': SEARCH_LIMIT\n",
      "    }\n",
      "    print(url_params)\n",
      "    print(SEARCH_PATH)\n",
      "    return request(API_HOST, SEARCH_PATH, url_params=url_params)"
     ],
     "language": "python",
     "metadata": {},
     "outputs": [],
     "prompt_number": 34
    },
    {
     "cell_type": "code",
     "collapsed": false,
     "input": [
      "def get_business(business_id):\n",
      "    \"\"\"Query the Business API by a business ID.\n",
      "    Args:\n",
      "        business_id (str): The ID of the business to query.\n",
      "    Returns:\n",
      "        dict: The JSON response from the request.\n",
      "    \"\"\"\n",
      "    business_path = BUSINESS_PATH + business_id\n",
      "\n",
      "    return request(API_HOST, business_path)\n"
     ],
     "language": "python",
     "metadata": {},
     "outputs": [],
     "prompt_number": 35
    },
    {
     "cell_type": "code",
     "collapsed": false,
     "input": [
      "def query_api(term, location):\n",
      "    \"\"\"Queries the API by the input values from the user.\n",
      "    Args:\n",
      "        term (str): The search term to query.\n",
      "        location (str): The location of the business to query.\n",
      "    \"\"\"\n",
      "    response = search(term, location)\n",
      "\n",
      "\n",
      "    businesses = response.get('businesses')\n",
      "\n",
      "    if not businesses:\n",
      "        print u'No businesses for {0} in {1} found.'.format(term, location)\n",
      "        return\n",
      "\n",
      "    business_id = businesses[0]['id']\n",
      "\n",
      "    print u'{0} businesses found, querying business info for the top result \"{1}\" ...'.format(\n",
      "        len(businesses),\n",
      "        business_id\n",
      "    )\n",
      "\n",
      "    response = get_business(business_id)\n",
      "\n",
      "#     print u'Result for business \"{0}\" found:'.format(business_id)\n",
      "#     pprint.pprint(response, indent=2)\n",
      "\n",
      "    return businesses"
     ],
     "language": "python",
     "metadata": {},
     "outputs": [],
     "prompt_number": 36
    },
    {
     "cell_type": "code",
     "collapsed": false,
     "input": [
      "def main():\n",
      "    parser = argparse.ArgumentParser()\n",
      "\n",
      "    parser.add_argument('-q', '--term', dest='term', default=DEFAULT_TERM, type=str, help='Search term (default: %(default)s)')\n",
      "    parser.add_argument('-l', '--location', dest='location', default=DEFAULT_LOCATION, type=str, help='Search location (default: %(default)s)')\n",
      "\n",
      "    input_values = parser.parse_known_args()\n",
      "    try:\n",
      "        query_api(input_values[0].term, input_values[0].location)\n",
      "    except urllib2.HTTPError as error:\n",
      "        sys.exit('Encountered HTTP error {0}. Abort program.'.format(error.code))\n",
      "\n",
      "\n",
      "# if __name__ == '__main__':\n",
      "#     main()"
     ],
     "language": "python",
     "metadata": {},
     "outputs": [],
     "prompt_number": 37
    },
    {
     "cell_type": "code",
     "collapsed": false,
     "input": [
      "#search for restaurants from YelpAPI\n",
      "def getJSON(term,location):\n",
      "    parser = argparse.ArgumentParser()\n",
      "\n",
      "    parser.add_argument('-q', '--term', dest='term', default=term, type=str, help='Search term (default: %(default)s)')\n",
      "    parser.add_argument('-l', '--location', dest='location', default=location, type=str, help='Search location (default: %(default)s)')\n",
      "\n",
      "    input_values = parser.parse_known_args()\n",
      "    try:\n",
      "        return query_api(input_values[0].term, input_values[0].location)\n",
      "    except urllib2.HTTPError as error:\n",
      "        sys.exit('Encountered HTTP error {0}. Abort program.'.format(error.code))"
     ],
     "language": "python",
     "metadata": {},
     "outputs": [],
     "prompt_number": 38
    },
    {
     "cell_type": "code",
     "collapsed": false,
     "input": [
      "#response from YelpAPI\n",
      "businesses=[getJSON(term,loc) for loc in LOCATION_LIST for term in TERM_LIST]"
     ],
     "language": "python",
     "metadata": {},
     "outputs": [
      {
       "output_type": "stream",
       "stream": "stdout",
       "text": [
        "{'term': 'japanese', 'limit': 10, 'location': 'bethesda,+MD'}\n",
        "/v2/search/\n",
        "Querying https://api.yelp.com/v2/search/? ...\n",
        "10 businesses found, querying business info for the top result \"yuzu-japanese-dining-bethesda\" ..."
       ]
      },
      {
       "output_type": "stream",
       "stream": "stdout",
       "text": [
        "\n",
        "Querying https://api.yelp.com/v2/business/yuzu-japanese-dining-bethesda? ...\n",
        "{'term': 'japanese', 'limit': 10, 'location': 'Cupertino,+CA'}"
       ]
      },
      {
       "output_type": "stream",
       "stream": "stdout",
       "text": [
        "\n",
        "/v2/search/\n",
        "Querying https://api.yelp.com/v2/search/? ...\n",
        "10 businesses found, querying business info for the top result \"gochi-japanese-fusion-tapas-cupertino\" ..."
       ]
      },
      {
       "output_type": "stream",
       "stream": "stdout",
       "text": [
        "\n",
        "Querying https://api.yelp.com/v2/business/gochi-japanese-fusion-tapas-cupertino? ...\n",
        "{'term': 'japanese', 'limit': 10, 'location': 'Miami,+FL'}"
       ]
      },
      {
       "output_type": "stream",
       "stream": "stdout",
       "text": [
        "\n",
        "/v2/search/\n",
        "Querying https://api.yelp.com/v2/search/? ...\n",
        "10 businesses found, querying business info for the top result \"gyu-kaku-japanese-bbq-miami\" ..."
       ]
      },
      {
       "output_type": "stream",
       "stream": "stdout",
       "text": [
        "\n",
        "Querying https://api.yelp.com/v2/business/gyu-kaku-japanese-bbq-miami? ...\n",
        "{'term': 'japanese', 'limit': 10, 'location': 'Salt+Lake+City'}"
       ]
      },
      {
       "output_type": "stream",
       "stream": "stdout",
       "text": [
        "\n",
        "/v2/search/\n",
        "Querying https://api.yelp.com/v2/search/? ...\n",
        "10 businesses found, querying business info for the top result \"takashi-salt-lake-city\" ..."
       ]
      },
      {
       "output_type": "stream",
       "stream": "stdout",
       "text": [
        "\n",
        "Querying https://api.yelp.com/v2/business/takashi-salt-lake-city? ...\n",
        "{'term': 'japanese', 'limit': 10, 'location': 'Seattle'}"
       ]
      },
      {
       "output_type": "stream",
       "stream": "stdout",
       "text": [
        "\n",
        "/v2/search/\n",
        "Querying https://api.yelp.com/v2/search/? ...\n",
        "10 businesses found, querying business info for the top result \"japonessa-seattle\" ..."
       ]
      },
      {
       "output_type": "stream",
       "stream": "stdout",
       "text": [
        "\n",
        "Querying https://api.yelp.com/v2/business/japonessa-seattle? ...\n"
       ]
      }
     ],
     "prompt_number": 39
    },
    {
     "cell_type": "code",
     "collapsed": false,
     "input": [
      "import pandas as pd\n",
      "#allow dataframe to carry long strings\n",
      "pd.set_option('max_colwidth',1024)\n",
      "#filter useful variables\n",
      "def createDataFrames(businesses):\n",
      "    column_names=[\n",
      "                u'is_claimed',u'rating',u'review_count',u'name',\n",
      "                u'categories',u'location',u'url',u'is_closed',\n",
      "                u'id',u'snippet_text'\n",
      "              ]\n",
      "    dataframes=[pd.DataFrame( [[ business[i][key] if key in column_names else '' for key in column_names]\n",
      "         for i in range(len(business))],columns=column_names) for business in businesses]\n",
      "    return dataframes"
     ],
     "language": "python",
     "metadata": {},
     "outputs": [],
     "prompt_number": 40
    },
    {
     "cell_type": "code",
     "collapsed": false,
     "input": [
      "#seperate address info into multiple attributes\n",
      "#and truncate urls\n",
      "def getAddress(dataframe):\n",
      "    COLUMNS = [u'name', u'rating', u'review_count', u'snippet_text', u'categories', u'is_closed', \n",
      "           u'street', u'city', u'state_code', u'postal_code', u'latitude', u'longitude',u'id',\n",
      "           u'url', u'is_claimed']\n",
      "    LOCATION_KEYS=['country_code','postal_code','state_code','address','coordinate','city']\n",
      "    address = pd.DataFrame(\n",
      "                [[dataframe.location[i][key] for key in LOCATION_KEYS] for i in range(len(dataframe))],\n",
      "                columns=[key for key in LOCATION_KEYS]\n",
      "            )\n",
      "    address['latitude']=[float(address['coordinate'][i]['latitude']) for i in range(len(dataframe))]\n",
      "    address['longitude']=[float(address['coordinate'][i]['longitude']) for i in range(len(dataframe))]\n",
      "    dataframe=pd.concat([df, address], axis=1)\n",
      "    dataframe.rename(columns={'address':'street'},inplace=True)\n",
      "    dataframe.street=dataframe.street[0][0]\n",
      "    dataframe.url= [u[0:u.find('?')] if u.find('?')>0 else u for u in dataframe.url]\n",
      "    return dataframe[COLUMNS]"
     ],
     "language": "python",
     "metadata": {},
     "outputs": [],
     "prompt_number": 41
    },
    {
     "cell_type": "code",
     "collapsed": false,
     "input": [
      "def mergeDataFrames(lists):\n",
      "    res=lists[0]\n",
      "    for i in range(1,len(lists)):\n",
      "        res=res.append(lists[i],ignore_index=True)\n",
      "    res=res.drop_duplicates(subset='id')\n",
      "    print('Acquired %i restaurants in total' %len(res))\n",
      "    return res"
     ],
     "language": "python",
     "metadata": {},
     "outputs": [],
     "prompt_number": 42
    },
    {
     "cell_type": "code",
     "collapsed": false,
     "input": [
      "#parse JSON to DFs\n",
      "dataframes=createDataFrames(businesses)\n",
      "#merge DFs\n",
      "restaurants_by_areas=[getAddress(df)for df in dataframes]\n",
      "restaurants=mergeDataFrames(restaurants_by_areas)"
     ],
     "language": "python",
     "metadata": {},
     "outputs": [
      {
       "output_type": "stream",
       "stream": "stdout",
       "text": [
        "Acquired 50 restaurants in total\n"
       ]
      }
     ],
     "prompt_number": 168
    },
    {
     "cell_type": "code",
     "collapsed": false,
     "input": [
      "#get price range\n",
      "from bs4 import BeautifulSoup as bs\n",
      "restaurants['price']=[getPrice(url) for url in restaurants.url]\n",
      "def getPrice(url):\n",
      "    print url\n",
      "    response=urllib2.urlopen(url).read()\n",
      "    price=bs(response,'html.parser').find('span',{'class':'business-attribute price-range'})\n",
      "    return str(price).count('$')"
     ],
     "language": "python",
     "metadata": {},
     "outputs": [
      {
       "output_type": "stream",
       "stream": "stdout",
       "text": [
        "http://www.yelp.com/biz/yuzu-japanese-dining-bethesda\n",
        "http://www.yelp.com/biz/tako-grill-bethesda-2"
       ]
      },
      {
       "output_type": "stream",
       "stream": "stdout",
       "text": [
        "\n",
        "http://www.yelp.com/biz/satsuma-bethesda"
       ]
      },
      {
       "output_type": "stream",
       "stream": "stdout",
       "text": [
        "\n",
        "http://www.yelp.com/biz/maki-maki-bethesda"
       ]
      },
      {
       "output_type": "stream",
       "stream": "stdout",
       "text": [
        "\n",
        "http://www.yelp.com/biz/aji-nippon-restaurant-bethesda"
       ]
      },
      {
       "output_type": "stream",
       "stream": "stdout",
       "text": [
        "\n",
        "http://www.yelp.com/biz/maki-bar-bethesda"
       ]
      },
      {
       "output_type": "stream",
       "stream": "stdout",
       "text": [
        "\n",
        "http://www.yelp.com/biz/hanaro-restaurant-and-lounge-bethesda"
       ]
      },
      {
       "output_type": "stream",
       "stream": "stdout",
       "text": [
        "\n",
        "http://www.yelp.com/biz/matuba-bethesda-3"
       ]
      },
      {
       "output_type": "stream",
       "stream": "stdout",
       "text": [
        "\n",
        "http://www.yelp.com/biz/yirasai-sushi-and-cafe-bethesda"
       ]
      },
      {
       "output_type": "stream",
       "stream": "stdout",
       "text": [
        "\n",
        "http://www.yelp.com/biz/hinata-sushi-carry-out-bethesda"
       ]
      },
      {
       "output_type": "stream",
       "stream": "stdout",
       "text": [
        "\n",
        "http://www.yelp.com/biz/gochi-japanese-fusion-tapas-cupertino"
       ]
      },
      {
       "output_type": "stream",
       "stream": "stdout",
       "text": [
        "\n",
        "http://www.yelp.com/biz/kula-revolving-sushi-bar-cupertino"
       ]
      },
      {
       "output_type": "stream",
       "stream": "stdout",
       "text": [
        "\n",
        "http://www.yelp.com/biz/ajito-cupertino"
       ]
      },
      {
       "output_type": "stream",
       "stream": "stdout",
       "text": [
        "\n",
        "http://www.yelp.com/biz/gokaku-japanese-tapas-and-sushi-cupertino"
       ]
      },
      {
       "output_type": "stream",
       "stream": "stdout",
       "text": [
        "\n",
        "http://www.yelp.com/biz/gyu-kaku-japanese-bbq-cupertino"
       ]
      },
      {
       "output_type": "stream",
       "stream": "stdout",
       "text": [
        "\n",
        "http://www.yelp.com/biz/yoshida-cupertino"
       ]
      },
      {
       "output_type": "stream",
       "stream": "stdout",
       "text": [
        "\n",
        "http://www.yelp.com/biz/sushi-hana-cupertino"
       ]
      },
      {
       "output_type": "stream",
       "stream": "stdout",
       "text": [
        "\n",
        "http://www.yelp.com/biz/harumi-sushi-cupertino"
       ]
      },
      {
       "output_type": "stream",
       "stream": "stdout",
       "text": [
        "\n",
        "http://www.yelp.com/biz/sushi-kuni-cupertino"
       ]
      },
      {
       "output_type": "stream",
       "stream": "stdout",
       "text": [
        "\n",
        "http://www.yelp.com/biz/isushi-and-grill-cupertino"
       ]
      },
      {
       "output_type": "stream",
       "stream": "stdout",
       "text": [
        "\n",
        "http://www.yelp.com/biz/gyu-kaku-japanese-bbq-miami"
       ]
      },
      {
       "output_type": "stream",
       "stream": "stdout",
       "text": [
        "\n",
        "http://www.yelp.com/biz/naoe-miami-3"
       ]
      },
      {
       "output_type": "stream",
       "stream": "stdout",
       "text": [
        "\n",
        "http://www.yelp.com/biz/zuma-miami-2"
       ]
      },
      {
       "output_type": "stream",
       "stream": "stdout",
       "text": [
        "\n",
        "http://www.yelp.com/biz/shokudo-miami-2"
       ]
      },
      {
       "output_type": "stream",
       "stream": "stdout",
       "text": [
        "\n",
        "http://www.yelp.com/biz/bonding-miami"
       ]
      },
      {
       "output_type": "stream",
       "stream": "stdout",
       "text": [
        "\n",
        "http://www.yelp.com/biz/nikko-by-sunshine-miami"
       ]
      },
      {
       "output_type": "stream",
       "stream": "stdout",
       "text": [
        "\n",
        "http://www.yelp.com/biz/akoya-restaurant-miami"
       ]
      },
      {
       "output_type": "stream",
       "stream": "stdout",
       "text": [
        "\n",
        "http://www.yelp.com/biz/sumi-yakitori-miami-2"
       ]
      },
      {
       "output_type": "stream",
       "stream": "stdout",
       "text": [
        "\n",
        "http://www.yelp.com/biz/doraku-sushi-miami"
       ]
      },
      {
       "output_type": "stream",
       "stream": "stdout",
       "text": [
        "\n",
        "http://www.yelp.com/biz/moshi-moshi-miami"
       ]
      },
      {
       "output_type": "stream",
       "stream": "stdout",
       "text": [
        "\n",
        "http://www.yelp.com/biz/takashi-salt-lake-city"
       ]
      },
      {
       "output_type": "stream",
       "stream": "stdout",
       "text": [
        "\n",
        "http://www.yelp.com/biz/kyoto-japanese-restaurant-salt-lake-city"
       ]
      },
      {
       "output_type": "stream",
       "stream": "stdout",
       "text": [
        "\n",
        "http://www.yelp.com/biz/toshs-ramen-salt-lake-city-2"
       ]
      },
      {
       "output_type": "stream",
       "stream": "stdout",
       "text": [
        "\n",
        "http://www.yelp.com/biz/naked-fish-japanese-bistro-salt-lake-city"
       ]
      },
      {
       "output_type": "stream",
       "stream": "stdout",
       "text": [
        "\n",
        "http://www.yelp.com/biz/koko-kitchen-salt-lake-city"
       ]
      },
      {
       "output_type": "stream",
       "stream": "stdout",
       "text": [
        "\n",
        "http://www.yelp.com/biz/yellowtail-japanese-bistro-salt-lake-city"
       ]
      },
      {
       "output_type": "stream",
       "stream": "stdout",
       "text": [
        "\n",
        "http://www.yelp.com/biz/tsunami-restaurant-and-sushi-bar-salt-lake-city"
       ]
      },
      {
       "output_type": "stream",
       "stream": "stdout",
       "text": [
        "\n",
        "http://www.yelp.com/biz/bento-truck-salt-lake-city"
       ]
      },
      {
       "output_type": "stream",
       "stream": "stdout",
       "text": [
        "\n",
        "http://www.yelp.com/biz/ichiban-sushi-and-japanese-cuisine-salt-lake-city"
       ]
      },
      {
       "output_type": "stream",
       "stream": "stdout",
       "text": [
        "\n",
        "http://www.yelp.com/biz/sapa-sushi-bar-and-asian-grill-salt-lake-city"
       ]
      },
      {
       "output_type": "stream",
       "stream": "stdout",
       "text": [
        "\n",
        "http://www.yelp.com/biz/japonessa-seattle"
       ]
      },
      {
       "output_type": "stream",
       "stream": "stdout",
       "text": [
        "\n",
        "http://www.yelp.com/biz/tsukushinbo-seattle"
       ]
      },
      {
       "output_type": "stream",
       "stream": "stdout",
       "text": [
        "\n",
        "http://www.yelp.com/biz/suika-seattle-seattle"
       ]
      },
      {
       "output_type": "stream",
       "stream": "stdout",
       "text": [
        "\n",
        "http://www.yelp.com/biz/sushi-kashiba-seattle"
       ]
      },
      {
       "output_type": "stream",
       "stream": "stdout",
       "text": [
        "\n",
        "http://www.yelp.com/biz/maneki-seattle"
       ]
      },
      {
       "output_type": "stream",
       "stream": "stdout",
       "text": [
        "\n",
        "http://www.yelp.com/biz/umi-sake-house-seattle"
       ]
      },
      {
       "output_type": "stream",
       "stream": "stdout",
       "text": [
        "\n",
        "http://www.yelp.com/biz/nishino-seattle"
       ]
      },
      {
       "output_type": "stream",
       "stream": "stdout",
       "text": [
        "\n",
        "http://www.yelp.com/biz/shiros-seattle"
       ]
      },
      {
       "output_type": "stream",
       "stream": "stdout",
       "text": [
        "\n",
        "http://www.yelp.com/biz/momiji-seattle"
       ]
      },
      {
       "output_type": "stream",
       "stream": "stdout",
       "text": [
        "\n",
        "http://www.yelp.com/biz/mashiko-japanese-restaurant-and-sushi-bar-seattle"
       ]
      },
      {
       "output_type": "stream",
       "stream": "stdout",
       "text": [
        "\n"
       ]
      }
     ],
     "prompt_number": 169
    },
    {
     "cell_type": "code",
     "collapsed": false,
     "input": [
      "#returns a dictionary of (restaurant.id) : (df)(all reviews of restaurant.id) pairs\n",
      "def reviewLists(restaurants):\n",
      "    global reviews\n",
      "    if(reviews is None):\n",
      "        reviews=pd.DataFrame(columns=['id','review','review_rating','posted_date'])\n",
      "    for i in range(0,len(restaurants)):\n",
      "        reviews = reviews.append(getReviews(restaurants[i:i+1]),ignore_index=True)\n",
      "        print restaurants.index[i:i+1]\n",
      "    reviews['posted_days']=[timeFromNow(date) for date in reviews.posted_date]\n",
      "    print 'finish........'\n",
      "    #return reviews"
     ],
     "language": "python",
     "metadata": {},
     "outputs": [],
     "prompt_number": 16
    },
    {
     "cell_type": "code",
     "collapsed": false,
     "input": [
      "#get reviews from all restaurant urls\n",
      "def getReviews(restaurant):\n",
      "    reviews = pd.DataFrame(columns=['id','review','review_rating','posted_date'])\n",
      "    print('restaurant id is '+restaurant.id.values[0]+', index: %i' %restaurant.index.values[0])\n",
      "    print('review count :%i ,review rating: %i' %(restaurant.review_count,restaurant.rating))\n",
      "    count=0\n",
      "    while count<int(restaurant.review_count):  \n",
      "        url=restaurant.url.values[0]+'?start=%i'%count\n",
      "        print(url)\n",
      "        response = urllib2.urlopen(url)\n",
      "        html = response.read()\n",
      "        tmp = htmlToDataFrame(html)\n",
      "        tmp['id'] = restaurant.id.values[0]\n",
      "        reviews = reviews.append(tmp,ignore_index=True)\n",
      "        count+=20\n",
      "    return reviews"
     ],
     "language": "python",
     "metadata": {},
     "outputs": [],
     "prompt_number": 36
    },
    {
     "cell_type": "code",
     "collapsed": false,
     "input": [
      "#process html files \n",
      "from bs4 import BeautifulSoup as bs\n",
      "def htmlToDataFrame(html):\n",
      "    soup = bs(html, 'html.parser')\n",
      "    \"\"\"extract previous comments from the same user. Contents of this part have different tag classes which \n",
      "    breaks consistency of the dataframe\"\"\"\n",
      "    prev_reviews = [div.extract() for div in soup.find_all('div',{'class':'previous-review clearfix'})]\n",
      "    #get rating list\n",
      "    page1_ratings=[float(r.find('meta').get('content')) \n",
      "                   for r in soup.find_all('div',{'class':'rating-very-large'})[1:]]\n",
      "    #get review list\n",
      "    page1_reviews=soup.find_all('p',itemprop='description')\n",
      "    page1_dates=[str(s)[15:25] for s in soup.find_all('meta',itemprop='datePublished')]\n",
      "    \n",
      "    return pd.DataFrame({\"review\":stripHTMLTags(page1_reviews)\n",
      "                         ,\"review_rating\":page1_ratings\n",
      "                         ,\"posted_date\":page1_dates}).append(getPreviousReviews(prev_reviews))"
     ],
     "language": "python",
     "metadata": {},
     "outputs": [],
     "prompt_number": 37
    },
    {
     "cell_type": "code",
     "collapsed": false,
     "input": [
      "#deal with the previous review issued by the same user(which adds up to over 20 comments in one page)\n",
      "def getPreviousReviews(prev_reviews):\n",
      "    page1_ratings=[float(r.find_all('img',{'class':'offscreen','height':'303'})[0].get('alt')[0:3]) \n",
      "                   for r in prev_reviews]\n",
      "    #get review list\n",
      "    page1_reviews_helper=[r.find_all('span',{'class':'js-content-toggleable hidden'}) for r in prev_reviews]\n",
      "    page1_reviews=stripHTMLTags([str(r[0]) if r != [] else ''  for r in page1_reviews_helper])    \n",
      "    \n",
      "    page1_dates=[r.find_all('span',{'class':'rating-qualifier'})[0].getText()[:25].strip('\\n ') for r in prev_reviews]\n",
      "    page1_dates=[formatTime(date) for date in page1_dates]\n",
      "    return pd.DataFrame({\n",
      "                         \"review\":page1_reviews\n",
      "                         ,\"review_rating\":page1_ratings\n",
      "                         ,\"posted_date\":page1_dates\n",
      "                        })"
     ],
     "language": "python",
     "metadata": {},
     "outputs": [],
     "prompt_number": 38
    },
    {
     "cell_type": "code",
     "collapsed": false,
     "input": [
      "#strip html tags\n",
      "import re\n",
      "def stripHTMLTags(reviews):\n",
      "    res = [str(review).replace('<p itemprop=\"description\" lang=\"en\">','').replace('<br>',' ')\n",
      "            .replace('</br>','').replace('</p>',' ').replace('\\xc2\\xa0',' ')\n",
      "            .replace('<span class=\"js-content-toggleable hidden\">','')\n",
      "            .replace('</span>','')\n",
      "            for review in reviews]\n",
      "    #res = [stripHerf(review) for review in res]\n",
      "    return [re.sub('\\!+','!',s) for s in res]"
     ],
     "language": "python",
     "metadata": {},
     "outputs": [],
     "prompt_number": 39
    },
    {
     "cell_type": "code",
     "collapsed": false,
     "input": [
      "#remove links for pictures in reviews\n",
      "def stripHerf(review):\n",
      "    e=0\n",
      "    alist=[]\n",
      "    while(review[e:].find('<a')>0):\n",
      "        s=review[e:].find('<a')+e\n",
      "        e=review[s:].find('a>')+s\n",
      "        if(e>s):\n",
      "            alist.append([s,e+2])\n",
      "    if(len(alist)>0):\n",
      "        newstr=''\n",
      "        for pair in alist:\n",
      "            newstr+=reviews.review[i][0:pair[0]]+reviews.review[i][pair[1]:]\n",
      "        return newstr\n",
      "    else:\n",
      "        return review"
     ],
     "language": "python",
     "metadata": {},
     "outputs": [],
     "prompt_number": 40
    },
    {
     "cell_type": "code",
     "collapsed": false,
     "input": [
      "#get post_date from now in days\n",
      "from datetime import datetime\n",
      "def timeFromNow(date):\n",
      "    d0=datetime.strptime(date, \"%Y-%m-%d\")\n",
      "    return (datetime.now()-d0).days"
     ],
     "language": "python",
     "metadata": {},
     "outputs": [],
     "prompt_number": 41
    },
    {
     "cell_type": "code",
     "collapsed": false,
     "input": [
      "#change format of time from m/d/Y to Y-m-d\n",
      "def formatTime(date):\n",
      "    d = datetime.strptime(date, \"%m/%d/%Y\")\n",
      "    return ('%i-%i-%i' %(d.year,d.month,d.day))"
     ],
     "language": "python",
     "metadata": {},
     "outputs": [],
     "prompt_number": 42
    },
    {
     "cell_type": "code",
     "collapsed": false,
     "input": [
      "global reviews\n",
      "reviews=None"
     ],
     "language": "python",
     "metadata": {},
     "outputs": [],
     "prompt_number": 43
    },
    {
     "cell_type": "code",
     "collapsed": false,
     "input": [
      "#requesting reviews of restaurants\n",
      "reviewLists(restaurants[:])"
     ],
     "language": "python",
     "metadata": {},
     "outputs": [
      {
       "ename": "NameError",
       "evalue": "global name 'reviews' is not defined",
       "output_type": "pyerr",
       "traceback": [
        "\u001b[0;31m---------------------------------------------------------------------------\u001b[0m\n\u001b[0;31mNameError\u001b[0m                                 Traceback (most recent call last)",
        "\u001b[0;32m<ipython-input-165-fc9294509775>\u001b[0m in \u001b[0;36m<module>\u001b[0;34m()\u001b[0m\n\u001b[1;32m      1\u001b[0m \u001b[0;31m#requesting reviews of restaurants\u001b[0m\u001b[0;34m\u001b[0m\u001b[0;34m\u001b[0m\u001b[0m\n\u001b[0;32m----> 2\u001b[0;31m \u001b[0mreviewLists\u001b[0m\u001b[0;34m(\u001b[0m\u001b[0mrestaurants\u001b[0m\u001b[0;34m[\u001b[0m\u001b[0;34m:\u001b[0m\u001b[0;34m]\u001b[0m\u001b[0;34m)\u001b[0m\u001b[0;34m\u001b[0m\u001b[0m\n\u001b[0m",
        "\u001b[0;32m<ipython-input-16-c30ed4464009>\u001b[0m in \u001b[0;36mreviewLists\u001b[0;34m(restaurants)\u001b[0m\n\u001b[1;32m      2\u001b[0m \u001b[0;32mdef\u001b[0m \u001b[0mreviewLists\u001b[0m\u001b[0;34m(\u001b[0m\u001b[0mrestaurants\u001b[0m\u001b[0;34m)\u001b[0m\u001b[0;34m:\u001b[0m\u001b[0;34m\u001b[0m\u001b[0m\n\u001b[1;32m      3\u001b[0m     \u001b[0;32mglobal\u001b[0m \u001b[0mreviews\u001b[0m\u001b[0;34m\u001b[0m\u001b[0m\n\u001b[0;32m----> 4\u001b[0;31m     \u001b[0;32mif\u001b[0m\u001b[0;34m(\u001b[0m\u001b[0mreviews\u001b[0m \u001b[0;32mis\u001b[0m \u001b[0mNone\u001b[0m\u001b[0;34m)\u001b[0m\u001b[0;34m:\u001b[0m\u001b[0;34m\u001b[0m\u001b[0m\n\u001b[0m\u001b[1;32m      5\u001b[0m         \u001b[0mreviews\u001b[0m\u001b[0;34m=\u001b[0m\u001b[0mpd\u001b[0m\u001b[0;34m.\u001b[0m\u001b[0mDataFrame\u001b[0m\u001b[0;34m(\u001b[0m\u001b[0mcolumns\u001b[0m\u001b[0;34m=\u001b[0m\u001b[0;34m[\u001b[0m\u001b[0;34m'id'\u001b[0m\u001b[0;34m,\u001b[0m\u001b[0;34m'review'\u001b[0m\u001b[0;34m,\u001b[0m\u001b[0;34m'review_rating'\u001b[0m\u001b[0;34m,\u001b[0m\u001b[0;34m'posted_date'\u001b[0m\u001b[0;34m]\u001b[0m\u001b[0;34m)\u001b[0m\u001b[0;34m\u001b[0m\u001b[0m\n\u001b[1;32m      6\u001b[0m     \u001b[0;32mfor\u001b[0m \u001b[0mi\u001b[0m \u001b[0;32min\u001b[0m \u001b[0mrange\u001b[0m\u001b[0;34m(\u001b[0m\u001b[0;36m0\u001b[0m\u001b[0;34m,\u001b[0m\u001b[0mlen\u001b[0m\u001b[0;34m(\u001b[0m\u001b[0mrestaurants\u001b[0m\u001b[0;34m)\u001b[0m\u001b[0;34m)\u001b[0m\u001b[0;34m:\u001b[0m\u001b[0;34m\u001b[0m\u001b[0m\n",
        "\u001b[0;31mNameError\u001b[0m: global name 'reviews' is not defined"
       ]
      }
     ],
     "prompt_number": 165
    },
    {
     "cell_type": "code",
     "collapsed": false,
     "input": [
      "print len(reviews.id.unique())\n",
      "print len(reviews)\n",
      "print sum([restaurants.review_count[restaurants.id==i].values[0] for i in reviews.id.unique()])\n",
      "#which restaurants it is\n",
      "print [restaurants.index[restaurants.id==i].values[0] for i in reviews.id.unique()]"
     ],
     "language": "python",
     "metadata": {},
     "outputs": [
      {
       "output_type": "stream",
       "stream": "stdout",
       "text": [
        "50\n",
        "21675\n",
        "20808\n",
        "[10, 0, 1, 2, 3, 4, 5, 6, 7, 8, 9, 11, 12, 13, 14, 15, 16, 17, 18, 19, 20, 21, 22, 23, 24, 25, 26, 27, 28, 29, 30, 31, 32, 33, 34, 35, 36, 37, 38, 39, 40, 41, 42, 43, 44, 45, 46, 47, 48, 49]"
       ]
      },
      {
       "output_type": "stream",
       "stream": "stdout",
       "text": [
        "\n"
       ]
      }
     ],
     "prompt_number": 55
    },
    {
     "cell_type": "code",
     "collapsed": false,
     "input": [
      "#remove empty and duplicate\n",
      "reviews=reviews[reviews.review!='']\n",
      "reviews.review[reviews.review.duplicated()]"
     ],
     "language": "python",
     "metadata": {},
     "outputs": [
      {
       "metadata": {},
       "output_type": "pyout",
       "prompt_number": 138,
       "text": [
        "Series([], Name: review, dtype: object)"
       ]
      }
     ],
     "prompt_number": 138
    },
    {
     "cell_type": "code",
     "collapsed": false,
     "input": [
      "len(restaurants)"
     ],
     "language": "python",
     "metadata": {},
     "outputs": [
      {
       "metadata": {},
       "output_type": "pyout",
       "prompt_number": 33,
       "text": [
        "50"
       ]
      }
     ],
     "prompt_number": 33
    },
    {
     "cell_type": "code",
     "collapsed": false,
     "input": [
      "#save to file\n",
      "filename='restaurants_0_50.txt'\n",
      "seperator='#'\n",
      "#should use more special seperator\n",
      "restaurants.to_csv(filename,sep='#',encoding='utf-8')"
     ],
     "language": "python",
     "metadata": {},
     "outputs": [],
     "prompt_number": 93
    },
    {
     "cell_type": "code",
     "collapsed": false,
     "input": [
      "%cd~/GitHub/Yelp_reviews\n",
      "execfile('read_restaurants_txt.py')\n",
      "restaurants=read_restaurants_txt('restaurants_0_50.txt',seperator='#')"
     ],
     "language": "python",
     "metadata": {},
     "outputs": [
      {
       "output_type": "stream",
       "stream": "stdout",
       "text": [
        "/Users/xiaobaby/GitHub/Yelp_reviews\n"
       ]
      }
     ],
     "prompt_number": 65
    },
    {
     "cell_type": "code",
     "collapsed": false,
     "input": [
      "execfile('read_restaurants_txt.py')\n",
      "tmp=read_restaurants_txt('restaurants_0_50.txt',seperator='#')"
     ],
     "language": "python",
     "metadata": {},
     "outputs": [],
     "prompt_number": 163
    },
    {
     "cell_type": "code",
     "collapsed": false,
     "input": [],
     "language": "python",
     "metadata": {},
     "outputs": []
    }
   ],
   "metadata": {}
  }
 ]
}
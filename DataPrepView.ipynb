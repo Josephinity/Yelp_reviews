{
 "metadata": {
  "name": "",
  "signature": "sha256:72732114e41a66f856c0e9c7ca1c41be9f6279f36182a9d89ba2212faa478eec"
 },
 "nbformat": 3,
 "nbformat_minor": 0,
 "worksheets": [
  {
   "cells": [
    {
     "cell_type": "code",
     "collapsed": false,
     "input": [
      "import argparse\n",
      "import json\n",
      "import pprint\n",
      "import sys\n",
      "import urllib\n",
      "import urllib2\n",
      "\n",
      "import oauth2\n",
      "import httplib2"
     ],
     "language": "python",
     "metadata": {},
     "outputs": [],
     "prompt_number": 14
    },
    {
     "cell_type": "code",
     "collapsed": false,
     "input": [
      "API_HOST = 'api.yelp.com'\n",
      "DEFAULT_TERM = 'japanese restaurant'\n",
      "DEFAULT_LOCATION = 'Cupertino, CA'\n",
      "SEARCH_LIMIT = 10\n",
      "SEARCH_PATH = '/v2/search/'\n",
      "BUSINESS_PATH = '/v2/business/'\n",
      "#determine the search terms from here\n",
      "#Restaurant locations\n",
      "LOCATION_LIST=['bethesda, MD','Cupertino, CA','Miami, FL', \n",
      "               'Salt Lake City', 'Seattle']\n",
      "#Search key terms\n",
      "TERM_LIST=['japanese']\n",
      "\n",
      "#load keys\n",
      "execfile('userConfig.py')"
     ],
     "language": "python",
     "metadata": {},
     "outputs": [],
     "prompt_number": 23
    },
    {
     "cell_type": "code",
     "collapsed": false,
     "input": [
      "def request(host, path, url_params=None):\n",
      "    \"\"\"Prepares OAuth authentication and sends the request to the API.\n",
      "    Args:\n",
      "        host (str): The domain host of the API.\n",
      "        path (str): The path of the API after the domain.\n",
      "        url_params (dict): An optional set of query parameters in the request.\n",
      "    Returns:\n",
      "        dict: The JSON response from the request.\n",
      "    Raises:\n",
      "        urllib2.HTTPError: An error occurs from the HTTP request.\n",
      "    \"\"\"\n",
      "    url_params = url_params or {}\n",
      "    url = 'https://{0}{1}?'.format(host, urllib.quote(path.encode('utf8')))\n",
      "\n",
      "    consumer = oauth2.Consumer(CONSUMER_KEY, CONSUMER_SECRET)\n",
      "    oauth_request = oauth2.Request(method=\"GET\", url=url, parameters=url_params)\n",
      "\n",
      "    oauth_request.update(\n",
      "        {\n",
      "            'oauth_nonce': oauth2.generate_nonce(),\n",
      "            'oauth_timestamp': oauth2.generate_timestamp(),\n",
      "            'oauth_token': TOKEN,\n",
      "            'oauth_consumer_key': CONSUMER_KEY\n",
      "        }\n",
      "    )\n",
      "    token = oauth2.Token(TOKEN, TOKEN_SECRET)\n",
      "    oauth_request.sign_request(oauth2.SignatureMethod_HMAC_SHA1(), consumer, token)\n",
      "    signed_url = oauth_request.to_url()\n",
      "    \n",
      "    print u'Querying {0} ...'.format(url)\n",
      "\n",
      "    conn = urllib2.urlopen(signed_url, None)\n",
      "    try:\n",
      "        response = json.loads(conn.read())\n",
      "    finally:\n",
      "        conn.close()\n",
      "\n",
      "    return response\n",
      "\n",
      "def search(term, location):\n",
      "    \"\"\"Query the Search API by a search term and location.\n",
      "    Args:\n",
      "        term (str): The search term passed to the API.\n",
      "        location (str): The search location passed to the API.\n",
      "    Returns:\n",
      "        dict: The JSON response from the request.\n",
      "    \"\"\"\n",
      "    \n",
      "    url_params = {\n",
      "        'term': term.replace(' ', '+'),\n",
      "        'location': location.replace(' ', '+'),\n",
      "        'limit': SEARCH_LIMIT\n",
      "    }\n",
      "    print(url_params)\n",
      "    print(SEARCH_PATH)\n",
      "    return request(API_HOST, SEARCH_PATH, url_params=url_params)"
     ],
     "language": "python",
     "metadata": {},
     "outputs": [],
     "prompt_number": 24
    },
    {
     "cell_type": "code",
     "collapsed": false,
     "input": [
      "def get_business(business_id):\n",
      "    \"\"\"Query the Business API by a business ID.\n",
      "    Args:\n",
      "        business_id (str): The ID of the business to query.\n",
      "    Returns:\n",
      "        dict: The JSON response from the request.\n",
      "    \"\"\"\n",
      "    business_path = BUSINESS_PATH + business_id\n",
      "\n",
      "    return request(API_HOST, business_path)\n"
     ],
     "language": "python",
     "metadata": {},
     "outputs": [],
     "prompt_number": 25
    },
    {
     "cell_type": "code",
     "collapsed": false,
     "input": [
      "def query_api(term, location):\n",
      "    \"\"\"Queries the API by the input values from the user.\n",
      "    Args:\n",
      "        term (str): The search term to query.\n",
      "        location (str): The location of the business to query.\n",
      "    \"\"\"\n",
      "    response = search(term, location)\n",
      "\n",
      "\n",
      "    businesses = response.get('businesses')\n",
      "\n",
      "    if not businesses:\n",
      "        print u'No businesses for {0} in {1} found.'.format(term, location)\n",
      "        return\n",
      "\n",
      "    business_id = businesses[0]['id']\n",
      "\n",
      "    print u'{0} businesses found, querying business info for the top result \"{1}\" ...'.format(\n",
      "        len(businesses),\n",
      "        business_id\n",
      "    )\n",
      "\n",
      "    response = get_business(business_id)\n",
      "\n",
      "#     print u'Result for business \"{0}\" found:'.format(business_id)\n",
      "#     pprint.pprint(response, indent=2)\n",
      "\n",
      "    return businesses"
     ],
     "language": "python",
     "metadata": {},
     "outputs": [],
     "prompt_number": 26
    },
    {
     "cell_type": "code",
     "collapsed": false,
     "input": [
      "def main():\n",
      "    parser = argparse.ArgumentParser()\n",
      "\n",
      "    parser.add_argument('-q', '--term', dest='term', default=DEFAULT_TERM, type=str, help='Search term (default: %(default)s)')\n",
      "    parser.add_argument('-l', '--location', dest='location', default=DEFAULT_LOCATION, type=str, help='Search location (default: %(default)s)')\n",
      "\n",
      "    input_values = parser.parse_known_args()\n",
      "    try:\n",
      "        query_api(input_values[0].term, input_values[0].location)\n",
      "    except urllib2.HTTPError as error:\n",
      "        sys.exit('Encountered HTTP error {0}. Abort program.'.format(error.code))\n",
      "\n",
      "\n",
      "# if __name__ == '__main__':\n",
      "#     main()"
     ],
     "language": "python",
     "metadata": {},
     "outputs": [],
     "prompt_number": 27
    },
    {
     "cell_type": "code",
     "collapsed": false,
     "input": [
      "#search for restaurants from YelpAPI\n",
      "def getJSON(term,location):\n",
      "    parser = argparse.ArgumentParser()\n",
      "\n",
      "    parser.add_argument('-q', '--term', dest='term', default=term, type=str, help='Search term (default: %(default)s)')\n",
      "    parser.add_argument('-l', '--location', dest='location', default=location, type=str, help='Search location (default: %(default)s)')\n",
      "\n",
      "    input_values = parser.parse_known_args()\n",
      "    try:\n",
      "        return query_api(input_values[0].term, input_values[0].location)\n",
      "    except urllib2.HTTPError as error:\n",
      "        sys.exit('Encountered HTTP error {0}. Abort program.'.format(error.code))"
     ],
     "language": "python",
     "metadata": {},
     "outputs": [],
     "prompt_number": 28
    },
    {
     "cell_type": "code",
     "collapsed": false,
     "input": [
      "#response from YelpAPI\n",
      "businesses=[getJSON(term,loc) for loc in LOCATION_LIST for term in TERM_LIST]"
     ],
     "language": "python",
     "metadata": {},
     "outputs": [
      {
       "output_type": "stream",
       "stream": "stdout",
       "text": [
        "{'term': 'japanese', 'limit': 10, 'location': 'bethesda,+MD'}\n",
        "/v2/search/\n",
        "Querying https://api.yelp.com/v2/search/? ...\n",
        "10 businesses found, querying business info for the top result \"yuzu-japanese-dining-bethesda\" ..."
       ]
      },
      {
       "output_type": "stream",
       "stream": "stdout",
       "text": [
        "\n",
        "Querying https://api.yelp.com/v2/business/yuzu-japanese-dining-bethesda? ...\n",
        "{'term': 'japanese', 'limit': 10, 'location': 'Cupertino,+CA'}"
       ]
      },
      {
       "output_type": "stream",
       "stream": "stdout",
       "text": [
        "\n",
        "/v2/search/\n",
        "Querying https://api.yelp.com/v2/search/? ...\n",
        "10 businesses found, querying business info for the top result \"gochi-japanese-fusion-tapas-cupertino\" ..."
       ]
      },
      {
       "output_type": "stream",
       "stream": "stdout",
       "text": [
        "\n",
        "Querying https://api.yelp.com/v2/business/gochi-japanese-fusion-tapas-cupertino? ...\n",
        "{'term': 'japanese', 'limit': 10, 'location': 'Miami,+FL'}"
       ]
      },
      {
       "output_type": "stream",
       "stream": "stdout",
       "text": [
        "\n",
        "/v2/search/\n",
        "Querying https://api.yelp.com/v2/search/? ...\n",
        "10 businesses found, querying business info for the top result \"gyu-kaku-japanese-bbq-miami\" ..."
       ]
      },
      {
       "output_type": "stream",
       "stream": "stdout",
       "text": [
        "\n",
        "Querying https://api.yelp.com/v2/business/gyu-kaku-japanese-bbq-miami? ...\n",
        "{'term': 'japanese', 'limit': 10, 'location': 'Salt+Lake+City'}"
       ]
      },
      {
       "output_type": "stream",
       "stream": "stdout",
       "text": [
        "\n",
        "/v2/search/\n",
        "Querying https://api.yelp.com/v2/search/? ...\n",
        "10 businesses found, querying business info for the top result \"takashi-salt-lake-city\" ..."
       ]
      },
      {
       "output_type": "stream",
       "stream": "stdout",
       "text": [
        "\n",
        "Querying https://api.yelp.com/v2/business/takashi-salt-lake-city? ...\n",
        "{'term': 'japanese', 'limit': 10, 'location': 'Seattle'}"
       ]
      },
      {
       "output_type": "stream",
       "stream": "stdout",
       "text": [
        "\n",
        "/v2/search/\n",
        "Querying https://api.yelp.com/v2/search/? ...\n",
        "10 businesses found, querying business info for the top result \"japonessa-seattle\" ..."
       ]
      },
      {
       "output_type": "stream",
       "stream": "stdout",
       "text": [
        "\n",
        "Querying https://api.yelp.com/v2/business/japonessa-seattle? ...\n"
       ]
      }
     ],
     "prompt_number": 29
    },
    {
     "cell_type": "code",
     "collapsed": false,
     "input": [
      "import pandas as pd\n",
      "#allow dataframe to carry long strings\n",
      "pd.set_option('max_colwidth',1024)\n",
      "#filter useful variables\n",
      "def createDataFrames(businesses):\n",
      "    column_names=[\n",
      "                u'is_claimed',u'rating',u'review_count',u'name',\n",
      "                u'categories',u'location',u'url',u'is_closed',\n",
      "                u'id',u'snippet_text'\n",
      "              ]\n",
      "    dataframes=[pd.DataFrame( [[ business[i][key] if key in column_names else '' for key in column_names]\n",
      "         for i in range(len(business))],columns=column_names) for business in businesses]\n",
      "    return dataframes"
     ],
     "language": "python",
     "metadata": {},
     "outputs": [],
     "prompt_number": 30
    },
    {
     "cell_type": "code",
     "collapsed": false,
     "input": [
      "#seperate address info into multiple attributes\n",
      "#and truncate urls\n",
      "def getAddress(dataframe):\n",
      "    COLUMNS = [u'name', u'rating', u'review_count', u'snippet_text', u'categories', u'is_closed', \n",
      "           u'street', u'city', u'state_code', u'postal_code', u'latitude', u'longitude',u'id',\n",
      "           u'url', u'is_claimed']\n",
      "    LOCATION_KEYS=['country_code','postal_code','state_code','address','coordinate','city']\n",
      "    address = pd.DataFrame(\n",
      "                [[dataframe.location[i][key] for key in LOCATION_KEYS] for i in range(len(dataframe))],\n",
      "                columns=[key for key in LOCATION_KEYS]\n",
      "            )\n",
      "    address['latitude']=[float(address['coordinate'][i]['latitude']) for i in range(len(dataframe))]\n",
      "    address['longitude']=[float(address['coordinate'][i]['longitude']) for i in range(len(dataframe))]\n",
      "    dataframe=pd.concat([df, address], axis=1)\n",
      "    dataframe.rename(columns={'address':'street'},inplace=True)\n",
      "    dataframe.street=dataframe.street[0][0]\n",
      "    dataframe.url= [u[0:u.find('?')] if u.find('?')>0 else u for u in dataframe.url]\n",
      "    return dataframe[COLUMNS]"
     ],
     "language": "python",
     "metadata": {},
     "outputs": [],
     "prompt_number": 31
    },
    {
     "cell_type": "code",
     "collapsed": false,
     "input": [
      "def mergeDataFrames(lists):\n",
      "    res=lists[0]\n",
      "    for i in range(1,len(lists)):\n",
      "        res=res.append(lists[i],ignore_index=True)\n",
      "    res=res.drop_duplicates(subset='id')\n",
      "    print('Acquired %i restaurants in total' %len(res))\n",
      "    return res"
     ],
     "language": "python",
     "metadata": {},
     "outputs": [],
     "prompt_number": 32
    },
    {
     "cell_type": "code",
     "collapsed": false,
     "input": [
      "#parse JSON to DFs\n",
      "dataframes=createDataFrames(businesses)\n",
      "#merge DFs\n",
      "restaurants_by_areas=[getAddress(df)for df in dataframes]\n",
      "restaurants=mergeDataFrames(restaurants_by_areas)"
     ],
     "language": "python",
     "metadata": {},
     "outputs": [
      {
       "output_type": "stream",
       "stream": "stdout",
       "text": [
        "Acquired 50 restaurants in total\n"
       ]
      }
     ],
     "prompt_number": 55
    },
    {
     "cell_type": "code",
     "collapsed": false,
     "input": [
      "from bs4 import BeautifulSoup as bs\n",
      "#get price range---------??????????\n",
      "price_tag=[bs(urllib2.urlopen(url).read(), 'html.parser').find_all('span',itemprop='priceRange') \n",
      "for url in restaurants[:5].url]\n",
      "price_range=[str(s).rfind('$')-str(s).find('$')+1 for s in price_tag]\n",
      "price_range"
     ],
     "language": "python",
     "metadata": {},
     "outputs": [
      {
       "metadata": {},
       "output_type": "pyout",
       "prompt_number": 34,
       "text": [
        "[1, 1, 1, 1, 1]"
       ]
      }
     ],
     "prompt_number": 34
    },
    {
     "cell_type": "code",
     "collapsed": false,
     "input": [
      "#returns a dictionary of (restaurant.id) : (df)(all reviews of restaurant.id) pairs\n",
      "def reviewLists(restaurants):\n",
      "    global reviews\n",
      "    if(reviews is None):\n",
      "        reviews=pd.DataFrame(columns=['id','review','review_rating','posted_date'])\n",
      "    for i in range(0,len(restaurants)):\n",
      "        reviews = reviews.append(getReviews(restaurants[i:i+1]),ignore_index=True)\n",
      "        print restaurants.index[i:i+1]\n",
      "    reviews['posted_days']=[timeFromNow(date) for date in reviews.posted_date]\n",
      "    print 'finish........'\n",
      "    #return reviews"
     ],
     "language": "python",
     "metadata": {},
     "outputs": [],
     "prompt_number": 35
    },
    {
     "cell_type": "code",
     "collapsed": false,
     "input": [
      "#get reviews from all restaurant urls\n",
      "def getReviews(restaurant):\n",
      "    reviews = pd.DataFrame(columns=['id','review','review_rating','posted_date'])\n",
      "    print('restaurant id is '+restaurant.id.values[0]+', index: %i' %restaurant.index.values[0])\n",
      "    print('review count :%i ,review rating: %i' %(restaurant.review_count,restaurant.rating))\n",
      "    count=0\n",
      "    while count<int(restaurant.review_count):  \n",
      "        url=restaurant.url.values[0]+'?start=%i'%count\n",
      "        print(url)\n",
      "        response = urllib2.urlopen(url)\n",
      "        html = response.read()\n",
      "        tmp = htmlToDataFrame(html)\n",
      "        tmp['id'] = restaurant.id.values[0]\n",
      "        reviews = reviews.append(tmp,ignore_index=True)\n",
      "        count+=20\n",
      "    return reviews"
     ],
     "language": "python",
     "metadata": {},
     "outputs": [],
     "prompt_number": 36
    },
    {
     "cell_type": "code",
     "collapsed": false,
     "input": [
      "#process html files \n",
      "from bs4 import BeautifulSoup as bs\n",
      "def htmlToDataFrame(html):\n",
      "    soup = bs(html, 'html.parser')\n",
      "    \"\"\"extract previous comments from the same user. Contents of this part have different tag classes which \n",
      "    breaks consistency of the dataframe\"\"\"\n",
      "    prev_reviews = [div.extract() for div in soup.find_all('div',{'class':'previous-review clearfix'})]\n",
      "    #get rating list\n",
      "    page1_ratings=[float(r.find('meta').get('content')) \n",
      "                   for r in soup.find_all('div',{'class':'rating-very-large'})[1:]]\n",
      "    #get review list\n",
      "    page1_reviews=soup.find_all('p',itemprop='description')\n",
      "    page1_dates=[str(s)[15:25] for s in soup.find_all('meta',itemprop='datePublished')]\n",
      "    \n",
      "    return pd.DataFrame({\"review\":stripHTMLTags(page1_reviews)\n",
      "                         ,\"review_rating\":page1_ratings\n",
      "                         ,\"posted_date\":page1_dates}).append(getPreviousReviews(prev_reviews))"
     ],
     "language": "python",
     "metadata": {},
     "outputs": [],
     "prompt_number": 37
    },
    {
     "cell_type": "code",
     "collapsed": false,
     "input": [
      "#deal with the previous review issued by the same user(which adds up to over 20 comments in one page)\n",
      "def getPreviousReviews(prev_reviews):\n",
      "    page1_ratings=[float(r.find_all('img',{'class':'offscreen','height':'303'})[0].get('alt')[0:3]) \n",
      "                   for r in prev_reviews]\n",
      "    #get review list\n",
      "    page1_reviews_helper=[r.find_all('span',{'class':'js-content-toggleable hidden'}) for r in prev_reviews]\n",
      "    page1_reviews=stripHTMLTags([str(r[0]) if r != [] else ''  for r in page1_reviews_helper])    \n",
      "    \n",
      "    page1_dates=[r.find_all('span',{'class':'rating-qualifier'})[0].getText()[:25].strip('\\n ') for r in prev_reviews]\n",
      "    page1_dates=[formatTime(date) for date in page1_dates]\n",
      "    return pd.DataFrame({\n",
      "                         \"review\":page1_reviews\n",
      "                         ,\"review_rating\":page1_ratings\n",
      "                         ,\"posted_date\":page1_dates\n",
      "                        })"
     ],
     "language": "python",
     "metadata": {},
     "outputs": [],
     "prompt_number": 38
    },
    {
     "cell_type": "code",
     "collapsed": false,
     "input": [
      "#strip html tags\n",
      "import re\n",
      "def stripHTMLTags(reviews):\n",
      "    res = [str(review).replace('<p itemprop=\"description\" lang=\"en\">','').replace('<br>',' ')\n",
      "            .replace('</br>','').replace('</p>',' ').replace('\\xc2\\xa0',' ')\n",
      "            .replace('<span class=\"js-content-toggleable hidden\">','')\n",
      "            .replace('</span>','')\n",
      "            for review in reviews]\n",
      "    #res = [stripHerf(review) for review in res]\n",
      "    return [re.sub('\\!+','!',s) for s in res]"
     ],
     "language": "python",
     "metadata": {},
     "outputs": [],
     "prompt_number": 39
    },
    {
     "cell_type": "code",
     "collapsed": false,
     "input": [
      "#remove links for pictures in reviews\n",
      "def stripHerf(review):\n",
      "    e=0\n",
      "    alist=[]\n",
      "    while(review[e:].find('<a')>0):\n",
      "        s=review[e:].find('<a')+e\n",
      "        e=review[s:].find('a>')+s\n",
      "        if(e>s):\n",
      "            alist.append([s,e+2])\n",
      "    if(len(alist)>0):\n",
      "        newstr=''\n",
      "        for pair in alist:\n",
      "            newstr+=reviews.review[i][0:pair[0]]+reviews.review[i][pair[1]:]\n",
      "        return newstr\n",
      "    else:\n",
      "        return review"
     ],
     "language": "python",
     "metadata": {},
     "outputs": [],
     "prompt_number": 40
    },
    {
     "cell_type": "code",
     "collapsed": false,
     "input": [
      "#get post_date from now in days\n",
      "from datetime import datetime\n",
      "def timeFromNow(date):\n",
      "    d0=datetime.strptime(date, \"%Y-%m-%d\")\n",
      "    return (datetime.now()-d0).days"
     ],
     "language": "python",
     "metadata": {},
     "outputs": [],
     "prompt_number": 41
    },
    {
     "cell_type": "code",
     "collapsed": false,
     "input": [
      "#change format of time from m/d/Y to Y-m-d\n",
      "def formatTime(date):\n",
      "    d = datetime.strptime(date, \"%m/%d/%Y\")\n",
      "    return ('%i-%i-%i' %(d.year,d.month,d.day))"
     ],
     "language": "python",
     "metadata": {},
     "outputs": [],
     "prompt_number": 42
    },
    {
     "cell_type": "code",
     "collapsed": false,
     "input": [
      "global reviews\n",
      "reviews=None"
     ],
     "language": "python",
     "metadata": {},
     "outputs": [],
     "prompt_number": 43
    },
    {
     "cell_type": "code",
     "collapsed": false,
     "input": [
      "#requesting reviews of restaurants\n",
      "reviewLists(restaurants[:])"
     ],
     "language": "python",
     "metadata": {},
     "outputs": [
      {
       "output_type": "stream",
       "stream": "stdout",
       "text": [
        "restaurant id is nishino-seattle, index: 45\n",
        "review count :511 ,review rating: 4\n",
        "http://www.yelp.com/biz/nishino-seattle?start=0\n",
        "http://www.yelp.com/biz/nishino-seattle?start=20"
       ]
      },
      {
       "output_type": "stream",
       "stream": "stdout",
       "text": [
        "\n",
        "http://www.yelp.com/biz/nishino-seattle?start=40"
       ]
      },
      {
       "output_type": "stream",
       "stream": "stdout",
       "text": [
        "\n",
        "http://www.yelp.com/biz/nishino-seattle?start=60"
       ]
      },
      {
       "output_type": "stream",
       "stream": "stdout",
       "text": [
        "\n",
        "http://www.yelp.com/biz/nishino-seattle?start=80"
       ]
      },
      {
       "output_type": "stream",
       "stream": "stdout",
       "text": [
        "\n",
        "http://www.yelp.com/biz/nishino-seattle?start=100"
       ]
      },
      {
       "output_type": "stream",
       "stream": "stdout",
       "text": [
        "\n",
        "http://www.yelp.com/biz/nishino-seattle?start=120"
       ]
      },
      {
       "output_type": "stream",
       "stream": "stdout",
       "text": [
        "\n",
        "http://www.yelp.com/biz/nishino-seattle?start=140"
       ]
      },
      {
       "output_type": "stream",
       "stream": "stdout",
       "text": [
        "\n",
        "http://www.yelp.com/biz/nishino-seattle?start=160"
       ]
      },
      {
       "output_type": "stream",
       "stream": "stdout",
       "text": [
        "\n",
        "http://www.yelp.com/biz/nishino-seattle?start=180"
       ]
      },
      {
       "output_type": "stream",
       "stream": "stdout",
       "text": [
        "\n",
        "http://www.yelp.com/biz/nishino-seattle?start=200"
       ]
      },
      {
       "output_type": "stream",
       "stream": "stdout",
       "text": [
        "\n",
        "http://www.yelp.com/biz/nishino-seattle?start=220"
       ]
      },
      {
       "output_type": "stream",
       "stream": "stdout",
       "text": [
        "\n",
        "http://www.yelp.com/biz/nishino-seattle?start=240"
       ]
      },
      {
       "output_type": "stream",
       "stream": "stdout",
       "text": [
        "\n",
        "http://www.yelp.com/biz/nishino-seattle?start=260"
       ]
      },
      {
       "output_type": "stream",
       "stream": "stdout",
       "text": [
        "\n",
        "http://www.yelp.com/biz/nishino-seattle?start=280"
       ]
      },
      {
       "output_type": "stream",
       "stream": "stdout",
       "text": [
        "\n",
        "http://www.yelp.com/biz/nishino-seattle?start=300"
       ]
      },
      {
       "output_type": "stream",
       "stream": "stdout",
       "text": [
        "\n",
        "http://www.yelp.com/biz/nishino-seattle?start=320"
       ]
      },
      {
       "output_type": "stream",
       "stream": "stdout",
       "text": [
        "\n",
        "http://www.yelp.com/biz/nishino-seattle?start=340"
       ]
      },
      {
       "output_type": "stream",
       "stream": "stdout",
       "text": [
        "\n",
        "http://www.yelp.com/biz/nishino-seattle?start=360"
       ]
      },
      {
       "output_type": "stream",
       "stream": "stdout",
       "text": [
        "\n",
        "http://www.yelp.com/biz/nishino-seattle?start=380"
       ]
      },
      {
       "output_type": "stream",
       "stream": "stdout",
       "text": [
        "\n",
        "http://www.yelp.com/biz/nishino-seattle?start=400"
       ]
      },
      {
       "output_type": "stream",
       "stream": "stdout",
       "text": [
        "\n",
        "http://www.yelp.com/biz/nishino-seattle?start=420"
       ]
      },
      {
       "output_type": "stream",
       "stream": "stdout",
       "text": [
        "\n",
        "http://www.yelp.com/biz/nishino-seattle?start=440"
       ]
      },
      {
       "output_type": "stream",
       "stream": "stdout",
       "text": [
        "\n",
        "http://www.yelp.com/biz/nishino-seattle?start=460"
       ]
      },
      {
       "output_type": "stream",
       "stream": "stdout",
       "text": [
        "\n",
        "http://www.yelp.com/biz/nishino-seattle?start=480"
       ]
      },
      {
       "output_type": "stream",
       "stream": "stdout",
       "text": [
        "\n",
        "http://www.yelp.com/biz/nishino-seattle?start=500"
       ]
      },
      {
       "output_type": "stream",
       "stream": "stdout",
       "text": [
        "\n",
        "Int64Index([45], dtype='int64')"
       ]
      },
      {
       "output_type": "stream",
       "stream": "stdout",
       "text": [
        "\n",
        "restaurant id is shiros-seattle, index: 46\n",
        "review count :1200 ,review rating: 4\n",
        "http://www.yelp.com/biz/shiros-seattle?start=0\n",
        "http://www.yelp.com/biz/shiros-seattle?start=20"
       ]
      },
      {
       "output_type": "stream",
       "stream": "stdout",
       "text": [
        "\n",
        "http://www.yelp.com/biz/shiros-seattle?start=40"
       ]
      },
      {
       "output_type": "stream",
       "stream": "stdout",
       "text": [
        "\n",
        "http://www.yelp.com/biz/shiros-seattle?start=60"
       ]
      },
      {
       "output_type": "stream",
       "stream": "stdout",
       "text": [
        "\n",
        "http://www.yelp.com/biz/shiros-seattle?start=80"
       ]
      },
      {
       "output_type": "stream",
       "stream": "stdout",
       "text": [
        "\n",
        "http://www.yelp.com/biz/shiros-seattle?start=100"
       ]
      },
      {
       "output_type": "stream",
       "stream": "stdout",
       "text": [
        "\n",
        "http://www.yelp.com/biz/shiros-seattle?start=120"
       ]
      },
      {
       "output_type": "stream",
       "stream": "stdout",
       "text": [
        "\n",
        "http://www.yelp.com/biz/shiros-seattle?start=140"
       ]
      },
      {
       "output_type": "stream",
       "stream": "stdout",
       "text": [
        "\n",
        "http://www.yelp.com/biz/shiros-seattle?start=160"
       ]
      },
      {
       "output_type": "stream",
       "stream": "stdout",
       "text": [
        "\n",
        "http://www.yelp.com/biz/shiros-seattle?start=180"
       ]
      },
      {
       "output_type": "stream",
       "stream": "stdout",
       "text": [
        "\n",
        "http://www.yelp.com/biz/shiros-seattle?start=200"
       ]
      },
      {
       "output_type": "stream",
       "stream": "stdout",
       "text": [
        "\n",
        "http://www.yelp.com/biz/shiros-seattle?start=220"
       ]
      },
      {
       "output_type": "stream",
       "stream": "stdout",
       "text": [
        "\n",
        "http://www.yelp.com/biz/shiros-seattle?start=240"
       ]
      },
      {
       "output_type": "stream",
       "stream": "stdout",
       "text": [
        "\n",
        "http://www.yelp.com/biz/shiros-seattle?start=260"
       ]
      },
      {
       "output_type": "stream",
       "stream": "stdout",
       "text": [
        "\n",
        "http://www.yelp.com/biz/shiros-seattle?start=280"
       ]
      },
      {
       "output_type": "stream",
       "stream": "stdout",
       "text": [
        "\n",
        "http://www.yelp.com/biz/shiros-seattle?start=300"
       ]
      },
      {
       "output_type": "stream",
       "stream": "stdout",
       "text": [
        "\n",
        "http://www.yelp.com/biz/shiros-seattle?start=320"
       ]
      },
      {
       "output_type": "stream",
       "stream": "stdout",
       "text": [
        "\n",
        "http://www.yelp.com/biz/shiros-seattle?start=340"
       ]
      },
      {
       "output_type": "stream",
       "stream": "stdout",
       "text": [
        "\n",
        "http://www.yelp.com/biz/shiros-seattle?start=360"
       ]
      },
      {
       "output_type": "stream",
       "stream": "stdout",
       "text": [
        "\n",
        "http://www.yelp.com/biz/shiros-seattle?start=380"
       ]
      },
      {
       "output_type": "stream",
       "stream": "stdout",
       "text": [
        "\n",
        "http://www.yelp.com/biz/shiros-seattle?start=400"
       ]
      },
      {
       "output_type": "stream",
       "stream": "stdout",
       "text": [
        "\n",
        "http://www.yelp.com/biz/shiros-seattle?start=420"
       ]
      },
      {
       "output_type": "stream",
       "stream": "stdout",
       "text": [
        "\n",
        "http://www.yelp.com/biz/shiros-seattle?start=440"
       ]
      },
      {
       "output_type": "stream",
       "stream": "stdout",
       "text": [
        "\n",
        "http://www.yelp.com/biz/shiros-seattle?start=460"
       ]
      },
      {
       "output_type": "stream",
       "stream": "stdout",
       "text": [
        "\n",
        "http://www.yelp.com/biz/shiros-seattle?start=480"
       ]
      },
      {
       "output_type": "stream",
       "stream": "stdout",
       "text": [
        "\n",
        "http://www.yelp.com/biz/shiros-seattle?start=500"
       ]
      },
      {
       "output_type": "stream",
       "stream": "stdout",
       "text": [
        "\n",
        "http://www.yelp.com/biz/shiros-seattle?start=520"
       ]
      },
      {
       "output_type": "stream",
       "stream": "stdout",
       "text": [
        "\n",
        "http://www.yelp.com/biz/shiros-seattle?start=540"
       ]
      },
      {
       "output_type": "stream",
       "stream": "stdout",
       "text": [
        "\n",
        "http://www.yelp.com/biz/shiros-seattle?start=560"
       ]
      },
      {
       "output_type": "stream",
       "stream": "stdout",
       "text": [
        "\n",
        "http://www.yelp.com/biz/shiros-seattle?start=580"
       ]
      },
      {
       "output_type": "stream",
       "stream": "stdout",
       "text": [
        "\n",
        "http://www.yelp.com/biz/shiros-seattle?start=600"
       ]
      },
      {
       "output_type": "stream",
       "stream": "stdout",
       "text": [
        "\n",
        "http://www.yelp.com/biz/shiros-seattle?start=620"
       ]
      },
      {
       "output_type": "stream",
       "stream": "stdout",
       "text": [
        "\n",
        "http://www.yelp.com/biz/shiros-seattle?start=640"
       ]
      },
      {
       "output_type": "stream",
       "stream": "stdout",
       "text": [
        "\n",
        "http://www.yelp.com/biz/shiros-seattle?start=660"
       ]
      },
      {
       "output_type": "stream",
       "stream": "stdout",
       "text": [
        "\n",
        "http://www.yelp.com/biz/shiros-seattle?start=680"
       ]
      },
      {
       "output_type": "stream",
       "stream": "stdout",
       "text": [
        "\n",
        "http://www.yelp.com/biz/shiros-seattle?start=700"
       ]
      },
      {
       "output_type": "stream",
       "stream": "stdout",
       "text": [
        "\n",
        "http://www.yelp.com/biz/shiros-seattle?start=720"
       ]
      },
      {
       "output_type": "stream",
       "stream": "stdout",
       "text": [
        "\n",
        "http://www.yelp.com/biz/shiros-seattle?start=740"
       ]
      },
      {
       "output_type": "stream",
       "stream": "stdout",
       "text": [
        "\n",
        "http://www.yelp.com/biz/shiros-seattle?start=760"
       ]
      },
      {
       "output_type": "stream",
       "stream": "stdout",
       "text": [
        "\n",
        "http://www.yelp.com/biz/shiros-seattle?start=780"
       ]
      },
      {
       "output_type": "stream",
       "stream": "stdout",
       "text": [
        "\n",
        "http://www.yelp.com/biz/shiros-seattle?start=800"
       ]
      },
      {
       "output_type": "stream",
       "stream": "stdout",
       "text": [
        "\n",
        "http://www.yelp.com/biz/shiros-seattle?start=820"
       ]
      },
      {
       "output_type": "stream",
       "stream": "stdout",
       "text": [
        "\n",
        "http://www.yelp.com/biz/shiros-seattle?start=840"
       ]
      },
      {
       "output_type": "stream",
       "stream": "stdout",
       "text": [
        "\n",
        "http://www.yelp.com/biz/shiros-seattle?start=860"
       ]
      },
      {
       "output_type": "stream",
       "stream": "stdout",
       "text": [
        "\n",
        "http://www.yelp.com/biz/shiros-seattle?start=880"
       ]
      },
      {
       "output_type": "stream",
       "stream": "stdout",
       "text": [
        "\n",
        "http://www.yelp.com/biz/shiros-seattle?start=900"
       ]
      },
      {
       "output_type": "stream",
       "stream": "stdout",
       "text": [
        "\n",
        "http://www.yelp.com/biz/shiros-seattle?start=920"
       ]
      },
      {
       "output_type": "stream",
       "stream": "stdout",
       "text": [
        "\n",
        "http://www.yelp.com/biz/shiros-seattle?start=940"
       ]
      },
      {
       "output_type": "stream",
       "stream": "stdout",
       "text": [
        "\n",
        "http://www.yelp.com/biz/shiros-seattle?start=960"
       ]
      },
      {
       "output_type": "stream",
       "stream": "stdout",
       "text": [
        "\n",
        "http://www.yelp.com/biz/shiros-seattle?start=980"
       ]
      },
      {
       "output_type": "stream",
       "stream": "stdout",
       "text": [
        "\n",
        "http://www.yelp.com/biz/shiros-seattle?start=1000"
       ]
      },
      {
       "output_type": "stream",
       "stream": "stdout",
       "text": [
        "\n",
        "http://www.yelp.com/biz/shiros-seattle?start=1020"
       ]
      },
      {
       "output_type": "stream",
       "stream": "stdout",
       "text": [
        "\n",
        "http://www.yelp.com/biz/shiros-seattle?start=1040"
       ]
      },
      {
       "output_type": "stream",
       "stream": "stdout",
       "text": [
        "\n",
        "http://www.yelp.com/biz/shiros-seattle?start=1060"
       ]
      },
      {
       "output_type": "stream",
       "stream": "stdout",
       "text": [
        "\n",
        "http://www.yelp.com/biz/shiros-seattle?start=1080"
       ]
      },
      {
       "output_type": "stream",
       "stream": "stdout",
       "text": [
        "\n",
        "http://www.yelp.com/biz/shiros-seattle?start=1100"
       ]
      },
      {
       "output_type": "stream",
       "stream": "stdout",
       "text": [
        "\n",
        "http://www.yelp.com/biz/shiros-seattle?start=1120"
       ]
      },
      {
       "output_type": "stream",
       "stream": "stdout",
       "text": [
        "\n",
        "http://www.yelp.com/biz/shiros-seattle?start=1140"
       ]
      },
      {
       "output_type": "stream",
       "stream": "stdout",
       "text": [
        "\n",
        "http://www.yelp.com/biz/shiros-seattle?start=1160"
       ]
      },
      {
       "output_type": "stream",
       "stream": "stdout",
       "text": [
        "\n",
        "http://www.yelp.com/biz/shiros-seattle?start=1180"
       ]
      },
      {
       "output_type": "stream",
       "stream": "stdout",
       "text": [
        "\n",
        "Int64Index([46], dtype='int64')"
       ]
      },
      {
       "output_type": "stream",
       "stream": "stdout",
       "text": [
        "\n",
        "restaurant id is momiji-seattle, index: 47\n",
        "review count :713 ,review rating: 4\n",
        "http://www.yelp.com/biz/momiji-seattle?start=0\n",
        "http://www.yelp.com/biz/momiji-seattle?start=20"
       ]
      },
      {
       "output_type": "stream",
       "stream": "stdout",
       "text": [
        "\n",
        "http://www.yelp.com/biz/momiji-seattle?start=40"
       ]
      },
      {
       "output_type": "stream",
       "stream": "stdout",
       "text": [
        "\n",
        "http://www.yelp.com/biz/momiji-seattle?start=60"
       ]
      },
      {
       "output_type": "stream",
       "stream": "stdout",
       "text": [
        "\n",
        "http://www.yelp.com/biz/momiji-seattle?start=80"
       ]
      },
      {
       "output_type": "stream",
       "stream": "stdout",
       "text": [
        "\n",
        "http://www.yelp.com/biz/momiji-seattle?start=100"
       ]
      },
      {
       "output_type": "stream",
       "stream": "stdout",
       "text": [
        "\n",
        "http://www.yelp.com/biz/momiji-seattle?start=120"
       ]
      },
      {
       "output_type": "stream",
       "stream": "stdout",
       "text": [
        "\n",
        "http://www.yelp.com/biz/momiji-seattle?start=140"
       ]
      },
      {
       "output_type": "stream",
       "stream": "stdout",
       "text": [
        "\n",
        "http://www.yelp.com/biz/momiji-seattle?start=160"
       ]
      },
      {
       "output_type": "stream",
       "stream": "stdout",
       "text": [
        "\n",
        "http://www.yelp.com/biz/momiji-seattle?start=180"
       ]
      },
      {
       "output_type": "stream",
       "stream": "stdout",
       "text": [
        "\n",
        "http://www.yelp.com/biz/momiji-seattle?start=200"
       ]
      },
      {
       "output_type": "stream",
       "stream": "stdout",
       "text": [
        "\n",
        "http://www.yelp.com/biz/momiji-seattle?start=220"
       ]
      },
      {
       "output_type": "stream",
       "stream": "stdout",
       "text": [
        "\n",
        "http://www.yelp.com/biz/momiji-seattle?start=240"
       ]
      },
      {
       "output_type": "stream",
       "stream": "stdout",
       "text": [
        "\n",
        "http://www.yelp.com/biz/momiji-seattle?start=260"
       ]
      },
      {
       "output_type": "stream",
       "stream": "stdout",
       "text": [
        "\n",
        "http://www.yelp.com/biz/momiji-seattle?start=280"
       ]
      },
      {
       "output_type": "stream",
       "stream": "stdout",
       "text": [
        "\n",
        "http://www.yelp.com/biz/momiji-seattle?start=300"
       ]
      },
      {
       "output_type": "stream",
       "stream": "stdout",
       "text": [
        "\n",
        "http://www.yelp.com/biz/momiji-seattle?start=320"
       ]
      },
      {
       "output_type": "stream",
       "stream": "stdout",
       "text": [
        "\n",
        "http://www.yelp.com/biz/momiji-seattle?start=340"
       ]
      },
      {
       "output_type": "stream",
       "stream": "stdout",
       "text": [
        "\n",
        "http://www.yelp.com/biz/momiji-seattle?start=360"
       ]
      },
      {
       "output_type": "stream",
       "stream": "stdout",
       "text": [
        "\n",
        "http://www.yelp.com/biz/momiji-seattle?start=380"
       ]
      },
      {
       "output_type": "stream",
       "stream": "stdout",
       "text": [
        "\n",
        "http://www.yelp.com/biz/momiji-seattle?start=400"
       ]
      },
      {
       "output_type": "stream",
       "stream": "stdout",
       "text": [
        "\n",
        "http://www.yelp.com/biz/momiji-seattle?start=420"
       ]
      },
      {
       "output_type": "stream",
       "stream": "stdout",
       "text": [
        "\n",
        "http://www.yelp.com/biz/momiji-seattle?start=440"
       ]
      },
      {
       "output_type": "stream",
       "stream": "stdout",
       "text": [
        "\n",
        "http://www.yelp.com/biz/momiji-seattle?start=460"
       ]
      },
      {
       "output_type": "stream",
       "stream": "stdout",
       "text": [
        "\n",
        "http://www.yelp.com/biz/momiji-seattle?start=480"
       ]
      },
      {
       "output_type": "stream",
       "stream": "stdout",
       "text": [
        "\n",
        "http://www.yelp.com/biz/momiji-seattle?start=500"
       ]
      },
      {
       "output_type": "stream",
       "stream": "stdout",
       "text": [
        "\n",
        "http://www.yelp.com/biz/momiji-seattle?start=520"
       ]
      },
      {
       "output_type": "stream",
       "stream": "stdout",
       "text": [
        "\n",
        "http://www.yelp.com/biz/momiji-seattle?start=540"
       ]
      },
      {
       "output_type": "stream",
       "stream": "stdout",
       "text": [
        "\n",
        "http://www.yelp.com/biz/momiji-seattle?start=560"
       ]
      },
      {
       "output_type": "stream",
       "stream": "stdout",
       "text": [
        "\n",
        "http://www.yelp.com/biz/momiji-seattle?start=580"
       ]
      },
      {
       "output_type": "stream",
       "stream": "stdout",
       "text": [
        "\n",
        "http://www.yelp.com/biz/momiji-seattle?start=600"
       ]
      },
      {
       "output_type": "stream",
       "stream": "stdout",
       "text": [
        "\n",
        "http://www.yelp.com/biz/momiji-seattle?start=620"
       ]
      },
      {
       "output_type": "stream",
       "stream": "stdout",
       "text": [
        "\n",
        "http://www.yelp.com/biz/momiji-seattle?start=640"
       ]
      },
      {
       "output_type": "stream",
       "stream": "stdout",
       "text": [
        "\n",
        "http://www.yelp.com/biz/momiji-seattle?start=660"
       ]
      },
      {
       "output_type": "stream",
       "stream": "stdout",
       "text": [
        "\n",
        "http://www.yelp.com/biz/momiji-seattle?start=680"
       ]
      },
      {
       "output_type": "stream",
       "stream": "stdout",
       "text": [
        "\n",
        "http://www.yelp.com/biz/momiji-seattle?start=700"
       ]
      },
      {
       "output_type": "stream",
       "stream": "stdout",
       "text": [
        "\n",
        "Int64Index([47], dtype='int64')"
       ]
      },
      {
       "output_type": "stream",
       "stream": "stdout",
       "text": [
        "\n",
        "restaurant id is mashiko-japanese-restaurant-and-sushi-bar-seattle, index: 48\n",
        "review count :496 ,review rating: 4\n",
        "http://www.yelp.com/biz/mashiko-japanese-restaurant-and-sushi-bar-seattle?start=0\n",
        "http://www.yelp.com/biz/mashiko-japanese-restaurant-and-sushi-bar-seattle?start=20"
       ]
      },
      {
       "output_type": "stream",
       "stream": "stdout",
       "text": [
        "\n",
        "http://www.yelp.com/biz/mashiko-japanese-restaurant-and-sushi-bar-seattle?start=40"
       ]
      },
      {
       "output_type": "stream",
       "stream": "stdout",
       "text": [
        "\n",
        "http://www.yelp.com/biz/mashiko-japanese-restaurant-and-sushi-bar-seattle?start=60"
       ]
      },
      {
       "output_type": "stream",
       "stream": "stdout",
       "text": [
        "\n",
        "http://www.yelp.com/biz/mashiko-japanese-restaurant-and-sushi-bar-seattle?start=80"
       ]
      },
      {
       "output_type": "stream",
       "stream": "stdout",
       "text": [
        "\n",
        "http://www.yelp.com/biz/mashiko-japanese-restaurant-and-sushi-bar-seattle?start=100"
       ]
      },
      {
       "output_type": "stream",
       "stream": "stdout",
       "text": [
        "\n",
        "http://www.yelp.com/biz/mashiko-japanese-restaurant-and-sushi-bar-seattle?start=120"
       ]
      },
      {
       "output_type": "stream",
       "stream": "stdout",
       "text": [
        "\n",
        "http://www.yelp.com/biz/mashiko-japanese-restaurant-and-sushi-bar-seattle?start=140"
       ]
      },
      {
       "output_type": "stream",
       "stream": "stdout",
       "text": [
        "\n",
        "http://www.yelp.com/biz/mashiko-japanese-restaurant-and-sushi-bar-seattle?start=160"
       ]
      },
      {
       "output_type": "stream",
       "stream": "stdout",
       "text": [
        "\n",
        "http://www.yelp.com/biz/mashiko-japanese-restaurant-and-sushi-bar-seattle?start=180"
       ]
      },
      {
       "output_type": "stream",
       "stream": "stdout",
       "text": [
        "\n",
        "http://www.yelp.com/biz/mashiko-japanese-restaurant-and-sushi-bar-seattle?start=200"
       ]
      },
      {
       "output_type": "stream",
       "stream": "stdout",
       "text": [
        "\n",
        "http://www.yelp.com/biz/mashiko-japanese-restaurant-and-sushi-bar-seattle?start=220"
       ]
      },
      {
       "output_type": "stream",
       "stream": "stdout",
       "text": [
        "\n",
        "http://www.yelp.com/biz/mashiko-japanese-restaurant-and-sushi-bar-seattle?start=240"
       ]
      },
      {
       "output_type": "stream",
       "stream": "stdout",
       "text": [
        "\n",
        "http://www.yelp.com/biz/mashiko-japanese-restaurant-and-sushi-bar-seattle?start=260"
       ]
      },
      {
       "output_type": "stream",
       "stream": "stdout",
       "text": [
        "\n",
        "http://www.yelp.com/biz/mashiko-japanese-restaurant-and-sushi-bar-seattle?start=280"
       ]
      },
      {
       "output_type": "stream",
       "stream": "stdout",
       "text": [
        "\n",
        "http://www.yelp.com/biz/mashiko-japanese-restaurant-and-sushi-bar-seattle?start=300"
       ]
      },
      {
       "output_type": "stream",
       "stream": "stdout",
       "text": [
        "\n",
        "http://www.yelp.com/biz/mashiko-japanese-restaurant-and-sushi-bar-seattle?start=320"
       ]
      },
      {
       "output_type": "stream",
       "stream": "stdout",
       "text": [
        "\n",
        "http://www.yelp.com/biz/mashiko-japanese-restaurant-and-sushi-bar-seattle?start=340"
       ]
      },
      {
       "output_type": "stream",
       "stream": "stdout",
       "text": [
        "\n",
        "http://www.yelp.com/biz/mashiko-japanese-restaurant-and-sushi-bar-seattle?start=360"
       ]
      },
      {
       "output_type": "stream",
       "stream": "stdout",
       "text": [
        "\n",
        "http://www.yelp.com/biz/mashiko-japanese-restaurant-and-sushi-bar-seattle?start=380"
       ]
      },
      {
       "output_type": "stream",
       "stream": "stdout",
       "text": [
        "\n",
        "http://www.yelp.com/biz/mashiko-japanese-restaurant-and-sushi-bar-seattle?start=400"
       ]
      },
      {
       "output_type": "stream",
       "stream": "stdout",
       "text": [
        "\n",
        "http://www.yelp.com/biz/mashiko-japanese-restaurant-and-sushi-bar-seattle?start=420"
       ]
      },
      {
       "output_type": "stream",
       "stream": "stdout",
       "text": [
        "\n",
        "http://www.yelp.com/biz/mashiko-japanese-restaurant-and-sushi-bar-seattle?start=440"
       ]
      },
      {
       "output_type": "stream",
       "stream": "stdout",
       "text": [
        "\n",
        "http://www.yelp.com/biz/mashiko-japanese-restaurant-and-sushi-bar-seattle?start=460"
       ]
      },
      {
       "output_type": "stream",
       "stream": "stdout",
       "text": [
        "\n",
        "http://www.yelp.com/biz/mashiko-japanese-restaurant-and-sushi-bar-seattle?start=480"
       ]
      },
      {
       "output_type": "stream",
       "stream": "stdout",
       "text": [
        "\n",
        "Int64Index([48], dtype='int64')"
       ]
      },
      {
       "output_type": "stream",
       "stream": "stdout",
       "text": [
        "\n",
        "restaurant id is musashis-seattle, index: 49\n",
        "review count :779 ,review rating: 4\n",
        "http://www.yelp.com/biz/musashis-seattle?start=0\n",
        "http://www.yelp.com/biz/musashis-seattle?start=20"
       ]
      },
      {
       "output_type": "stream",
       "stream": "stdout",
       "text": [
        "\n",
        "http://www.yelp.com/biz/musashis-seattle?start=40"
       ]
      },
      {
       "output_type": "stream",
       "stream": "stdout",
       "text": [
        "\n",
        "http://www.yelp.com/biz/musashis-seattle?start=60"
       ]
      },
      {
       "output_type": "stream",
       "stream": "stdout",
       "text": [
        "\n",
        "http://www.yelp.com/biz/musashis-seattle?start=80"
       ]
      },
      {
       "output_type": "stream",
       "stream": "stdout",
       "text": [
        "\n",
        "http://www.yelp.com/biz/musashis-seattle?start=100"
       ]
      },
      {
       "output_type": "stream",
       "stream": "stdout",
       "text": [
        "\n",
        "http://www.yelp.com/biz/musashis-seattle?start=120"
       ]
      },
      {
       "output_type": "stream",
       "stream": "stdout",
       "text": [
        "\n",
        "http://www.yelp.com/biz/musashis-seattle?start=140"
       ]
      },
      {
       "output_type": "stream",
       "stream": "stdout",
       "text": [
        "\n",
        "http://www.yelp.com/biz/musashis-seattle?start=160"
       ]
      },
      {
       "output_type": "stream",
       "stream": "stdout",
       "text": [
        "\n",
        "http://www.yelp.com/biz/musashis-seattle?start=180"
       ]
      },
      {
       "output_type": "stream",
       "stream": "stdout",
       "text": [
        "\n",
        "http://www.yelp.com/biz/musashis-seattle?start=200"
       ]
      },
      {
       "output_type": "stream",
       "stream": "stdout",
       "text": [
        "\n",
        "http://www.yelp.com/biz/musashis-seattle?start=220"
       ]
      },
      {
       "output_type": "stream",
       "stream": "stdout",
       "text": [
        "\n",
        "http://www.yelp.com/biz/musashis-seattle?start=240"
       ]
      },
      {
       "output_type": "stream",
       "stream": "stdout",
       "text": [
        "\n",
        "http://www.yelp.com/biz/musashis-seattle?start=260"
       ]
      },
      {
       "output_type": "stream",
       "stream": "stdout",
       "text": [
        "\n",
        "http://www.yelp.com/biz/musashis-seattle?start=280"
       ]
      },
      {
       "output_type": "stream",
       "stream": "stdout",
       "text": [
        "\n",
        "http://www.yelp.com/biz/musashis-seattle?start=300"
       ]
      },
      {
       "output_type": "stream",
       "stream": "stdout",
       "text": [
        "\n",
        "http://www.yelp.com/biz/musashis-seattle?start=320"
       ]
      },
      {
       "output_type": "stream",
       "stream": "stdout",
       "text": [
        "\n",
        "http://www.yelp.com/biz/musashis-seattle?start=340"
       ]
      },
      {
       "output_type": "stream",
       "stream": "stdout",
       "text": [
        "\n",
        "http://www.yelp.com/biz/musashis-seattle?start=360"
       ]
      },
      {
       "output_type": "stream",
       "stream": "stdout",
       "text": [
        "\n",
        "http://www.yelp.com/biz/musashis-seattle?start=380"
       ]
      },
      {
       "output_type": "stream",
       "stream": "stdout",
       "text": [
        "\n",
        "http://www.yelp.com/biz/musashis-seattle?start=400"
       ]
      },
      {
       "output_type": "stream",
       "stream": "stdout",
       "text": [
        "\n",
        "http://www.yelp.com/biz/musashis-seattle?start=420"
       ]
      },
      {
       "output_type": "stream",
       "stream": "stdout",
       "text": [
        "\n",
        "http://www.yelp.com/biz/musashis-seattle?start=440"
       ]
      },
      {
       "output_type": "stream",
       "stream": "stdout",
       "text": [
        "\n",
        "http://www.yelp.com/biz/musashis-seattle?start=460"
       ]
      },
      {
       "output_type": "stream",
       "stream": "stdout",
       "text": [
        "\n",
        "http://www.yelp.com/biz/musashis-seattle?start=480"
       ]
      },
      {
       "output_type": "stream",
       "stream": "stdout",
       "text": [
        "\n",
        "http://www.yelp.com/biz/musashis-seattle?start=500"
       ]
      },
      {
       "output_type": "stream",
       "stream": "stdout",
       "text": [
        "\n",
        "http://www.yelp.com/biz/musashis-seattle?start=520"
       ]
      },
      {
       "output_type": "stream",
       "stream": "stdout",
       "text": [
        "\n",
        "http://www.yelp.com/biz/musashis-seattle?start=540"
       ]
      },
      {
       "output_type": "stream",
       "stream": "stdout",
       "text": [
        "\n",
        "http://www.yelp.com/biz/musashis-seattle?start=560"
       ]
      },
      {
       "output_type": "stream",
       "stream": "stdout",
       "text": [
        "\n",
        "http://www.yelp.com/biz/musashis-seattle?start=580"
       ]
      },
      {
       "output_type": "stream",
       "stream": "stdout",
       "text": [
        "\n",
        "http://www.yelp.com/biz/musashis-seattle?start=600"
       ]
      },
      {
       "output_type": "stream",
       "stream": "stdout",
       "text": [
        "\n",
        "http://www.yelp.com/biz/musashis-seattle?start=620"
       ]
      },
      {
       "output_type": "stream",
       "stream": "stdout",
       "text": [
        "\n",
        "http://www.yelp.com/biz/musashis-seattle?start=640"
       ]
      },
      {
       "output_type": "stream",
       "stream": "stdout",
       "text": [
        "\n",
        "http://www.yelp.com/biz/musashis-seattle?start=660"
       ]
      },
      {
       "output_type": "stream",
       "stream": "stdout",
       "text": [
        "\n",
        "http://www.yelp.com/biz/musashis-seattle?start=680"
       ]
      },
      {
       "output_type": "stream",
       "stream": "stdout",
       "text": [
        "\n",
        "http://www.yelp.com/biz/musashis-seattle?start=700"
       ]
      },
      {
       "output_type": "stream",
       "stream": "stdout",
       "text": [
        "\n",
        "http://www.yelp.com/biz/musashis-seattle?start=720"
       ]
      },
      {
       "output_type": "stream",
       "stream": "stdout",
       "text": [
        "\n",
        "http://www.yelp.com/biz/musashis-seattle?start=740"
       ]
      },
      {
       "output_type": "stream",
       "stream": "stdout",
       "text": [
        "\n",
        "http://www.yelp.com/biz/musashis-seattle?start=760"
       ]
      },
      {
       "output_type": "stream",
       "stream": "stdout",
       "text": [
        "\n",
        "Int64Index([49], dtype='int64')"
       ]
      },
      {
       "output_type": "stream",
       "stream": "stdout",
       "text": [
        "\n",
        "finish........"
       ]
      },
      {
       "output_type": "stream",
       "stream": "stdout",
       "text": [
        "\n"
       ]
      }
     ],
     "prompt_number": 54
    },
    {
     "cell_type": "code",
     "collapsed": false,
     "input": [
      "print len(reviews.id.unique())\n",
      "print len(reviews)\n",
      "print sum([restaurants.review_count[restaurants.id==i].values[0] for i in reviews.id.unique()])\n",
      "#which restaurants it is\n",
      "print [restaurants.index[restaurants.id==i].values[0] for i in reviews.id.unique()]"
     ],
     "language": "python",
     "metadata": {},
     "outputs": [
      {
       "output_type": "stream",
       "stream": "stdout",
       "text": [
        "50\n",
        "21675\n",
        "20808\n",
        "[10, 0, 1, 2, 3, 4, 5, 6, 7, 8, 9, 11, 12, 13, 14, 15, 16, 17, 18, 19, 20, 21, 22, 23, 24, 25, 26, 27, 28, 29, 30, 31, 32, 33, 34, 35, 36, 37, 38, 39, 40, 41, 42, 43, 44, 45, 46, 47, 48, 49]"
       ]
      },
      {
       "output_type": "stream",
       "stream": "stdout",
       "text": [
        "\n"
       ]
      }
     ],
     "prompt_number": 55
    },
    {
     "cell_type": "code",
     "collapsed": false,
     "input": [
      "#remove empty and duplicate\n",
      "reviews=reviews[reviews.review!='']\n",
      "reviews.review[reviews.review.duplicated()]"
     ],
     "language": "python",
     "metadata": {},
     "outputs": [
      {
       "metadata": {},
       "output_type": "pyout",
       "prompt_number": 138,
       "text": [
        "Series([], Name: review, dtype: object)"
       ]
      }
     ],
     "prompt_number": 138
    },
    {
     "cell_type": "code",
     "collapsed": false,
     "input": [
      "len(restaurants)"
     ],
     "language": "python",
     "metadata": {},
     "outputs": [
      {
       "metadata": {},
       "output_type": "pyout",
       "prompt_number": 33,
       "text": [
        "50"
       ]
      }
     ],
     "prompt_number": 33
    },
    {
     "cell_type": "code",
     "collapsed": false,
     "input": [
      "#save to file\n",
      "filename='restaurants_0_50.txt'\n",
      "seperator='\\\\'\n",
      "#should use more special seperator\n",
      "restaurants.to_csv(filename,sep='\\\\', encoding='utf-8')"
     ],
     "language": "python",
     "metadata": {},
     "outputs": [],
     "prompt_number": 60
    },
    {
     "cell_type": "code",
     "collapsed": false,
     "input": [
      "%cd~/GitHub/Yelp_reviews\n",
      "execfile('read_restaurants_txt.py')\n",
      "restaurants=read_restaurants_txt('restaurants_0_50.txt',seperator='\\\\')"
     ],
     "language": "python",
     "metadata": {},
     "outputs": [
      {
       "output_type": "stream",
       "stream": "stdout",
       "text": [
        "/Users/xiaobaby/GitHub/Yelp_reviews\n"
       ]
      }
     ],
     "prompt_number": 65
    },
    {
     "cell_type": "code",
     "collapsed": false,
     "input": [
      "restaurants[0:10]"
     ],
     "language": "python",
     "metadata": {},
     "outputs": [
      {
       "html": [
        "<div style=\"max-width:1500px;overflow:auto;\">\n",
        "<table border=\"1\" class=\"dataframe\">\n",
        "  <thead>\n",
        "    <tr style=\"text-align: right;\">\n",
        "      <th></th>\n",
        "      <th>name</th>\n",
        "      <th>rating</th>\n",
        "      <th>review_count</th>\n",
        "      <th>snippet_text</th>\n",
        "      <th>categories</th>\n",
        "      <th>is_closed</th>\n",
        "      <th>street</th>\n",
        "      <th>city</th>\n",
        "      <th>state_code</th>\n",
        "      <th>postal_code</th>\n",
        "      <th>latitude</th>\n",
        "      <th>longitude</th>\n",
        "      <th>id</th>\n",
        "      <th>url</th>\n",
        "      <th>is_claimed</th>\n",
        "    </tr>\n",
        "  </thead>\n",
        "  <tbody>\n",
        "    <tr>\n",
        "      <th>0</th>\n",
        "      <td>Yuzu Japanese Dining</td>\n",
        "      <td>3.5</td>\n",
        "      <td>123</td>\n",
        "      <td>We had a quiet New Year's Eve dinner here. I saw other Japanese families and small groups enjoying their food and seems like the manager/owner was making...</td>\n",
        "      <td>[[Japanese, japanese]]</td>\n",
        "      <td>False</td>\n",
        "      <td>7345 Wisconsin Ave</td>\n",
        "      <td>Bethesda</td>\n",
        "      <td>MD</td>\n",
        "      <td>20814</td>\n",
        "      <td>38.9830917386</td>\n",
        "      <td>-77.0933647806</td>\n",
        "      <td>yuzu-japanese-dining-bethesda</td>\n",
        "      <td>http://www.yelp.com/biz/yuzu-japanese-dining-bethesda</td>\n",
        "      <td>True\\n</td>\n",
        "    </tr>\n",
        "    <tr>\n",
        "      <th>1</th>\n",
        "      <td>Tako Grill</td>\n",
        "      <td>4.0</td>\n",
        "      <td>20</td>\n",
        "      <td>I loveeeee Tako Grill - the sushi, the sushi makers, the host, the waiters and waitresses. Everyone there is so sweet and hospitable. My mom and I have been...</td>\n",
        "      <td>[[Japanese, japanese], [Sushi Bars, sushi]]</td>\n",
        "      <td>False</td>\n",
        "      <td>7345 Wisconsin Ave</td>\n",
        "      <td>Bethesda</td>\n",
        "      <td>MD</td>\n",
        "      <td>20814</td>\n",
        "      <td>38.9825439</td>\n",
        "      <td>-77.0967636</td>\n",
        "      <td>tako-grill-bethesda-2</td>\n",
        "      <td>http://www.yelp.com/biz/tako-grill-bethesda-2</td>\n",
        "      <td>True\\n</td>\n",
        "    </tr>\n",
        "    <tr>\n",
        "      <th>2</th>\n",
        "      <td>Satsuma</td>\n",
        "      <td>3.5</td>\n",
        "      <td>213</td>\n",
        "      <td>The $1 nigiri special is a steal! You would assume that the quality of fish would suffer because of the pricing, but NOPE! You will be pleasantly...</td>\n",
        "      <td>[[Sushi Bars, sushi], [Japanese, japanese], [Korean, korean]]</td>\n",
        "      <td>False</td>\n",
        "      <td>7345 Wisconsin Ave</td>\n",
        "      <td>Bethesda</td>\n",
        "      <td>MD</td>\n",
        "      <td>20814</td>\n",
        "      <td>38.990093</td>\n",
        "      <td>-77.098846</td>\n",
        "      <td>satsuma-bethesda</td>\n",
        "      <td>http://www.yelp.com/biz/satsuma-bethesda</td>\n",
        "      <td>True\\n</td>\n",
        "    </tr>\n",
        "    <tr>\n",
        "      <th>3</th>\n",
        "      <td>Maki Maki</td>\n",
        "      <td>3.5</td>\n",
        "      <td>193</td>\n",
        "      <td>Ate here twice and the Hamachi just melts in my mouth each time. All the rolls I've had have been great. I love the spicy scallop roll preferably without...</td>\n",
        "      <td>[[Japanese, japanese]]</td>\n",
        "      <td>False</td>\n",
        "      <td>7345 Wisconsin Ave</td>\n",
        "      <td>Bethesda</td>\n",
        "      <td>MD</td>\n",
        "      <td>20814</td>\n",
        "      <td>38.991135</td>\n",
        "      <td>-77.095253</td>\n",
        "      <td>maki-maki-bethesda</td>\n",
        "      <td>http://www.yelp.com/biz/maki-maki-bethesda</td>\n",
        "      <td>False\\n</td>\n",
        "    </tr>\n",
        "    <tr>\n",
        "      <th>4</th>\n",
        "      <td>Aji-Nippon Restaurant</td>\n",
        "      <td>4.0</td>\n",
        "      <td>44</td>\n",
        "      <td>This is a no-frills, solid option for sushi in Bethesda. If you want fresh, high quality sushi, Aji will fulfill your needs. I have tried a variety of their...</td>\n",
        "      <td>[[Japanese, japanese], [Korean, korean]]</td>\n",
        "      <td>False</td>\n",
        "      <td>7345 Wisconsin Ave</td>\n",
        "      <td>Bethesda</td>\n",
        "      <td>MD</td>\n",
        "      <td>20814</td>\n",
        "      <td>38.9791380854</td>\n",
        "      <td>-77.0985604759</td>\n",
        "      <td>aji-nippon-restaurant-bethesda</td>\n",
        "      <td>http://www.yelp.com/biz/aji-nippon-restaurant-bethesda</td>\n",
        "      <td>True\\n</td>\n",
        "    </tr>\n",
        "    <tr>\n",
        "      <th>5</th>\n",
        "      <td>Maki Bar</td>\n",
        "      <td>4.0</td>\n",
        "      <td>12</td>\n",
        "      <td>I eat here at least twice a week! They are that good! I'm a picky sushi lover always looking for a good place to call my own. I work across the street and...</td>\n",
        "      <td>[[Japanese, japanese], [Sushi Bars, sushi], [Bars, bars]]</td>\n",
        "      <td>False</td>\n",
        "      <td>7345 Wisconsin Ave</td>\n",
        "      <td>Bethesda</td>\n",
        "      <td>MD</td>\n",
        "      <td>20815</td>\n",
        "      <td>38.978324</td>\n",
        "      <td>-77.090446</td>\n",
        "      <td>maki-bar-bethesda</td>\n",
        "      <td>http://www.yelp.com/biz/maki-bar-bethesda</td>\n",
        "      <td>True\\n</td>\n",
        "    </tr>\n",
        "    <tr>\n",
        "      <th>6</th>\n",
        "      <td>Hanaro Restaurant &amp; Lounge</td>\n",
        "      <td>3.5</td>\n",
        "      <td>194</td>\n",
        "      <td>Cool Place, met a friend here after work for happy hour (this review is for the happy hour menu items only). I enjoyed several items off of the happy hour...</td>\n",
        "      <td>[[Japanese, japanese], [Asian Fusion, asianfusion], [Sushi Bars, sushi]]</td>\n",
        "      <td>False</td>\n",
        "      <td>7345 Wisconsin Ave</td>\n",
        "      <td>Bethesda</td>\n",
        "      <td>MD</td>\n",
        "      <td>20814</td>\n",
        "      <td>38.9886036515</td>\n",
        "      <td>-77.0968466252</td>\n",
        "      <td>hanaro-restaurant-and-lounge-bethesda</td>\n",
        "      <td>http://www.yelp.com/biz/hanaro-restaurant-and-lounge-bethesda</td>\n",
        "      <td>True\\n</td>\n",
        "    </tr>\n",
        "    <tr>\n",
        "      <th>7</th>\n",
        "      <td>Matuba</td>\n",
        "      <td>3.0</td>\n",
        "      <td>149</td>\n",
        "      <td>It looks like Matuba has either closed permanently, or is reopening as a Japanese carryout.  I've been going to the sushi buffet for at least ten years, and...</td>\n",
        "      <td>[[Japanese, japanese]]</td>\n",
        "      <td>False</td>\n",
        "      <td>7345 Wisconsin Ave</td>\n",
        "      <td>Bethesda</td>\n",
        "      <td>MD</td>\n",
        "      <td>20814</td>\n",
        "      <td>38.9889523387</td>\n",
        "      <td>-77.0984365046</td>\n",
        "      <td>matuba-bethesda-3</td>\n",
        "      <td>http://www.yelp.com/biz/matuba-bethesda-3</td>\n",
        "      <td>True\\n</td>\n",
        "    </tr>\n",
        "    <tr>\n",
        "      <th>8</th>\n",
        "      <td>Yirasai Sushi &amp; Cafe</td>\n",
        "      <td>4.0</td>\n",
        "      <td>93</td>\n",
        "      <td>This is the best sushi place that I been to since moving to DC. They are always very friendly here and have great service. The sushi is very fresh and...</td>\n",
        "      <td>[[Sushi Bars, sushi]]</td>\n",
        "      <td>False</td>\n",
        "      <td>7345 Wisconsin Ave</td>\n",
        "      <td>Bethesda</td>\n",
        "      <td>MD</td>\n",
        "      <td>20816</td>\n",
        "      <td>38.965549</td>\n",
        "      <td>-77.106642</td>\n",
        "      <td>yirasai-sushi-and-cafe-bethesda</td>\n",
        "      <td>http://www.yelp.com/biz/yirasai-sushi-and-cafe-bethesda</td>\n",
        "      <td>True\\n</td>\n",
        "    </tr>\n",
        "    <tr>\n",
        "      <th>9</th>\n",
        "      <td>Hinata Sushi Carry Out</td>\n",
        "      <td>4.0</td>\n",
        "      <td>85</td>\n",
        "      <td>Unbelievable selection of Japanese goods considering just how tiny this market is. Didn't expect to see every item in stock but you can get a majority of...</td>\n",
        "      <td>[[Grocery, grocery], [Sushi Bars, sushi]]</td>\n",
        "      <td>False</td>\n",
        "      <td>7345 Wisconsin Ave</td>\n",
        "      <td>Bethesda</td>\n",
        "      <td>MD</td>\n",
        "      <td>20814</td>\n",
        "      <td>38.9880266526</td>\n",
        "      <td>-77.0985424519</td>\n",
        "      <td>hinata-sushi-carry-out-bethesda</td>\n",
        "      <td>http://www.yelp.com/biz/hinata-sushi-carry-out-bethesda</td>\n",
        "      <td>False\\n</td>\n",
        "    </tr>\n",
        "  </tbody>\n",
        "</table>\n",
        "</div>"
       ],
       "metadata": {},
       "output_type": "pyout",
       "prompt_number": 66,
       "text": [
        "                         name rating review_count  \\\n",
        "0        Yuzu Japanese Dining    3.5          123   \n",
        "1                  Tako Grill    4.0           20   \n",
        "2                     Satsuma    3.5          213   \n",
        "3                   Maki Maki    3.5          193   \n",
        "4       Aji-Nippon Restaurant    4.0           44   \n",
        "5                    Maki Bar    4.0           12   \n",
        "6  Hanaro Restaurant & Lounge    3.5          194   \n",
        "7                      Matuba    3.0          149   \n",
        "8        Yirasai Sushi & Cafe    4.0           93   \n",
        "9      Hinata Sushi Carry Out    4.0           85   \n",
        "\n",
        "                                                                                                                                                      snippet_text  \\\n",
        "0     We had a quiet New Year's Eve dinner here. I saw other Japanese families and small groups enjoying their food and seems like the manager/owner was making...   \n",
        "1  I loveeeee Tako Grill - the sushi, the sushi makers, the host, the waiters and waitresses. Everyone there is so sweet and hospitable. My mom and I have been...   \n",
        "2             The $1 nigiri special is a steal! You would assume that the quality of fish would suffer because of the pricing, but NOPE! You will be pleasantly...   \n",
        "3     Ate here twice and the Hamachi just melts in my mouth each time. All the rolls I've had have been great. I love the spicy scallop roll preferably without...   \n",
        "4  This is a no-frills, solid option for sushi in Bethesda. If you want fresh, high quality sushi, Aji will fulfill your needs. I have tried a variety of their...   \n",
        "5    I eat here at least twice a week! They are that good! I'm a picky sushi lover always looking for a good place to call my own. I work across the street and...   \n",
        "6    Cool Place, met a friend here after work for happy hour (this review is for the happy hour menu items only). I enjoyed several items off of the happy hour...   \n",
        "7  It looks like Matuba has either closed permanently, or is reopening as a Japanese carryout.  I've been going to the sushi buffet for at least ten years, and...   \n",
        "8        This is the best sushi place that I been to since moving to DC. They are always very friendly here and have great service. The sushi is very fresh and...   \n",
        "9     Unbelievable selection of Japanese goods considering just how tiny this market is. Didn't expect to see every item in stock but you can get a majority of...   \n",
        "\n",
        "                                                                 categories  \\\n",
        "0                                                    [[Japanese, japanese]]   \n",
        "1                               [[Japanese, japanese], [Sushi Bars, sushi]]   \n",
        "2             [[Sushi Bars, sushi], [Japanese, japanese], [Korean, korean]]   \n",
        "3                                                    [[Japanese, japanese]]   \n",
        "4                                  [[Japanese, japanese], [Korean, korean]]   \n",
        "5                 [[Japanese, japanese], [Sushi Bars, sushi], [Bars, bars]]   \n",
        "6  [[Japanese, japanese], [Asian Fusion, asianfusion], [Sushi Bars, sushi]]   \n",
        "7                                                    [[Japanese, japanese]]   \n",
        "8                                                     [[Sushi Bars, sushi]]   \n",
        "9                                 [[Grocery, grocery], [Sushi Bars, sushi]]   \n",
        "\n",
        "  is_closed              street      city state_code postal_code  \\\n",
        "0     False  7345 Wisconsin Ave  Bethesda         MD       20814   \n",
        "1     False  7345 Wisconsin Ave  Bethesda         MD       20814   \n",
        "2     False  7345 Wisconsin Ave  Bethesda         MD       20814   \n",
        "3     False  7345 Wisconsin Ave  Bethesda         MD       20814   \n",
        "4     False  7345 Wisconsin Ave  Bethesda         MD       20814   \n",
        "5     False  7345 Wisconsin Ave  Bethesda         MD       20815   \n",
        "6     False  7345 Wisconsin Ave  Bethesda         MD       20814   \n",
        "7     False  7345 Wisconsin Ave  Bethesda         MD       20814   \n",
        "8     False  7345 Wisconsin Ave  Bethesda         MD       20816   \n",
        "9     False  7345 Wisconsin Ave  Bethesda         MD       20814   \n",
        "\n",
        "        latitude       longitude                                     id  \\\n",
        "0  38.9830917386  -77.0933647806          yuzu-japanese-dining-bethesda   \n",
        "1     38.9825439     -77.0967636                  tako-grill-bethesda-2   \n",
        "2      38.990093      -77.098846                       satsuma-bethesda   \n",
        "3      38.991135      -77.095253                     maki-maki-bethesda   \n",
        "4  38.9791380854  -77.0985604759         aji-nippon-restaurant-bethesda   \n",
        "5      38.978324      -77.090446                      maki-bar-bethesda   \n",
        "6  38.9886036515  -77.0968466252  hanaro-restaurant-and-lounge-bethesda   \n",
        "7  38.9889523387  -77.0984365046                      matuba-bethesda-3   \n",
        "8      38.965549      -77.106642        yirasai-sushi-and-cafe-bethesda   \n",
        "9  38.9880266526  -77.0985424519        hinata-sushi-carry-out-bethesda   \n",
        "\n",
        "                                                             url is_claimed  \n",
        "0          http://www.yelp.com/biz/yuzu-japanese-dining-bethesda     True\\n  \n",
        "1                  http://www.yelp.com/biz/tako-grill-bethesda-2     True\\n  \n",
        "2                       http://www.yelp.com/biz/satsuma-bethesda     True\\n  \n",
        "3                     http://www.yelp.com/biz/maki-maki-bethesda    False\\n  \n",
        "4         http://www.yelp.com/biz/aji-nippon-restaurant-bethesda     True\\n  \n",
        "5                      http://www.yelp.com/biz/maki-bar-bethesda     True\\n  \n",
        "6  http://www.yelp.com/biz/hanaro-restaurant-and-lounge-bethesda     True\\n  \n",
        "7                      http://www.yelp.com/biz/matuba-bethesda-3     True\\n  \n",
        "8        http://www.yelp.com/biz/yirasai-sushi-and-cafe-bethesda     True\\n  \n",
        "9        http://www.yelp.com/biz/hinata-sushi-carry-out-bethesda    False\\n  "
       ]
      }
     ],
     "prompt_number": 66
    },
    {
     "cell_type": "code",
     "collapsed": false,
     "input": [],
     "language": "python",
     "metadata": {},
     "outputs": []
    }
   ],
   "metadata": {}
  }
 ]
}
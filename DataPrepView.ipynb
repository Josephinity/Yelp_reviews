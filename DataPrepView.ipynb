{
 "metadata": {
  "name": "",
  "signature": "sha256:29385348e15bb9ec35ae6bda4405af98f6663a8971ae9f2043364a21e1d30fcc"
 },
 "nbformat": 3,
 "nbformat_minor": 0,
 "worksheets": [
  {
   "cells": [
    {
     "cell_type": "code",
     "collapsed": false,
     "input": [
      "import argparse\n",
      "import json\n",
      "import pprint\n",
      "import sys\n",
      "import urllib\n",
      "import urllib2\n",
      "\n",
      "import oauth2\n",
      "import httplib2"
     ],
     "language": "python",
     "metadata": {},
     "outputs": [],
     "prompt_number": 2
    },
    {
     "cell_type": "code",
     "collapsed": false,
     "input": [
      "API_HOST = 'api.yelp.com'\n",
      "DEFAULT_TERM = 'japanese restaurant'\n",
      "DEFAULT_LOCATION = 'Cupertino, CA'\n",
      "SEARCH_LIMIT = 20\n",
      "SEARCH_PATH = '/v2/search/'\n",
      "BUSINESS_PATH = '/v2/business/'\n",
      "\n",
      "# OAuth credential placeholders that must be filled in by users.\n",
      "CONSUMER_KEY = \"dIk_knsDCS76fQS67sxnVw\"\n",
      "CONSUMER_SECRET = \"cmML7LDRRUcc8tqtsbB_vMpLvxs\"\n",
      "TOKEN = \"0YIaTyBTNwHA3nrEE_7eyOX1uLWPMNoK\"\n",
      "TOKEN_SECRET = \"tAftxPTQMY7_Wm7KmZ7LI5MxdxE\""
     ],
     "language": "python",
     "metadata": {},
     "outputs": [],
     "prompt_number": 4
    },
    {
     "cell_type": "code",
     "collapsed": false,
     "input": [
      "def request(host, path, url_params=None):\n",
      "    \"\"\"Prepares OAuth authentication and sends the request to the API.\n",
      "    Args:\n",
      "        host (str): The domain host of the API.\n",
      "        path (str): The path of the API after the domain.\n",
      "        url_params (dict): An optional set of query parameters in the request.\n",
      "    Returns:\n",
      "        dict: The JSON response from the request.\n",
      "    Raises:\n",
      "        urllib2.HTTPError: An error occurs from the HTTP request.\n",
      "    \"\"\"\n",
      "    url_params = url_params or {}\n",
      "    url = 'https://{0}{1}?'.format(host, urllib.quote(path.encode('utf8')))\n",
      "\n",
      "    consumer = oauth2.Consumer(CONSUMER_KEY, CONSUMER_SECRET)\n",
      "    oauth_request = oauth2.Request(method=\"GET\", url=url, parameters=url_params)\n",
      "\n",
      "    oauth_request.update(\n",
      "        {\n",
      "            'oauth_nonce': oauth2.generate_nonce(),\n",
      "            'oauth_timestamp': oauth2.generate_timestamp(),\n",
      "            'oauth_token': TOKEN,\n",
      "            'oauth_consumer_key': CONSUMER_KEY\n",
      "        }\n",
      "    )\n",
      "    token = oauth2.Token(TOKEN, TOKEN_SECRET)\n",
      "    oauth_request.sign_request(oauth2.SignatureMethod_HMAC_SHA1(), consumer, token)\n",
      "    signed_url = oauth_request.to_url()\n",
      "    \n",
      "    print u'Querying {0} ...'.format(url)\n",
      "\n",
      "    conn = urllib2.urlopen(signed_url, None)\n",
      "    try:\n",
      "        response = json.loads(conn.read())\n",
      "    finally:\n",
      "        conn.close()\n",
      "\n",
      "    return response\n",
      "\n",
      "def search(term, location):\n",
      "    \"\"\"Query the Search API by a search term and location.\n",
      "    Args:\n",
      "        term (str): The search term passed to the API.\n",
      "        location (str): The search location passed to the API.\n",
      "    Returns:\n",
      "        dict: The JSON response from the request.\n",
      "    \"\"\"\n",
      "    \n",
      "    url_params = {\n",
      "        'term': term.replace(' ', '+'),\n",
      "        'location': location.replace(' ', '+'),\n",
      "        'limit': SEARCH_LIMIT\n",
      "    }\n",
      "    print(url_params)\n",
      "    print(SEARCH_PATH)\n",
      "    return request(API_HOST, SEARCH_PATH, url_params=url_params)"
     ],
     "language": "python",
     "metadata": {},
     "outputs": [],
     "prompt_number": 5
    },
    {
     "cell_type": "code",
     "collapsed": false,
     "input": [
      "def get_business(business_id):\n",
      "    \"\"\"Query the Business API by a business ID.\n",
      "    Args:\n",
      "        business_id (str): The ID of the business to query.\n",
      "    Returns:\n",
      "        dict: The JSON response from the request.\n",
      "    \"\"\"\n",
      "    business_path = BUSINESS_PATH + business_id\n",
      "\n",
      "    return request(API_HOST, business_path)\n"
     ],
     "language": "python",
     "metadata": {},
     "outputs": [],
     "prompt_number": 6
    },
    {
     "cell_type": "code",
     "collapsed": false,
     "input": [
      "def query_api(term, location):\n",
      "    \"\"\"Queries the API by the input values from the user.\n",
      "    Args:\n",
      "        term (str): The search term to query.\n",
      "        location (str): The location of the business to query.\n",
      "    \"\"\"\n",
      "    response = search(term, location)\n",
      "\n",
      "\n",
      "    businesses = response.get('businesses')\n",
      "\n",
      "    if not businesses:\n",
      "        print u'No businesses for {0} in {1} found.'.format(term, location)\n",
      "        return\n",
      "\n",
      "    business_id = businesses[0]['id']\n",
      "\n",
      "    print u'{0} businesses found, querying business info for the top result \"{1}\" ...'.format(\n",
      "        len(businesses),\n",
      "        business_id\n",
      "    )\n",
      "\n",
      "    response = get_business(business_id)\n",
      "\n",
      "#     print u'Result for business \"{0}\" found:'.format(business_id)\n",
      "#     pprint.pprint(response, indent=2)\n",
      "\n",
      "    return businesses"
     ],
     "language": "python",
     "metadata": {},
     "outputs": [],
     "prompt_number": 7
    },
    {
     "cell_type": "code",
     "collapsed": false,
     "input": [
      "def main():\n",
      "    parser = argparse.ArgumentParser()\n",
      "\n",
      "    parser.add_argument('-q', '--term', dest='term', default=DEFAULT_TERM, type=str, help='Search term (default: %(default)s)')\n",
      "    parser.add_argument('-l', '--location', dest='location', default=DEFAULT_LOCATION, type=str, help='Search location (default: %(default)s)')\n",
      "\n",
      "    input_values = parser.parse_known_args()\n",
      "    try:\n",
      "        query_api(input_values[0].term, input_values[0].location)\n",
      "    except urllib2.HTTPError as error:\n",
      "        sys.exit('Encountered HTTP error {0}. Abort program.'.format(error.code))\n",
      "\n",
      "\n",
      "# if __name__ == '__main__':\n",
      "#     main()"
     ],
     "language": "python",
     "metadata": {},
     "outputs": [],
     "prompt_number": 8
    },
    {
     "cell_type": "code",
     "collapsed": false,
     "input": [
      "#search for restaurants from YelpAPI\n",
      "def getJSON(term,location):\n",
      "    parser = argparse.ArgumentParser()\n",
      "\n",
      "    parser.add_argument('-q', '--term', dest='term', default=term, type=str, help='Search term (default: %(default)s)')\n",
      "    parser.add_argument('-l', '--location', dest='location', default=location, type=str, help='Search location (default: %(default)s)')\n",
      "\n",
      "    input_values = parser.parse_known_args()\n",
      "    try:\n",
      "        return query_api(input_values[0].term, input_values[0].location)\n",
      "    except urllib2.HTTPError as error:\n",
      "        sys.exit('Encountered HTTP error {0}. Abort program.'.format(error.code))"
     ],
     "language": "python",
     "metadata": {},
     "outputs": [],
     "prompt_number": 9
    },
    {
     "cell_type": "code",
     "collapsed": false,
     "input": [
      "#determine the search terms from here\n",
      "#Restaurant locations\n",
      "LOCATION_LIST=['bethesda, MD','stanford, CA','Cupertino, CA','Miami, FL','Milpitas','Washington DC', \n",
      "               'Salt Lake City', 'Boston', 'Buffalo, NY']\n",
      "#Search key terms\n",
      "TERM_LIST=['japanese']\n",
      "#response from YelpAPI\n",
      "businesses=[getJSON(term,loc) for loc in LOCATION_LIST for term in TERM_LIST]"
     ],
     "language": "python",
     "metadata": {},
     "outputs": [
      {
       "output_type": "stream",
       "stream": "stdout",
       "text": [
        "{'term': 'japanese', 'limit': 20, 'location': 'bethesda,+MD'}\n",
        "/v2/search/\n",
        "Querying https://api.yelp.com/v2/search/? ...\n",
        "20 businesses found, querying business info for the top result \"yuzu-japanese-dining-bethesda\" ..."
       ]
      },
      {
       "output_type": "stream",
       "stream": "stdout",
       "text": [
        "\n",
        "Querying https://api.yelp.com/v2/business/yuzu-japanese-dining-bethesda? ...\n",
        "{'term': 'japanese', 'limit': 20, 'location': 'stanford,+CA'}"
       ]
      },
      {
       "output_type": "stream",
       "stream": "stdout",
       "text": [
        "\n",
        "/v2/search/\n",
        "Querying https://api.yelp.com/v2/search/? ...\n",
        "20 businesses found, querying business info for the top result \"odori-sushi-and-teppanyaki-palo-alto\" ..."
       ]
      },
      {
       "output_type": "stream",
       "stream": "stdout",
       "text": [
        "\n",
        "Querying https://api.yelp.com/v2/business/odori-sushi-and-teppanyaki-palo-alto? ...\n",
        "{'term': 'japanese', 'limit': 20, 'location': 'Cupertino,+CA'}"
       ]
      },
      {
       "output_type": "stream",
       "stream": "stdout",
       "text": [
        "\n",
        "/v2/search/\n",
        "Querying https://api.yelp.com/v2/search/? ...\n",
        "20 businesses found, querying business info for the top result \"gochi-japanese-fusion-tapas-cupertino\" ..."
       ]
      },
      {
       "output_type": "stream",
       "stream": "stdout",
       "text": [
        "\n",
        "Querying https://api.yelp.com/v2/business/gochi-japanese-fusion-tapas-cupertino? ...\n",
        "{'term': 'japanese', 'limit': 20, 'location': 'Miami,+FL'}"
       ]
      },
      {
       "output_type": "stream",
       "stream": "stdout",
       "text": [
        "\n",
        "/v2/search/\n",
        "Querying https://api.yelp.com/v2/search/? ...\n",
        "20 businesses found, querying business info for the top result \"gyu-kaku-japanese-bbq-miami\" ..."
       ]
      },
      {
       "output_type": "stream",
       "stream": "stdout",
       "text": [
        "\n",
        "Querying https://api.yelp.com/v2/business/gyu-kaku-japanese-bbq-miami? ...\n",
        "{'term': 'japanese', 'limit': 20, 'location': 'Milpitas'}"
       ]
      },
      {
       "output_type": "stream",
       "stream": "stdout",
       "text": [
        "\n",
        "/v2/search/\n",
        "Querying https://api.yelp.com/v2/search/? ...\n",
        "20 businesses found, querying business info for the top result \"sen-dai-sushi-milpitas\" ..."
       ]
      },
      {
       "output_type": "stream",
       "stream": "stdout",
       "text": [
        "\n",
        "Querying https://api.yelp.com/v2/business/sen-dai-sushi-milpitas? ...\n",
        "{'term': 'japanese', 'limit': 20, 'location': 'Washington+DC'}"
       ]
      },
      {
       "output_type": "stream",
       "stream": "stdout",
       "text": [
        "\n",
        "/v2/search/\n",
        "Querying https://api.yelp.com/v2/search/? ...\n",
        "20 businesses found, querying business info for the top result \"donburi-washington\" ..."
       ]
      },
      {
       "output_type": "stream",
       "stream": "stdout",
       "text": [
        "\n",
        "Querying https://api.yelp.com/v2/business/donburi-washington? ...\n",
        "{'term': 'japanese', 'limit': 20, 'location': 'Salt+Lake+City'}"
       ]
      },
      {
       "output_type": "stream",
       "stream": "stdout",
       "text": [
        "\n",
        "/v2/search/\n",
        "Querying https://api.yelp.com/v2/search/? ...\n",
        "20 businesses found, querying business info for the top result \"takashi-salt-lake-city\" ..."
       ]
      },
      {
       "output_type": "stream",
       "stream": "stdout",
       "text": [
        "\n",
        "Querying https://api.yelp.com/v2/business/takashi-salt-lake-city? ...\n",
        "{'term': 'japanese', 'limit': 20, 'location': 'Boston'}"
       ]
      },
      {
       "output_type": "stream",
       "stream": "stdout",
       "text": [
        "\n",
        "/v2/search/\n",
        "Querying https://api.yelp.com/v2/search/? ...\n",
        "20 businesses found, querying business info for the top result \"o-ya-boston\" ..."
       ]
      },
      {
       "output_type": "stream",
       "stream": "stdout",
       "text": [
        "\n",
        "Querying https://api.yelp.com/v2/business/o-ya-boston? ...\n",
        "{'term': 'japanese', 'limit': 20, 'location': 'Buffalo,+NY'}"
       ]
      },
      {
       "output_type": "stream",
       "stream": "stdout",
       "text": [
        "\n",
        "/v2/search/\n",
        "Querying https://api.yelp.com/v2/search/? ...\n",
        "20 businesses found, querying business info for the top result \"sato-buffalo\" ..."
       ]
      },
      {
       "output_type": "stream",
       "stream": "stdout",
       "text": [
        "\n",
        "Querying https://api.yelp.com/v2/business/sato-buffalo? ...\n"
       ]
      }
     ],
     "prompt_number": 398
    },
    {
     "cell_type": "code",
     "collapsed": false,
     "input": [
      "import pandas as pd\n",
      "#allow dataframe to carry long strings\n",
      "pd.set_option('max_colwidth',1024)\n",
      "#filter useful variables\n",
      "def createDataFrames(businesses):\n",
      "    column_names=[\n",
      "                u'is_claimed',u'rating',u'review_count',u'name',\n",
      "                u'categories',u'location',u'url',u'is_closed',\n",
      "                u'id',u'snippet_text'\n",
      "              ]\n",
      "    dataframes=[pd.DataFrame( [[ business[i][key] if key in column_names else '' for key in column_names]\n",
      "         for i in range(0,20)],columns=column_names) for business in businesses]\n",
      "    return dataframes"
     ],
     "language": "python",
     "metadata": {},
     "outputs": [],
     "prompt_number": 11
    },
    {
     "cell_type": "code",
     "collapsed": false,
     "input": [
      "#seperate address info into multiple attributes\n",
      "def getAddress(dataframe):\n",
      "    COLUMNS = [u'name', u'rating', u'review_count', u'snippet_text', u'categories', u'is_closed', \n",
      "           u'street', u'city', u'state_code', u'postal_code', u'latitude', u'longitude',u'id',\n",
      "           u'url', u'is_claimed']\n",
      "    LOCATION_KEYS=['country_code','postal_code','state_code','address','coordinate','city']\n",
      "    address = pd.DataFrame(\n",
      "                [[dataframe.location[i][key] for key in LOCATION_KEYS] for i in range(0,20)],\n",
      "                columns=[key for key in LOCATION_KEYS]\n",
      "            )\n",
      "    address['latitude']=[float(address['coordinate'][i]['latitude']) for i in range(0,20)]\n",
      "    address['longitude']=[float(address['coordinate'][i]['longitude']) for i in range(0,20)]\n",
      "    dataframe=pd.concat([df, address], axis=1)\n",
      "    dataframe.rename(columns={'address':'street'},inplace=True)\n",
      "    dataframe.street=dataframe.street[0][0]\n",
      "    return dataframe[COLUMNS]"
     ],
     "language": "python",
     "metadata": {},
     "outputs": [],
     "prompt_number": 12
    },
    {
     "cell_type": "code",
     "collapsed": false,
     "input": [
      "def mergeDataFrames(lists):\n",
      "    res=lists[0]\n",
      "    for i in range(1,len(lists)):\n",
      "        res=res.append(lists[i],ignore_index=True)\n",
      "    print('Acquired %i restaurants in total' %len(res))\n",
      "    return res"
     ],
     "language": "python",
     "metadata": {},
     "outputs": [],
     "prompt_number": 13
    },
    {
     "cell_type": "code",
     "collapsed": false,
     "input": [
      "#parse JSON to DFs\n",
      "dataframes=createDataFrames(businesses)\n",
      "#merge DFs\n",
      "restaurants_by_areas=[getAddress(df)for df in dataframes]\n",
      "restaurants=mergeDataFrames(restaurants_by_areas)"
     ],
     "language": "python",
     "metadata": {},
     "outputs": [
      {
       "output_type": "stream",
       "stream": "stdout",
       "text": [
        "Acquired 180 restaurants in total\n"
       ]
      }
     ],
     "prompt_number": 14
    },
    {
     "cell_type": "code",
     "collapsed": false,
     "input": [
      "restaurants[:3]"
     ],
     "language": "python",
     "metadata": {},
     "outputs": [
      {
       "html": [
        "<div style=\"max-width:1500px;overflow:auto;\">\n",
        "<table border=\"1\" class=\"dataframe\">\n",
        "  <thead>\n",
        "    <tr style=\"text-align: right;\">\n",
        "      <th></th>\n",
        "      <th>name</th>\n",
        "      <th>rating</th>\n",
        "      <th>review_count</th>\n",
        "      <th>snippet_text</th>\n",
        "      <th>categories</th>\n",
        "      <th>is_closed</th>\n",
        "      <th>street</th>\n",
        "      <th>city</th>\n",
        "      <th>state_code</th>\n",
        "      <th>postal_code</th>\n",
        "      <th>latitude</th>\n",
        "      <th>longitude</th>\n",
        "      <th>id</th>\n",
        "      <th>url</th>\n",
        "      <th>is_claimed</th>\n",
        "    </tr>\n",
        "  </thead>\n",
        "  <tbody>\n",
        "    <tr>\n",
        "      <th>0</th>\n",
        "      <td>Yuzu Japanese Dining</td>\n",
        "      <td>3.5</td>\n",
        "      <td>108</td>\n",
        "      <td>Came here for dinner and was totally impressed. Everything was beautifully presented and the subtle flavors were authentic. The mixed greens with ginger...</td>\n",
        "      <td>[[Japanese, japanese]]</td>\n",
        "      <td>False</td>\n",
        "      <td>7345 Wisconsin Ave</td>\n",
        "      <td>Bethesda</td>\n",
        "      <td>MD</td>\n",
        "      <td>20814</td>\n",
        "      <td>38.983092</td>\n",
        "      <td>-77.093365</td>\n",
        "      <td>yuzu-japanese-dining-bethesda</td>\n",
        "      <td>http://www.yelp.com/biz/yuzu-japanese-dining-bethesda</td>\n",
        "      <td>True</td>\n",
        "    </tr>\n",
        "    <tr>\n",
        "      <th>1</th>\n",
        "      <td>Tako Grill</td>\n",
        "      <td>4.5</td>\n",
        "      <td>14</td>\n",
        "      <td>I can't say enough positive things about this place.  If I could give it 20 stars, I would.  My dining companion for the evening said it perfectly: \"It's...</td>\n",
        "      <td>[[Japanese, japanese], [Sushi Bars, sushi]]</td>\n",
        "      <td>False</td>\n",
        "      <td>7345 Wisconsin Ave</td>\n",
        "      <td>Bethesda</td>\n",
        "      <td>MD</td>\n",
        "      <td>20814</td>\n",
        "      <td>38.982544</td>\n",
        "      <td>-77.096764</td>\n",
        "      <td>tako-grill-bethesda-2</td>\n",
        "      <td>http://www.yelp.com/biz/tako-grill-bethesda-2</td>\n",
        "      <td>True</td>\n",
        "    </tr>\n",
        "    <tr>\n",
        "      <th>2</th>\n",
        "      <td>Satsuma</td>\n",
        "      <td>3.5</td>\n",
        "      <td>206</td>\n",
        "      <td>Ok when I read from another yelper that they had \"$1\" sushi I was like...What...? Really!!?  So my brother and I dropped by after work today to try it out....</td>\n",
        "      <td>[[Sushi Bars, sushi], [Japanese, japanese], [Korean, korean]]</td>\n",
        "      <td>False</td>\n",
        "      <td>7345 Wisconsin Ave</td>\n",
        "      <td>Bethesda</td>\n",
        "      <td>MD</td>\n",
        "      <td>20814</td>\n",
        "      <td>38.990093</td>\n",
        "      <td>-77.098846</td>\n",
        "      <td>satsuma-bethesda</td>\n",
        "      <td>http://www.yelp.com/biz/satsuma-bethesda</td>\n",
        "      <td>True</td>\n",
        "    </tr>\n",
        "  </tbody>\n",
        "</table>\n",
        "</div>"
       ],
       "metadata": {},
       "output_type": "pyout",
       "prompt_number": 399,
       "text": [
        "                   name  rating  review_count  \\\n",
        "0  Yuzu Japanese Dining     3.5           108   \n",
        "1            Tako Grill     4.5            14   \n",
        "2               Satsuma     3.5           206   \n",
        "\n",
        "                                                                                                                                                     snippet_text  \\\n",
        "0     Came here for dinner and was totally impressed. Everything was beautifully presented and the subtle flavors were authentic. The mixed greens with ginger...   \n",
        "1    I can't say enough positive things about this place.  If I could give it 20 stars, I would.  My dining companion for the evening said it perfectly: \"It's...   \n",
        "2  Ok when I read from another yelper that they had \"$1\" sushi I was like...What...? Really!!?  So my brother and I dropped by after work today to try it out....   \n",
        "\n",
        "                                                      categories is_closed  \\\n",
        "0                                         [[Japanese, japanese]]     False   \n",
        "1                    [[Japanese, japanese], [Sushi Bars, sushi]]     False   \n",
        "2  [[Sushi Bars, sushi], [Japanese, japanese], [Korean, korean]]     False   \n",
        "\n",
        "               street      city state_code postal_code   latitude  longitude  \\\n",
        "0  7345 Wisconsin Ave  Bethesda         MD       20814  38.983092 -77.093365   \n",
        "1  7345 Wisconsin Ave  Bethesda         MD       20814  38.982544 -77.096764   \n",
        "2  7345 Wisconsin Ave  Bethesda         MD       20814  38.990093 -77.098846   \n",
        "\n",
        "                              id  \\\n",
        "0  yuzu-japanese-dining-bethesda   \n",
        "1          tako-grill-bethesda-2   \n",
        "2               satsuma-bethesda   \n",
        "\n",
        "                                                     url is_claimed  \n",
        "0  http://www.yelp.com/biz/yuzu-japanese-dining-bethesda       True  \n",
        "1          http://www.yelp.com/biz/tako-grill-bethesda-2       True  \n",
        "2               http://www.yelp.com/biz/satsuma-bethesda       True  "
       ]
      }
     ],
     "prompt_number": 399
    },
    {
     "cell_type": "code",
     "collapsed": false,
     "input": [
      "#returns a dictionary of (restaurant.id) : (df)(all reviews of restaurant.id) pairs\n",
      "def reviewLists(restaurants):\n",
      "    res=pd.DataFrame(columns=['id','posted_date','review','review_rating'])\n",
      "    for i in range(0,len(restaurants)):\n",
      "        res = res.append(getReviews(restaurants[i:i+1]),ignore_index=True)\n",
      "    res['posted_days']=[timeFromNow(date) for date in res.posted_date]\n",
      "    return res"
     ],
     "language": "python",
     "metadata": {},
     "outputs": [],
     "prompt_number": 417
    },
    {
     "cell_type": "code",
     "collapsed": false,
     "input": [
      "#get reviews from all restaurant urls\n",
      "def getReviews(restaurant):\n",
      "    print('restaurant id is '+restaurant.id.values[0])\n",
      "    print('review count :%i ,review rating: %i' %(restaurant.review_count,restaurant.rating))\n",
      "    df=pd.DataFrame(columns=['id','review','review_rating','posted_date'])\n",
      "    count=0\n",
      "    while count<int(restaurant.review_count):  \n",
      "        url=restaurant.url.values[0]+'?start=%i'%count\n",
      "        print(url)\n",
      "        response = urllib2.urlopen(url)\n",
      "        html = response.read()\n",
      "        tmp = htmlToDataFrame(html)\n",
      "        tmp['id'] = restaurant.id.values[0]\n",
      "        df = df.append(tmp,ignore_index=True)\n",
      "        count+=20\n",
      "    return df"
     ],
     "language": "python",
     "metadata": {},
     "outputs": [],
     "prompt_number": 342
    },
    {
     "cell_type": "raw",
     "metadata": {},
     "source": []
    },
    {
     "cell_type": "code",
     "collapsed": false,
     "input": [
      "#process html files \n",
      "from bs4 import BeautifulSoup as bs\n",
      "def htmlToDataFrame(html):\n",
      "    soup = bs(html, 'html.parser')\n",
      "    #get rating list\n",
      "    page1_ratings=[float(r.get('content')) for r in soup.find_all(itemprop='ratingValue')[1:]]\n",
      "    #get review list\n",
      "    page1_reviews=soup.find_all('p',itemprop='description')\n",
      "    page1_dates=[str(s)[15:25] for s in soup.find_all('meta',itemprop='datePublished')]\n",
      "    return pd.DataFrame({\"review\":stripHTMLTags(page1_reviews)\n",
      "                         ,\"review_rating\":page1_ratings\n",
      "                         ,\"posted_date\":page1_dates})"
     ],
     "language": "python",
     "metadata": {},
     "outputs": [],
     "prompt_number": 423
    },
    {
     "cell_type": "code",
     "collapsed": false,
     "input": [
      "#strip html tags\n",
      "import re\n",
      "def stripHTMLTags(reviews):\n",
      "    res = [str(review).replace('<p itemprop=\"description\" lang=\"en\">','').replace('<br>',' ')\n",
      "            .replace('</br>','').replace('</p>',' ').replace('\\xc2\\xa0',' ') \n",
      "            for review in reviews]\n",
      "    return [re.sub('\\!+','!',s) for s in res]"
     ],
     "language": "python",
     "metadata": {},
     "outputs": [],
     "prompt_number": 376
    },
    {
     "cell_type": "code",
     "collapsed": false,
     "input": [
      "#get post_date from now in days\n",
      "from datetime import datetime\n",
      "def timeFromNow(date):\n",
      "    d0=datetime.strptime(date, \"%Y-%m-%d\")\n",
      "    return (datetime.now()-d0).days"
     ],
     "language": "python",
     "metadata": {},
     "outputs": [],
     "prompt_number": 433
    },
    {
     "cell_type": "code",
     "collapsed": false,
     "input": [
      "reviews=reviewLists(restaurants[1:2])"
     ],
     "language": "python",
     "metadata": {},
     "outputs": [
      {
       "output_type": "stream",
       "stream": "stdout",
       "text": [
        "restaurant id is tako-grill-bethesda-2\n",
        "review count :14 ,review rating: 4\n",
        "http://www.yelp.com/biz/tako-grill-bethesda-2?start=0\n"
       ]
      }
     ],
     "prompt_number": 434
    },
    {
     "cell_type": "code",
     "collapsed": false,
     "input": [
      "reviews"
     ],
     "language": "python",
     "metadata": {},
     "outputs": [
      {
       "html": [
        "<div style=\"max-width:1500px;overflow:auto;\">\n",
        "<table border=\"1\" class=\"dataframe\">\n",
        "  <thead>\n",
        "    <tr style=\"text-align: right;\">\n",
        "      <th></th>\n",
        "      <th>id</th>\n",
        "      <th>posted_date</th>\n",
        "      <th>review</th>\n",
        "      <th>review_rating</th>\n",
        "      <th>posted_days</th>\n",
        "    </tr>\n",
        "  </thead>\n",
        "  <tbody>\n",
        "    <tr>\n",
        "      <th>0</th>\n",
        "      <td>tako-grill-bethesda-2</td>\n",
        "      <td>2015-10-16</td>\n",
        "      <td>I can't say enough positive things about this place.  If I could give it 20 stars, I would.  My dining companion for the evening said it perfectly: \"It's like I'm eating sushi for the first time\".  Literally every single item we ordered (seaweed salad, pork belly and chicken yakatori, a variety of sashimi and maki) was the PERFECT temperature and SO fresh.  I was amazed.  I've been eating sushi for almost 20 years and this may have been the best I've ever had.    You're looking for a sushi place? THIS IS IT!  Go eat here!  I'm very excited to now have a go-to sushi place in the area thats so....complete.  Staff is lovely too, presentation is excellent, clean, looks nice, not too loud.  The list goes on...and on....</td>\n",
        "      <td>5</td>\n",
        "      <td>29</td>\n",
        "    </tr>\n",
        "    <tr>\n",
        "      <th>1</th>\n",
        "      <td>tako-grill-bethesda-2</td>\n",
        "      <td>2015-10-13</td>\n",
        "      <td>Tako was our go-to sushi place when it was at its old Wisconsin Avenue location. We mourned its passing. Apparently by the way it was all for nought. The staff at the new location told me that Tako was kicked out by its former landlord who intended to sell the property. Tako found its new space on Hampden, then the original landlord's deal fell through. So Tako is in a new location, and landlord has an empty restaurant storefront. Serves him right! Back to Tako. The new space is much smaller than the old space. There is not bar. There are no beers on draft. Having a cold Kirin Ichiban draft at the old location was one of the true pleasures of eating at Tako. Sushi is still good and fresh. There is little innovation, but it's good. We didn't have grilled food this time, and having a grill is one of Tako's nice advantages over the typical sushi joint. Service was good. Our server was young, possibly high school or college, and sweet. Sushi orders come out pretty fast. Their miso soup is among the best I've ...</td>\n",
        "      <td>4</td>\n",
        "      <td>32</td>\n",
        "    </tr>\n",
        "    <tr>\n",
        "      <th>2</th>\n",
        "      <td>tako-grill-bethesda-2</td>\n",
        "      <td>2015-08-26</td>\n",
        "      <td>The yakitori is a good deal. But the service can be so attentive it borders on intrusive. This is the rare Japanese restaurant that feels overstaffed.  Also, the fish is not being handled by someone who understands manners.   If you run out of something one night and are unable to include it in a dish that specifically lists it as an ingredient, you tell your servers to warn people BEFORE they order a dish. Otherwise, this is false advertisement.  On the rare occasion you run out of something in the middle of the night before you can tell the servers, you make sure to train them to be up front about it instead of simply replacing the missing ingredient with a more expensive substitute without apology or request for permission.</td>\n",
        "      <td>3</td>\n",
        "      <td>80</td>\n",
        "    </tr>\n",
        "    <tr>\n",
        "      <th>3</th>\n",
        "      <td>tako-grill-bethesda-2</td>\n",
        "      <td>2015-07-14</td>\n",
        "      <td>This is the new location for Tako Grill.  It's smaller than the old location but still has a similar set up.  The menu is the same with my favorite, the soft shell crab maki.  This time eating there I also enjoyed the agedofu, and the gyouza were really wonderful.    I've eaten at the old location many times, and this place is solid.  Many Japanese people consider this to be one of the best real Japanese restaurants in the DC area.  There is a Japanese chef.  Parking is annoying and expensive at this new location though.</td>\n",
        "      <td>5</td>\n",
        "      <td>123</td>\n",
        "    </tr>\n",
        "    <tr>\n",
        "      <th>4</th>\n",
        "      <td>tako-grill-bethesda-2</td>\n",
        "      <td>2015-10-18</td>\n",
        "      <td>I have to give them a 5 star. It's not the best sushi I have had but the variety and authenticity in overall Japanese cuisine is terrific. The Sukiyaki is good, I am a fan of the Izakaya and Chirashi. They have Yakitori and Tempura and other treats. Some of my favorite items were the Shitake mushrooms and the flounder fin. You can make this expensive or inexpensive. Sakis are delicious and they have several Junmai options. The owner is a sweetie pie and the food very clean and tasty. Terrific go-to for the Japanese cuisine fix I have from time to time. If you are not familiar with Japanese cuisine this is a great place to go explore in a safe, Bethesda like land.</td>\n",
        "      <td>5</td>\n",
        "      <td>27</td>\n",
        "    </tr>\n",
        "    <tr>\n",
        "      <th>5</th>\n",
        "      <td>tako-grill-bethesda-2</td>\n",
        "      <td>2015-07-25</td>\n",
        "      <td>When you roll over the stars on Yelp, 5 stars is supposed to mean \"As good as it gets\". This place is honestly as good as it gets. Everything about Tako Grill is utterly exceptional, from the decor to the staff to the food.  I work right by here and go there several times each week since they opened. My favorite entree is the Chicken Teriyaki, by far the best teriyaki I have ever had from any restaurant. Ever. It comes with a side salad, miso soup (which I don't usually like at other places but LOVE here), cooked carrots, broccoli and rice. The chicken is cooked and seasoned beyond perfection. For lunch it is only about $14 and is MORE than enough food to fill you up.  I was never a huge sushi fan until I went here. I don't like avocado in my sushi, so they let me sub cucumber instead. Game changer. My personal favorite is the fire cracker roll and the salmon roll. Everything is so fresh and that really makes all the difference. They pay attention to detail, even during the busy dinner rush.  The staff ar...</td>\n",
        "      <td>5</td>\n",
        "      <td>112</td>\n",
        "    </tr>\n",
        "    <tr>\n",
        "      <th>6</th>\n",
        "      <td>tako-grill-bethesda-2</td>\n",
        "      <td>2015-11-13</td>\n",
        "      <td>Their sashimi is amazing - fresh, cut with precision, sweet, and just a micro-dab of soy sauce. Our go-to in Bethesda.</td>\n",
        "      <td>5</td>\n",
        "      <td>1</td>\n",
        "    </tr>\n",
        "    <tr>\n",
        "      <th>7</th>\n",
        "      <td>tako-grill-bethesda-2</td>\n",
        "      <td>2015-10-26</td>\n",
        "      <td>Totally tasty sushi - The Firecracker Rolls are a must.  The decor is lovely in the new location, and the staff there are so friendly.  My friend and I often come with her toddler, and they're always more than welcoming.</td>\n",
        "      <td>4</td>\n",
        "      <td>19</td>\n",
        "    </tr>\n",
        "    <tr>\n",
        "      <th>8</th>\n",
        "      <td>tako-grill-bethesda-2</td>\n",
        "      <td>2015-08-01</td>\n",
        "      <td>This is a great place to come for lunch, get the bento box but do not come here for dinner. You will be disappointed. It's pricy and they don't handle being busy well, at all. My friend didn't get her sushi only her salad but didn't feel like asking or paying for it so we just asked for the check.   Won't be coming here for anything other than lunch ever again.</td>\n",
        "      <td>3</td>\n",
        "      <td>105</td>\n",
        "    </tr>\n",
        "    <tr>\n",
        "      <th>9</th>\n",
        "      <td>tako-grill-bethesda-2</td>\n",
        "      <td>2015-05-18</td>\n",
        "      <td>New location for Tako Grill!  The old location has been teetering on redevelopment for years.  Since Hinode closed, it's location seemed logical for Tako fans. After many delays, the new restaurant opened with some of the old hands, but many new ones, hopefully for the better. The location is in the \"Shoppes of Bethesda\" the odd strip mall on Hampton with the liquor and UPS stores. In the evening, there is plenty of paid parking.  But you paid on Wisconsin as well.  The new restaurant lacks a sign at the entrance door, so 1/2 the people went to exit door, including us!  There is an entry, with a hostess stand. Unlike the old place, there is no bar, in fact, all booze seems to come out of a back set up area.  Everything is clean and fresh with a nice sushi bar and lots of seating.  On a Sunday night, it was full of Japanese and Bethesda families of all ages. It doesn't seem like a hipster sushi bar with little decor or fancy dishes.   On to the sushi!  Top grade tuna, toro and yellowtail for sashimi - melt...</td>\n",
        "      <td>4</td>\n",
        "      <td>180</td>\n",
        "    </tr>\n",
        "    <tr>\n",
        "      <th>10</th>\n",
        "      <td>tako-grill-bethesda-2</td>\n",
        "      <td>2015-07-27</td>\n",
        "      <td>We decided to give Tako a try after happening upon it while running an errand. The food was delicious, without exception. There was a vegan and a vegetarian among us, and the waitress was very helpful in directing them to what turned out to be a fair number of choices. The rest of us mostly had a variety of sushi, which was fresh-tasting and very good. The prices are reasonable (not cheap), and the service was great. I'm sure we will be returning.</td>\n",
        "      <td>4</td>\n",
        "      <td>110</td>\n",
        "    </tr>\n",
        "    <tr>\n",
        "      <th>11</th>\n",
        "      <td>tako-grill-bethesda-2</td>\n",
        "      <td>2015-08-22</td>\n",
        "      <td>One of the best restaurants in bethesda, especially friendly if you are eating alone at the sushi bar.  Everything is fresh and very well prepared.  The bento is a great deal.</td>\n",
        "      <td>5</td>\n",
        "      <td>84</td>\n",
        "    </tr>\n",
        "    <tr>\n",
        "      <th>12</th>\n",
        "      <td>tako-grill-bethesda-2</td>\n",
        "      <td>2015-08-04</td>\n",
        "      <td>I've had lunch on multiple weekends. I used to regularly eat at another Bethesda Japanese restaurant that has recently changed ownership and gone seriously down hill, so Tako Grill is new for me. The owners are Japanese which is a huge plus; in addition to high quality fish for sushi and sashimi, they serve a very good variety of Japanese dishes beyond standard sushi restaurant fare. Service is friendly. Highly recommended.</td>\n",
        "      <td>4</td>\n",
        "      <td>102</td>\n",
        "    </tr>\n",
        "    <tr>\n",
        "      <th>13</th>\n",
        "      <td>tako-grill-bethesda-2</td>\n",
        "      <td>2015-07-22</td>\n",
        "      <td>Second visits since it moved; first time was a lunch and was pleasantly surprised - good sushi, tempura and service.  Visited last evening and was more impressed by all of the same, but also how friendly everyone is.  Noted that this had 3 '$' on its heading.  Someone might want to revisit that; dinner with drinks, food and tip came to $55.  Clearly a value for the middle of Bethesda.</td>\n",
        "      <td>4</td>\n",
        "      <td>115</td>\n",
        "    </tr>\n",
        "  </tbody>\n",
        "</table>\n",
        "</div>"
       ],
       "metadata": {},
       "output_type": "pyout",
       "prompt_number": 435,
       "text": [
        "                       id posted_date  \\\n",
        "0   tako-grill-bethesda-2  2015-10-16   \n",
        "1   tako-grill-bethesda-2  2015-10-13   \n",
        "2   tako-grill-bethesda-2  2015-08-26   \n",
        "3   tako-grill-bethesda-2  2015-07-14   \n",
        "4   tako-grill-bethesda-2  2015-10-18   \n",
        "5   tako-grill-bethesda-2  2015-07-25   \n",
        "6   tako-grill-bethesda-2  2015-11-13   \n",
        "7   tako-grill-bethesda-2  2015-10-26   \n",
        "8   tako-grill-bethesda-2  2015-08-01   \n",
        "9   tako-grill-bethesda-2  2015-05-18   \n",
        "10  tako-grill-bethesda-2  2015-07-27   \n",
        "11  tako-grill-bethesda-2  2015-08-22   \n",
        "12  tako-grill-bethesda-2  2015-08-04   \n",
        "13  tako-grill-bethesda-2  2015-07-22   \n",
        "\n",
        "                                                                                                                                                                                                                                                                                                                                                                                                                                                                                                                                                                                                                                                                                                                                                                                                                                                                                                                                                                                                                                                             review  \\\n",
        "0                                                                                                                                                                                                                                                                                                             I can't say enough positive things about this place.  If I could give it 20 stars, I would.  My dining companion for the evening said it perfectly: \"It's like I'm eating sushi for the first time\".  Literally every single item we ordered (seaweed salad, pork belly and chicken yakatori, a variety of sashimi and maki) was the PERFECT temperature and SO fresh.  I was amazed.  I've been eating sushi for almost 20 years and this may have been the best I've ever had.    You're looking for a sushi place? THIS IS IT!  Go eat here!  I'm very excited to now have a go-to sushi place in the area thats so....complete.  Staff is lovely too, presentation is excellent, clean, looks nice, not too loud.  The list goes on...and on....    \n",
        "1   Tako was our go-to sushi place when it was at its old Wisconsin Avenue location. We mourned its passing. Apparently by the way it was all for nought. The staff at the new location told me that Tako was kicked out by its former landlord who intended to sell the property. Tako found its new space on Hampden, then the original landlord's deal fell through. So Tako is in a new location, and landlord has an empty restaurant storefront. Serves him right! Back to Tako. The new space is much smaller than the old space. There is not bar. There are no beers on draft. Having a cold Kirin Ichiban draft at the old location was one of the true pleasures of eating at Tako. Sushi is still good and fresh. There is little innovation, but it's good. We didn't have grilled food this time, and having a grill is one of Tako's nice advantages over the typical sushi joint. Service was good. Our server was young, possibly high school or college, and sweet. Sushi orders come out pretty fast. Their miso soup is among the best I've ...   \n",
        "2                                                                                                                                                                                                                                                                                                 The yakitori is a good deal. But the service can be so attentive it borders on intrusive. This is the rare Japanese restaurant that feels overstaffed.  Also, the fish is not being handled by someone who understands manners.   If you run out of something one night and are unable to include it in a dish that specifically lists it as an ingredient, you tell your servers to warn people BEFORE they order a dish. Otherwise, this is false advertisement.  On the rare occasion you run out of something in the middle of the night before you can tell the servers, you make sure to train them to be up front about it instead of simply replacing the missing ingredient with a more expensive substitute without apology or request for permission.    \n",
        "3                                                                                                                                                                                                                                                                                                                                                                                                                                                                                                                   This is the new location for Tako Grill.  It's smaller than the old location but still has a similar set up.  The menu is the same with my favorite, the soft shell crab maki.  This time eating there I also enjoyed the agedofu, and the gyouza were really wonderful.    I've eaten at the old location many times, and this place is solid.  Many Japanese people consider this to be one of the best real Japanese restaurants in the DC area.  There is a Japanese chef.  Parking is annoying and expensive at this new location though.    \n",
        "4                                                                                                                                                                                                                                                                                                                                                                  I have to give them a 5 star. It's not the best sushi I have had but the variety and authenticity in overall Japanese cuisine is terrific. The Sukiyaki is good, I am a fan of the Izakaya and Chirashi. They have Yakitori and Tempura and other treats. Some of my favorite items were the Shitake mushrooms and the flounder fin. You can make this expensive or inexpensive. Sakis are delicious and they have several Junmai options. The owner is a sweetie pie and the food very clean and tasty. Terrific go-to for the Japanese cuisine fix I have from time to time. If you are not familiar with Japanese cuisine this is a great place to go explore in a safe, Bethesda like land.    \n",
        "5   When you roll over the stars on Yelp, 5 stars is supposed to mean \"As good as it gets\". This place is honestly as good as it gets. Everything about Tako Grill is utterly exceptional, from the decor to the staff to the food.  I work right by here and go there several times each week since they opened. My favorite entree is the Chicken Teriyaki, by far the best teriyaki I have ever had from any restaurant. Ever. It comes with a side salad, miso soup (which I don't usually like at other places but LOVE here), cooked carrots, broccoli and rice. The chicken is cooked and seasoned beyond perfection. For lunch it is only about $14 and is MORE than enough food to fill you up.  I was never a huge sushi fan until I went here. I don't like avocado in my sushi, so they let me sub cucumber instead. Game changer. My personal favorite is the fire cracker roll and the salmon roll. Everything is so fresh and that really makes all the difference. They pay attention to detail, even during the busy dinner rush.  The staff ar...   \n",
        "6                                                                                                                                                                                                                                                                                                                                                                                                                                                                                                                                                                                                                                                                                                                                                                                                                                                                                                                                           Their sashimi is amazing - fresh, cut with precision, sweet, and just a micro-dab of soy sauce. Our go-to in Bethesda.    \n",
        "7                                                                                                                                                                                                                                                                                                                                                                                                                                                                                                                                                                                                                                                                                                                                                                                                                                     Totally tasty sushi - The Firecracker Rolls are a must.  The decor is lovely in the new location, and the staff there are so friendly.  My friend and I often come with her toddler, and they're always more than welcoming.    \n",
        "8                                                                                                                                                                                                                                                                                                                                                                                                                                                                                                                                                                                                                                                                                      This is a great place to come for lunch, get the bento box but do not come here for dinner. You will be disappointed. It's pricy and they don't handle being busy well, at all. My friend didn't get her sushi only her salad but didn't feel like asking or paying for it so we just asked for the check.   Won't be coming here for anything other than lunch ever again.    \n",
        "9   New location for Tako Grill!  The old location has been teetering on redevelopment for years.  Since Hinode closed, it's location seemed logical for Tako fans. After many delays, the new restaurant opened with some of the old hands, but many new ones, hopefully for the better. The location is in the \"Shoppes of Bethesda\" the odd strip mall on Hampton with the liquor and UPS stores. In the evening, there is plenty of paid parking.  But you paid on Wisconsin as well.  The new restaurant lacks a sign at the entrance door, so 1/2 the people went to exit door, including us!  There is an entry, with a hostess stand. Unlike the old place, there is no bar, in fact, all booze seems to come out of a back set up area.  Everything is clean and fresh with a nice sushi bar and lots of seating.  On a Sunday night, it was full of Japanese and Bethesda families of all ages. It doesn't seem like a hipster sushi bar with little decor or fancy dishes.   On to the sushi!  Top grade tuna, toro and yellowtail for sashimi - melt...   \n",
        "10                                                                                                                                                                                                                                                                                                                                                                                                                                                                                                                                                                                             We decided to give Tako a try after happening upon it while running an errand. The food was delicious, without exception. There was a vegan and a vegetarian among us, and the waitress was very helpful in directing them to what turned out to be a fair number of choices. The rest of us mostly had a variety of sushi, which was fresh-tasting and very good. The prices are reasonable (not cheap), and the service was great. I'm sure we will be returning.    \n",
        "11                                                                                                                                                                                                                                                                                                                                                                                                                                                                                                                                                                                                                                                                                                                                                                                                                                                                                 One of the best restaurants in bethesda, especially friendly if you are eating alone at the sushi bar.  Everything is fresh and very well prepared.  The bento is a great deal.    \n",
        "12                                                                                                                                                                                                                                                                                                                                                                                                                                                                                                                                                                                                                     I've had lunch on multiple weekends. I used to regularly eat at another Bethesda Japanese restaurant that has recently changed ownership and gone seriously down hill, so Tako Grill is new for me. The owners are Japanese which is a huge plus; in addition to high quality fish for sushi and sashimi, they serve a very good variety of Japanese dishes beyond standard sushi restaurant fare. Service is friendly. Highly recommended.    \n",
        "13                                                                                                                                                                                                                                                                                                                                                                                                                                                                                                                                                                                                                                                             Second visits since it moved; first time was a lunch and was pleasantly surprised - good sushi, tempura and service.  Visited last evening and was more impressed by all of the same, but also how friendly everyone is.  Noted that this had 3 '$' on its heading.  Someone might want to revisit that; dinner with drinks, food and tip came to $55.  Clearly a value for the middle of Bethesda.    \n",
        "\n",
        "    review_rating  posted_days  \n",
        "0               5           29  \n",
        "1               4           32  \n",
        "2               3           80  \n",
        "3               5          123  \n",
        "4               5           27  \n",
        "5               5          112  \n",
        "6               5            1  \n",
        "7               4           19  \n",
        "8               3          105  \n",
        "9               4          180  \n",
        "10              4          110  \n",
        "11              5           84  \n",
        "12              4          102  \n",
        "13              4          115  "
       ]
      }
     ],
     "prompt_number": 435
    },
    {
     "cell_type": "code",
     "collapsed": false,
     "input": [],
     "language": "python",
     "metadata": {},
     "outputs": [
      {
       "metadata": {},
       "output_type": "pyout",
       "prompt_number": 442,
       "text": [
        "\"Second visits since it moved; first time was a lunch and was pleasantly surprised - good sushi, tempura and service.  Visited last evening and was more impressed by all of the same, but also how friendly everyone is.  Noted that this had 3 '$' on its heading.  Someone might want to revisit that; dinner with drinks, food and tip came to $55.  Clearly a value for the middle of Bethesda. \""
       ]
      }
     ],
     "prompt_number": 442
    },
    {
     "cell_type": "code",
     "collapsed": false,
     "input": [],
     "language": "python",
     "metadata": {},
     "outputs": []
    }
   ],
   "metadata": {}
  }
 ]
}
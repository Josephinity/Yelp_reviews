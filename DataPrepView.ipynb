{
 "metadata": {
  "name": "",
  "signature": "sha256:46c2b437c155affe91be9a70b022b7e9a228a7be2d6bd36c1819d48c7aae2a91"
 },
 "nbformat": 3,
 "nbformat_minor": 0,
 "worksheets": [
  {
   "cells": [
    {
     "cell_type": "code",
     "collapsed": false,
     "input": [
      "import argparse\n",
      "import json\n",
      "import pprint\n",
      "import sys\n",
      "import urllib\n",
      "import urllib2\n",
      "\n",
      "import oauth2\n",
      "import httplib2"
     ],
     "language": "python",
     "metadata": {},
     "outputs": [],
     "prompt_number": 2
    },
    {
     "cell_type": "code",
     "collapsed": false,
     "input": [
      "API_HOST = 'api.yelp.com'\n",
      "DEFAULT_TERM = 'japanese restaurant'\n",
      "DEFAULT_LOCATION = 'Cupertino, CA'\n",
      "SEARCH_LIMIT = 20\n",
      "SEARCH_PATH = '/v2/search/'\n",
      "BUSINESS_PATH = '/v2/business/'\n",
      "\n",
      "# OAuth credential placeholders that must be filled in by users.\n",
      "CONSUMER_KEY = \"dIk_knsDCS76fQS67sxnVw\"\n",
      "CONSUMER_SECRET = \"cmML7LDRRUcc8tqtsbB_vMpLvxs\"\n",
      "TOKEN = \"0YIaTyBTNwHA3nrEE_7eyOX1uLWPMNoK\"\n",
      "TOKEN_SECRET = \"tAftxPTQMY7_Wm7KmZ7LI5MxdxE\""
     ],
     "language": "python",
     "metadata": {},
     "outputs": [],
     "prompt_number": 3
    },
    {
     "cell_type": "code",
     "collapsed": false,
     "input": [
      "def request(host, path, url_params=None):\n",
      "    \"\"\"Prepares OAuth authentication and sends the request to the API.\n",
      "    Args:\n",
      "        host (str): The domain host of the API.\n",
      "        path (str): The path of the API after the domain.\n",
      "        url_params (dict): An optional set of query parameters in the request.\n",
      "    Returns:\n",
      "        dict: The JSON response from the request.\n",
      "    Raises:\n",
      "        urllib2.HTTPError: An error occurs from the HTTP request.\n",
      "    \"\"\"\n",
      "    url_params = url_params or {}\n",
      "    url = 'https://{0}{1}?'.format(host, urllib.quote(path.encode('utf8')))\n",
      "\n",
      "    consumer = oauth2.Consumer(CONSUMER_KEY, CONSUMER_SECRET)\n",
      "    oauth_request = oauth2.Request(method=\"GET\", url=url, parameters=url_params)\n",
      "\n",
      "    oauth_request.update(\n",
      "        {\n",
      "            'oauth_nonce': oauth2.generate_nonce(),\n",
      "            'oauth_timestamp': oauth2.generate_timestamp(),\n",
      "            'oauth_token': TOKEN,\n",
      "            'oauth_consumer_key': CONSUMER_KEY\n",
      "        }\n",
      "    )\n",
      "    token = oauth2.Token(TOKEN, TOKEN_SECRET)\n",
      "    oauth_request.sign_request(oauth2.SignatureMethod_HMAC_SHA1(), consumer, token)\n",
      "    signed_url = oauth_request.to_url()\n",
      "    \n",
      "    print u'Querying {0} ...'.format(url)\n",
      "\n",
      "    conn = urllib2.urlopen(signed_url, None)\n",
      "    try:\n",
      "        response = json.loads(conn.read())\n",
      "    finally:\n",
      "        conn.close()\n",
      "\n",
      "    return response\n",
      "\n",
      "def search(term, location):\n",
      "    \"\"\"Query the Search API by a search term and location.\n",
      "    Args:\n",
      "        term (str): The search term passed to the API.\n",
      "        location (str): The search location passed to the API.\n",
      "    Returns:\n",
      "        dict: The JSON response from the request.\n",
      "    \"\"\"\n",
      "    \n",
      "    url_params = {\n",
      "        'term': term.replace(' ', '+'),\n",
      "        'location': location.replace(' ', '+'),\n",
      "        'limit': SEARCH_LIMIT\n",
      "    }\n",
      "    print(url_params)\n",
      "    print(SEARCH_PATH)\n",
      "    return request(API_HOST, SEARCH_PATH, url_params=url_params)"
     ],
     "language": "python",
     "metadata": {},
     "outputs": [],
     "prompt_number": 4
    },
    {
     "cell_type": "code",
     "collapsed": false,
     "input": [
      "def get_business(business_id):\n",
      "    \"\"\"Query the Business API by a business ID.\n",
      "    Args:\n",
      "        business_id (str): The ID of the business to query.\n",
      "    Returns:\n",
      "        dict: The JSON response from the request.\n",
      "    \"\"\"\n",
      "    business_path = BUSINESS_PATH + business_id\n",
      "\n",
      "    return request(API_HOST, business_path)\n"
     ],
     "language": "python",
     "metadata": {},
     "outputs": [],
     "prompt_number": 5
    },
    {
     "cell_type": "code",
     "collapsed": false,
     "input": [
      "def query_api(term, location):\n",
      "    \"\"\"Queries the API by the input values from the user.\n",
      "    Args:\n",
      "        term (str): The search term to query.\n",
      "        location (str): The location of the business to query.\n",
      "    \"\"\"\n",
      "    response = search(term, location)\n",
      "\n",
      "\n",
      "    businesses = response.get('businesses')\n",
      "\n",
      "    if not businesses:\n",
      "        print u'No businesses for {0} in {1} found.'.format(term, location)\n",
      "        return\n",
      "\n",
      "    business_id = businesses[0]['id']\n",
      "\n",
      "    print u'{0} businesses found, querying business info for the top result \"{1}\" ...'.format(\n",
      "        len(businesses),\n",
      "        business_id\n",
      "    )\n",
      "\n",
      "    response = get_business(business_id)\n",
      "\n",
      "#     print u'Result for business \"{0}\" found:'.format(business_id)\n",
      "#     pprint.pprint(response, indent=2)\n",
      "\n",
      "    return businesses"
     ],
     "language": "python",
     "metadata": {},
     "outputs": [],
     "prompt_number": 6
    },
    {
     "cell_type": "code",
     "collapsed": false,
     "input": [
      "def main():\n",
      "    parser = argparse.ArgumentParser()\n",
      "\n",
      "    parser.add_argument('-q', '--term', dest='term', default=DEFAULT_TERM, type=str, help='Search term (default: %(default)s)')\n",
      "    parser.add_argument('-l', '--location', dest='location', default=DEFAULT_LOCATION, type=str, help='Search location (default: %(default)s)')\n",
      "\n",
      "    input_values = parser.parse_known_args()\n",
      "    try:\n",
      "        query_api(input_values[0].term, input_values[0].location)\n",
      "    except urllib2.HTTPError as error:\n",
      "        sys.exit('Encountered HTTP error {0}. Abort program.'.format(error.code))\n",
      "\n",
      "\n",
      "# if __name__ == '__main__':\n",
      "#     main()"
     ],
     "language": "python",
     "metadata": {},
     "outputs": [],
     "prompt_number": 7
    },
    {
     "cell_type": "code",
     "collapsed": false,
     "input": [
      "#search for restaurants from YelpAPI\n",
      "def getJSON(term,location):\n",
      "    parser = argparse.ArgumentParser()\n",
      "\n",
      "    parser.add_argument('-q', '--term', dest='term', default=term, type=str, help='Search term (default: %(default)s)')\n",
      "    parser.add_argument('-l', '--location', dest='location', default=location, type=str, help='Search location (default: %(default)s)')\n",
      "\n",
      "    input_values = parser.parse_known_args()\n",
      "    try:\n",
      "        return query_api(input_values[0].term, input_values[0].location)\n",
      "    except urllib2.HTTPError as error:\n",
      "        sys.exit('Encountered HTTP error {0}. Abort program.'.format(error.code))"
     ],
     "language": "python",
     "metadata": {},
     "outputs": [],
     "prompt_number": 8
    },
    {
     "cell_type": "code",
     "collapsed": false,
     "input": [
      "LOCATION_LIST=['bethesda, MD','stanford, CA','Cupertino, CA','Miami, FL','Milpitas','Washington DC', \n",
      "               'Salt Lake City', 'Boston', 'Buffalo, NY']\n",
      "\n",
      "businesses=[getJSON('japanese',loc) for loc in LOCATION_LIST]"
     ],
     "language": "python",
     "metadata": {},
     "outputs": [
      {
       "output_type": "stream",
       "stream": "stdout",
       "text": [
        "{'term': 'japanese', 'limit': 20, 'location': 'bethesda,+MD'}\n",
        "/v2/search/\n",
        "Querying https://api.yelp.com/v2/search/? ...\n",
        "20 businesses found, querying business info for the top result \"yuzu-japanese-dining-bethesda\" ..."
       ]
      },
      {
       "output_type": "stream",
       "stream": "stdout",
       "text": [
        "\n",
        "Querying https://api.yelp.com/v2/business/yuzu-japanese-dining-bethesda? ...\n",
        "{'term': 'japanese', 'limit': 20, 'location': 'stanford,+CA'}"
       ]
      },
      {
       "output_type": "stream",
       "stream": "stdout",
       "text": [
        "\n",
        "/v2/search/\n",
        "Querying https://api.yelp.com/v2/search/? ...\n",
        "20 businesses found, querying business info for the top result \"odori-sushi-and-teppanyaki-palo-alto\" ..."
       ]
      },
      {
       "output_type": "stream",
       "stream": "stdout",
       "text": [
        "\n",
        "Querying https://api.yelp.com/v2/business/odori-sushi-and-teppanyaki-palo-alto? ...\n",
        "{'term': 'japanese', 'limit': 20, 'location': 'Cupertino,+CA'}"
       ]
      },
      {
       "output_type": "stream",
       "stream": "stdout",
       "text": [
        "\n",
        "/v2/search/\n",
        "Querying https://api.yelp.com/v2/search/? ...\n",
        "20 businesses found, querying business info for the top result \"gochi-japanese-fusion-tapas-cupertino\" ..."
       ]
      },
      {
       "output_type": "stream",
       "stream": "stdout",
       "text": [
        "\n",
        "Querying https://api.yelp.com/v2/business/gochi-japanese-fusion-tapas-cupertino? ...\n",
        "{'term': 'japanese', 'limit': 20, 'location': 'Miami,+FL'}"
       ]
      },
      {
       "output_type": "stream",
       "stream": "stdout",
       "text": [
        "\n",
        "/v2/search/\n",
        "Querying https://api.yelp.com/v2/search/? ...\n",
        "20 businesses found, querying business info for the top result \"gyu-kaku-japanese-bbq-miami\" ..."
       ]
      },
      {
       "output_type": "stream",
       "stream": "stdout",
       "text": [
        "\n",
        "Querying https://api.yelp.com/v2/business/gyu-kaku-japanese-bbq-miami? ...\n",
        "{'term': 'japanese', 'limit': 20, 'location': 'Milpitas'}"
       ]
      },
      {
       "output_type": "stream",
       "stream": "stdout",
       "text": [
        "\n",
        "/v2/search/\n",
        "Querying https://api.yelp.com/v2/search/? ...\n",
        "20 businesses found, querying business info for the top result \"sen-dai-sushi-milpitas\" ..."
       ]
      },
      {
       "output_type": "stream",
       "stream": "stdout",
       "text": [
        "\n",
        "Querying https://api.yelp.com/v2/business/sen-dai-sushi-milpitas? ...\n",
        "{'term': 'japanese', 'limit': 20, 'location': 'Washington+DC'}"
       ]
      },
      {
       "output_type": "stream",
       "stream": "stdout",
       "text": [
        "\n",
        "/v2/search/\n",
        "Querying https://api.yelp.com/v2/search/? ...\n",
        "20 businesses found, querying business info for the top result \"donburi-washington\" ..."
       ]
      },
      {
       "output_type": "stream",
       "stream": "stdout",
       "text": [
        "\n",
        "Querying https://api.yelp.com/v2/business/donburi-washington? ...\n",
        "{'term': 'japanese', 'limit': 20, 'location': 'Salt+Lake+City'}"
       ]
      },
      {
       "output_type": "stream",
       "stream": "stdout",
       "text": [
        "\n",
        "/v2/search/\n",
        "Querying https://api.yelp.com/v2/search/? ...\n",
        "20 businesses found, querying business info for the top result \"takashi-salt-lake-city\" ..."
       ]
      },
      {
       "output_type": "stream",
       "stream": "stdout",
       "text": [
        "\n",
        "Querying https://api.yelp.com/v2/business/takashi-salt-lake-city? ...\n",
        "{'term': 'japanese', 'limit': 20, 'location': 'Boston'}"
       ]
      },
      {
       "output_type": "stream",
       "stream": "stdout",
       "text": [
        "\n",
        "/v2/search/\n",
        "Querying https://api.yelp.com/v2/search/? ...\n",
        "20 businesses found, querying business info for the top result \"o-ya-boston\" ..."
       ]
      },
      {
       "output_type": "stream",
       "stream": "stdout",
       "text": [
        "\n",
        "Querying https://api.yelp.com/v2/business/o-ya-boston? ...\n",
        "{'term': 'japanese', 'limit': 20, 'location': 'Buffalo,+NY'}"
       ]
      },
      {
       "output_type": "stream",
       "stream": "stdout",
       "text": [
        "\n",
        "/v2/search/\n",
        "Querying https://api.yelp.com/v2/search/? ...\n",
        "20 businesses found, querying business info for the top result \"sato-buffalo\" ..."
       ]
      },
      {
       "output_type": "stream",
       "stream": "stdout",
       "text": [
        "\n",
        "Querying https://api.yelp.com/v2/business/sato-buffalo? ...\n"
       ]
      }
     ],
     "prompt_number": 10
    },
    {
     "cell_type": "code",
     "collapsed": false,
     "input": [
      "import pandas as pd\n",
      "#allow dataframe to carry long strings\n",
      "pd.set_option('max_colwidth',1024)\n",
      "#filter useful variables\n",
      "def createDataFrames(businesses):\n",
      "    column_names=[\n",
      "                u'is_claimed',u'rating',u'review_count',u'name',\n",
      "                u'categories',u'location',u'url',u'is_closed',\n",
      "                u'id',u'snippet_text'\n",
      "              ]\n",
      "    dataframes=[pd.DataFrame( [[ business[i][key] if key in column_names else '' for key in column_names]\n",
      "         for i in range(0,20)],columns=column_names) for business in businesses]\n",
      "    return dataframes"
     ],
     "language": "python",
     "metadata": {},
     "outputs": [],
     "prompt_number": 11
    },
    {
     "cell_type": "code",
     "collapsed": false,
     "input": [
      "#seperate address info into multiple attributes\n",
      "def getAddress(dataframe):\n",
      "    COLUMNS = [u'name', u'rating', u'review_count', u'snippet_text', u'categories', u'is_closed', \n",
      "           u'street', u'city', u'state_code', u'postal_code', u'latitude', u'longitude',u'id',\n",
      "           u'url', u'is_claimed']\n",
      "    LOCATION_KEYS=['country_code','postal_code','state_code','address','coordinate','city']\n",
      "    address = pd.DataFrame(\n",
      "                [[dataframe.location[i][key] for key in LOCATION_KEYS] for i in range(0,20)],\n",
      "                columns=[key for key in LOCATION_KEYS]\n",
      "            )\n",
      "    address['latitude']=[float(address['coordinate'][i]['latitude']) for i in range(0,20)]\n",
      "    address['longitude']=[float(address['coordinate'][i]['longitude']) for i in range(0,20)]\n",
      "    dataframe=pd.concat([df, address], axis=1)\n",
      "    dataframe.rename(columns={'address':'street'},inplace=True)\n",
      "    dataframe.street=dataframe.street[0][0]\n",
      "    return dataframe[COLUMNS]"
     ],
     "language": "python",
     "metadata": {},
     "outputs": [],
     "prompt_number": 12
    },
    {
     "cell_type": "code",
     "collapsed": false,
     "input": [
      "def mergeDataFrames(lists):\n",
      "    res=lists[0]\n",
      "    for i in range(1,len(lists)):\n",
      "        res=res.append(lists[i],ignore_index=True)\n",
      "    print('Acquired %i restaurants in total' %len(res))\n",
      "    return res"
     ],
     "language": "python",
     "metadata": {},
     "outputs": [],
     "prompt_number": 13
    },
    {
     "cell_type": "code",
     "collapsed": false,
     "input": [
      "#parse JSON to DFs\n",
      "dataframes=createDataFrames(businesses)\n",
      "#merge DFs\n",
      "restaurants_by_areas=[getAddress(df)for df in dataframes]\n",
      "restaurants=mergeDataFrames(restaurants_by_areas)"
     ],
     "language": "python",
     "metadata": {},
     "outputs": [
      {
       "output_type": "stream",
       "stream": "stdout",
       "text": [
        "Acquired 180 restaurants in total\n"
       ]
      }
     ],
     "prompt_number": 14
    },
    {
     "cell_type": "code",
     "collapsed": false,
     "input": [
      "restaurants[:5]"
     ],
     "language": "python",
     "metadata": {},
     "outputs": [
      {
       "html": [
        "<div style=\"max-width:1500px;overflow:auto;\">\n",
        "<table border=\"1\" class=\"dataframe\">\n",
        "  <thead>\n",
        "    <tr style=\"text-align: right;\">\n",
        "      <th></th>\n",
        "      <th>name</th>\n",
        "      <th>rating</th>\n",
        "      <th>review_count</th>\n",
        "      <th>snippet_text</th>\n",
        "      <th>categories</th>\n",
        "      <th>is_closed</th>\n",
        "      <th>street</th>\n",
        "      <th>city</th>\n",
        "      <th>state_code</th>\n",
        "      <th>postal_code</th>\n",
        "      <th>latitude</th>\n",
        "      <th>longitude</th>\n",
        "      <th>id</th>\n",
        "      <th>url</th>\n",
        "      <th>is_claimed</th>\n",
        "    </tr>\n",
        "  </thead>\n",
        "  <tbody>\n",
        "    <tr>\n",
        "      <th>0</th>\n",
        "      <td>Yuzu Japanese Dining</td>\n",
        "      <td>3.5</td>\n",
        "      <td>108</td>\n",
        "      <td>Came here for dinner and was totally impressed. Everything was beautifully presented and the subtle flavors were authentic. The mixed greens with ginger...</td>\n",
        "      <td>[[Japanese, japanese]]</td>\n",
        "      <td>False</td>\n",
        "      <td>7345 Wisconsin Ave</td>\n",
        "      <td>Bethesda</td>\n",
        "      <td>MD</td>\n",
        "      <td>20814</td>\n",
        "      <td>38.983092</td>\n",
        "      <td>-77.093365</td>\n",
        "      <td>yuzu-japanese-dining-bethesda</td>\n",
        "      <td>http://www.yelp.com/biz/yuzu-japanese-dining-bethesda</td>\n",
        "      <td>True</td>\n",
        "    </tr>\n",
        "    <tr>\n",
        "      <th>1</th>\n",
        "      <td>Tako Grill</td>\n",
        "      <td>4.5</td>\n",
        "      <td>14</td>\n",
        "      <td>I can't say enough positive things about this place.  If I could give it 20 stars, I would.  My dining companion for the evening said it perfectly: \"It's...</td>\n",
        "      <td>[[Japanese, japanese], [Sushi Bars, sushi]]</td>\n",
        "      <td>False</td>\n",
        "      <td>7345 Wisconsin Ave</td>\n",
        "      <td>Bethesda</td>\n",
        "      <td>MD</td>\n",
        "      <td>20814</td>\n",
        "      <td>38.982544</td>\n",
        "      <td>-77.096764</td>\n",
        "      <td>tako-grill-bethesda-2</td>\n",
        "      <td>http://www.yelp.com/biz/tako-grill-bethesda-2</td>\n",
        "      <td>True</td>\n",
        "    </tr>\n",
        "    <tr>\n",
        "      <th>2</th>\n",
        "      <td>Satsuma</td>\n",
        "      <td>3.5</td>\n",
        "      <td>206</td>\n",
        "      <td>Ok when I read from another yelper that they had \"$1\" sushi I was like...What...? Really!!?  So my brother and I dropped by after work today to try it out....</td>\n",
        "      <td>[[Sushi Bars, sushi], [Japanese, japanese], [Korean, korean]]</td>\n",
        "      <td>False</td>\n",
        "      <td>7345 Wisconsin Ave</td>\n",
        "      <td>Bethesda</td>\n",
        "      <td>MD</td>\n",
        "      <td>20814</td>\n",
        "      <td>38.990093</td>\n",
        "      <td>-77.098846</td>\n",
        "      <td>satsuma-bethesda</td>\n",
        "      <td>http://www.yelp.com/biz/satsuma-bethesda</td>\n",
        "      <td>True</td>\n",
        "    </tr>\n",
        "    <tr>\n",
        "      <th>3</th>\n",
        "      <td>Maki Maki</td>\n",
        "      <td>3.5</td>\n",
        "      <td>189</td>\n",
        "      <td>Ate here twice and the Hamachi just melts in my mouth each time. All the rolls I've had have been great. I love the spicy scallop roll preferably without...</td>\n",
        "      <td>[[Japanese, japanese]]</td>\n",
        "      <td>False</td>\n",
        "      <td>7345 Wisconsin Ave</td>\n",
        "      <td>Bethesda</td>\n",
        "      <td>MD</td>\n",
        "      <td>20814</td>\n",
        "      <td>38.991135</td>\n",
        "      <td>-77.095253</td>\n",
        "      <td>maki-maki-bethesda</td>\n",
        "      <td>http://www.yelp.com/biz/maki-maki-bethesda</td>\n",
        "      <td>False</td>\n",
        "    </tr>\n",
        "    <tr>\n",
        "      <th>4</th>\n",
        "      <td>Aji-Nippon Restaurant</td>\n",
        "      <td>4.0</td>\n",
        "      <td>43</td>\n",
        "      <td>This is a no-frills, solid option for sushi in Bethesda. If you want fresh, high quality sushi, Aji will fulfill your needs. I have tried a variety of their...</td>\n",
        "      <td>[[Japanese, japanese], [Korean, korean]]</td>\n",
        "      <td>False</td>\n",
        "      <td>7345 Wisconsin Ave</td>\n",
        "      <td>Bethesda</td>\n",
        "      <td>MD</td>\n",
        "      <td>20814</td>\n",
        "      <td>38.979138</td>\n",
        "      <td>-77.098560</td>\n",
        "      <td>aji-nippon-restaurant-bethesda</td>\n",
        "      <td>http://www.yelp.com/biz/aji-nippon-restaurant-bethesda</td>\n",
        "      <td>True</td>\n",
        "    </tr>\n",
        "  </tbody>\n",
        "</table>\n",
        "</div>"
       ],
       "metadata": {},
       "output_type": "pyout",
       "prompt_number": 15,
       "text": [
        "                    name  rating  review_count  \\\n",
        "0   Yuzu Japanese Dining     3.5           108   \n",
        "1             Tako Grill     4.5            14   \n",
        "2                Satsuma     3.5           206   \n",
        "3              Maki Maki     3.5           189   \n",
        "4  Aji-Nippon Restaurant     4.0            43   \n",
        "\n",
        "                                                                                                                                                      snippet_text  \\\n",
        "0      Came here for dinner and was totally impressed. Everything was beautifully presented and the subtle flavors were authentic. The mixed greens with ginger...   \n",
        "1     I can't say enough positive things about this place.  If I could give it 20 stars, I would.  My dining companion for the evening said it perfectly: \"It's...   \n",
        "2   Ok when I read from another yelper that they had \"$1\" sushi I was like...What...? Really!!?  So my brother and I dropped by after work today to try it out....   \n",
        "3     Ate here twice and the Hamachi just melts in my mouth each time. All the rolls I've had have been great. I love the spicy scallop roll preferably without...   \n",
        "4  This is a no-frills, solid option for sushi in Bethesda. If you want fresh, high quality sushi, Aji will fulfill your needs. I have tried a variety of their...   \n",
        "\n",
        "                                                      categories is_closed  \\\n",
        "0                                         [[Japanese, japanese]]     False   \n",
        "1                    [[Japanese, japanese], [Sushi Bars, sushi]]     False   \n",
        "2  [[Sushi Bars, sushi], [Japanese, japanese], [Korean, korean]]     False   \n",
        "3                                         [[Japanese, japanese]]     False   \n",
        "4                       [[Japanese, japanese], [Korean, korean]]     False   \n",
        "\n",
        "               street      city state_code postal_code   latitude  longitude  \\\n",
        "0  7345 Wisconsin Ave  Bethesda         MD       20814  38.983092 -77.093365   \n",
        "1  7345 Wisconsin Ave  Bethesda         MD       20814  38.982544 -77.096764   \n",
        "2  7345 Wisconsin Ave  Bethesda         MD       20814  38.990093 -77.098846   \n",
        "3  7345 Wisconsin Ave  Bethesda         MD       20814  38.991135 -77.095253   \n",
        "4  7345 Wisconsin Ave  Bethesda         MD       20814  38.979138 -77.098560   \n",
        "\n",
        "                               id  \\\n",
        "0   yuzu-japanese-dining-bethesda   \n",
        "1           tako-grill-bethesda-2   \n",
        "2                satsuma-bethesda   \n",
        "3              maki-maki-bethesda   \n",
        "4  aji-nippon-restaurant-bethesda   \n",
        "\n",
        "                                                      url is_claimed  \n",
        "0   http://www.yelp.com/biz/yuzu-japanese-dining-bethesda       True  \n",
        "1           http://www.yelp.com/biz/tako-grill-bethesda-2       True  \n",
        "2                http://www.yelp.com/biz/satsuma-bethesda       True  \n",
        "3              http://www.yelp.com/biz/maki-maki-bethesda      False  \n",
        "4  http://www.yelp.com/biz/aji-nippon-restaurant-bethesda       True  "
       ]
      }
     ],
     "prompt_number": 15
    },
    {
     "cell_type": "code",
     "collapsed": false,
     "input": [],
     "language": "python",
     "metadata": {},
     "outputs": []
    }
   ],
   "metadata": {}
  }
 ]
}
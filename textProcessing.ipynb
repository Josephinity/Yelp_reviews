{
 "metadata": {
  "name": "",
  "signature": "sha256:b4173e45d49bfd45a1e06892efbe1a3cdf4eb82533a8560e8815adfcedacd073"
 },
 "nbformat": 3,
 "nbformat_minor": 0,
 "worksheets": [
  {
   "cells": [
    {
     "cell_type": "code",
     "collapsed": false,
     "input": [
      "%cd~/GitHub/Yelp_reviews\n",
      "import pandas as pd\n",
      "#read reviews\n",
      "def read_reviews_txt(filename):\n",
      "    with open(filename) as f:\n",
      "        lines=[[line] for line in f.readlines()]\n",
      "        header=lines[0][0].split('\\t')[1:]\n",
      "        header[-1]=header[-1][:-1]\n",
      "        content=[line[0].split('\\t')[1:] for line in lines[1:]]\n",
      "        for row in content:\n",
      "            row[4]=row[4][:-1]\n",
      "            row[3]=row[3].decode('utf-8')\n",
      "            row[3]=row[3].replace('\"','')\n",
      "            row[3]=stripHerf(row[3])\n",
      "    return pd.DataFrame(content,columns=header)"
     ],
     "language": "python",
     "metadata": {},
     "outputs": [
      {
       "output_type": "stream",
       "stream": "stdout",
       "text": [
        "/Users/xiaobaby/GitHub/Yelp_reviews\n"
       ]
      }
     ],
     "prompt_number": 89
    },
    {
     "cell_type": "code",
     "collapsed": false,
     "input": [
      "#remove links for pictures in reviews\n",
      "def stripHerf(review):\n",
      "    e=0\n",
      "    alist=[]\n",
      "    while(review[e:].find('<a')>0):\n",
      "        s=review[e:].find('<a')+e\n",
      "        e=review[s:].find('a>')+s\n",
      "        if(e>s):\n",
      "            alist.append([s,e+2])\n",
      "    if(len(alist)>0):\n",
      "        newstr=''\n",
      "        for pair in alist:\n",
      "            newstr+=reviews.review[i][0:pair[0]]+reviews.review[i][pair[1]:]\n",
      "        return newstr\n",
      "    else:\n",
      "        return review"
     ],
     "language": "python",
     "metadata": {},
     "outputs": [],
     "prompt_number": 88
    },
    {
     "cell_type": "code",
     "collapsed": false,
     "input": [
      "reviews=read_reviews_txt('reviews_0_10.txt')"
     ],
     "language": "python",
     "metadata": {},
     "outputs": [],
     "prompt_number": 90
    },
    {
     "cell_type": "code",
     "collapsed": false,
     "input": [
      "reviews[0:5]\n",
      "reviews.review[6]"
     ],
     "language": "python",
     "metadata": {},
     "outputs": [
      {
       "metadata": {},
       "output_type": "pyout",
       "prompt_number": 244,
       "text": [
        "u'Everything fell very true to authentic Japanese cooking... Pure, fresh, light, and well paired. '"
       ]
      }
     ],
     "prompt_number": 244
    },
    {
     "cell_type": "code",
     "collapsed": false,
     "input": [
      "import nltk\n",
      "tokenizer=nltk.tokenize.TreebankWordTokenizer()"
     ],
     "language": "python",
     "metadata": {},
     "outputs": [],
     "prompt_number": 98
    },
    {
     "cell_type": "code",
     "collapsed": false,
     "input": [
      "tokens=nltk.tokenize.word_tokenize(reviews.review[566])\n",
      "#remove dots from token\n",
      "for i in range(len(tokens)):\n",
      "    tokens[i]=tokens[i].strip('.')\n",
      "tokens=filter(None,tokens)"
     ],
     "language": "python",
     "metadata": {},
     "outputs": [],
     "prompt_number": 335
    },
    {
     "cell_type": "code",
     "collapsed": false,
     "input": [
      "print tokens"
     ],
     "language": "python",
     "metadata": {},
     "outputs": [
      {
       "output_type": "stream",
       "stream": "stdout",
       "text": [
        "[u'Excellent', u'sushi', u'in', u'a', u'relaxing', u'environment', u'I', u'have', u'been', u'coming', u'here', u'for', u'years', u'and', u'it', u'never', u'disappoints', u'The', u'sukiyaki', u',', u'prepared', u'fresh', u'at', u'your', u'table', u',', u'is', u'also', u'delicious', u'Attentive', u',', u'quick', u'service', u'Good', u'desserts', u':', u'including', u'ice', u'cream', u'in', u'flavors', u'such', u'as', u'green', u'tea', u',', u'red', u'bean', u'and', u'ginger', u'I', u'have', u'ordered', u'several', u'sushi', u'party', u'platters', u'here', u'and', u'been', u'told', u'by', u'guests', u'it', u'was', u'the', u'best', u'sushi', u'ever']\n"
       ]
      }
     ],
     "prompt_number": 336
    },
    {
     "cell_type": "code",
     "collapsed": false,
     "input": [
      "stop = nltk.corpus.stopwords.words('english')\n",
      "tokens=[token for token in tokens if token not in stop]"
     ],
     "language": "python",
     "metadata": {},
     "outputs": [],
     "prompt_number": 337
    },
    {
     "cell_type": "code",
     "collapsed": false,
     "input": [
      "from nltk.tag.stanford import StanfordPOSTagger as POSTagger\n",
      "home='/Users/xiaobaby/stanford-postagger-2015-04-20'\n",
      "_path_to_model = home + '/models/english-bidirectional-distsim.tagger'\n",
      "_path_to_jar = home + '/stanford-postagger.jar'\n",
      "st = POSTagger(_path_to_model,_path_to_jar)"
     ],
     "language": "python",
     "metadata": {},
     "outputs": [],
     "prompt_number": 307
    },
    {
     "cell_type": "code",
     "collapsed": false,
     "input": [
      "tagged=st.tag(tokens)\n",
      "print tagged"
     ],
     "language": "python",
     "metadata": {},
     "outputs": [
      {
       "output_type": "stream",
       "stream": "stdout",
       "text": [
        "[(u'Excellent', u'JJ'), (u'sushi', u'NN'), (u'relaxing', u'NN'), (u'environment', u'NN'), (u'I', u'CD'), (u'coming', u'JJ'), (u'years', u'NNS'), (u'never', u'RB'), (u'disappoints', u'VBZ'), (u'The', u'DT'), (u'sukiyaki', u'NN'), (u',', u','), (u'prepared', u'VBN'), (u'fresh', u'JJ'), (u'table', u'NN'), (u',', u','), (u'also', u'RB'), (u'delicious', u'JJ'), (u'Attentive', u'JJ'), (u',', u','), (u'quick', u'JJ'), (u'service', u'NN'), (u'Good', u'NNP'), (u'desserts', u'NNS'), (u':', u':'), (u'including', u'VBG'), (u'ice', u'NN'), (u'cream', u'NN'), (u'flavors', u'NNS'), (u'green', u'JJ'), (u'tea', u'NN'), (u',', u','), (u'red', u'JJ'), (u'bean', u'NN'), (u'ginger', u'NN'), (u'I', u'PRP'), (u'ordered', u'VBD'), (u'several', u'JJ'), (u'sushi', u'NN'), (u'party', u'NN'), (u'platters', u'NNS'), (u'told', u'VBD'), (u'guests', u'NNS'), (u'best', u'JJS'), (u'sushi', u'NN'), (u'ever', u'RB')]\n"
       ]
      }
     ],
     "prompt_number": 338
    },
    {
     "cell_type": "code",
     "collapsed": false,
     "input": [
      "print [word[0] for word in tagged if(word[1][0:2]=='NN' )]\n",
      "print [word[0] for word in tagged if(word[1][0:2]=='JJ')]"
     ],
     "language": "python",
     "metadata": {},
     "outputs": [
      {
       "output_type": "stream",
       "stream": "stdout",
       "text": [
        "[u'sushi', u'relaxing', u'environment', u'years', u'sukiyaki', u'table', u'service', u'Good', u'desserts', u'ice', u'cream', u'flavors', u'tea', u'bean', u'ginger', u'sushi', u'party', u'platters', u'guests', u'sushi']\n",
        "[u'Excellent', u'coming', u'fresh', u'delicious', u'Attentive', u'quick', u'green', u'red', u'several', u'best']\n"
       ]
      }
     ],
     "prompt_number": 339
    },
    {
     "cell_type": "code",
     "collapsed": false,
     "input": [
      "print filter(lambda x:x[1][0:2]!='JJ' and x[1][0:2]!='NN',tagged)"
     ],
     "language": "python",
     "metadata": {},
     "outputs": [
      {
       "output_type": "stream",
       "stream": "stdout",
       "text": [
        "[(u'I', u'CD'), (u'never', u'RB'), (u'disappoints', u'VBZ'), (u'The', u'DT'), (u',', u','), (u'prepared', u'VBN'), (u',', u','), (u'also', u'RB'), (u',', u','), (u':', u':'), (u'including', u'VBG'), (u',', u','), (u'I', u'PRP'), (u'ordered', u'VBD'), (u'told', u'VBD'), (u'ever', u'RB')]\n"
       ]
      }
     ],
     "prompt_number": 340
    },
    {
     "cell_type": "code",
     "collapsed": false,
     "input": [
      "import random\n",
      "rows = random.sample(reviews.index, int(len(reviews)*0.8))\n",
      "training = reviews.ix[rows]\n",
      "testing = reviews.drop(rows)"
     ],
     "language": "python",
     "metadata": {},
     "outputs": [],
     "prompt_number": 349
    },
    {
     "cell_type": "code",
     "collapsed": false,
     "input": [
      "import re\n",
      "from nltk.tag.stanford import StanfordPOSTagger as POSTagger\n",
      "home='/Users/xiaobaby/stanford-postagger-2015-04-20'\n",
      "_path_to_model = home + '/models/english-bidirectional-distsim.tagger'\n",
      "_path_to_jar = home + '/stanford-postagger.jar'\n",
      "st = POSTagger(_path_to_model,_path_to_jar)\n",
      "def pos_tag(text,tagger,stop=False):\n",
      "    tokens=filter(lambda w:len(w)>1 or w =='$' ,nltk.tokenize.word_tokenize(text))\n",
      "    if(stop==True):\n",
      "        stop = nltk.corpus.stopwords.words('english')\n",
      "        tokens=[token for token in tokens if token not in stop]\n",
      "    if(len(tokens)>300):\n",
      "        tagged=lengthReduce(tokens,tagger)\n",
      "    else:\n",
      "        tagged=tagger.tag(tokens)\n",
      "    print 'done'\n",
      "    return {\n",
      "        'NN':[[word[0] for word in tagged if(word[1][0:2]=='NN' )]],\n",
      "        'JJ':[[word[0] for word in tagged if(word[1][0:2]=='JJ')]],\n",
      "        'VB':[[word[0] for word in tagged if(word[1][0:2]=='VB')]],\n",
      "        'other':[[word[0] for word in tagged if(\n",
      "                                                   word[1][0:2]!='NN' \n",
      "                                               and word[1][0:2]!='JJ' \n",
      "                                               and word[1][0:2]!='VB'\n",
      "                                               )]]\n",
      "        }\n",
      "    "
     ],
     "language": "python",
     "metadata": {},
     "outputs": [],
     "prompt_number": 439
    },
    {
     "cell_type": "code",
     "collapsed": false,
     "input": [
      "#take care of heap overflow issue when text is long\n",
      "def lengthReduce(tokens,tagger):\n",
      "    end=300\n",
      "    tagged=tagger.tag(tokens[0:end])\n",
      "    while end+300<len(tokens):\n",
      "        tagged+=tagger.tag(tokens[end:end+300])\n",
      "        end+=300\n",
      "    tagged+=tagger.tag(tokens[end:])\n",
      "    return tagged"
     ],
     "language": "python",
     "metadata": {},
     "outputs": [],
     "prompt_number": 438
    },
    {
     "cell_type": "code",
     "collapsed": false,
     "input": [
      "#initiate bag creation by creating the first bag of words on the first review\n",
      "bags=pd.DataFrame(pos_tag(reviews.review[0],st))"
     ],
     "language": "python",
     "metadata": {},
     "outputs": [],
     "prompt_number": 382
    },
    {
     "cell_type": "code",
     "collapsed": false,
     "input": [
      "for review in reviews.review[1258:]:\n",
      "    bags=bags.append(pos_tag(review,st),ignore_index=True)"
     ],
     "language": "python",
     "metadata": {},
     "outputs": [
      {
       "output_type": "stream",
       "stream": "stdout",
       "text": [
        "done\n",
        "done"
       ]
      },
      {
       "output_type": "stream",
       "stream": "stdout",
       "text": [
        "\n",
        "done"
       ]
      },
      {
       "output_type": "stream",
       "stream": "stdout",
       "text": [
        "\n",
        "done"
       ]
      },
      {
       "output_type": "stream",
       "stream": "stdout",
       "text": [
        "\n",
        "done"
       ]
      },
      {
       "output_type": "stream",
       "stream": "stdout",
       "text": [
        "\n",
        "done"
       ]
      },
      {
       "output_type": "stream",
       "stream": "stdout",
       "text": [
        "\n",
        "done"
       ]
      },
      {
       "output_type": "stream",
       "stream": "stdout",
       "text": [
        "\n",
        "done"
       ]
      },
      {
       "output_type": "stream",
       "stream": "stdout",
       "text": [
        "\n",
        "done"
       ]
      },
      {
       "output_type": "stream",
       "stream": "stdout",
       "text": [
        "\n",
        "done"
       ]
      },
      {
       "output_type": "stream",
       "stream": "stdout",
       "text": [
        "\n",
        "done"
       ]
      },
      {
       "output_type": "stream",
       "stream": "stdout",
       "text": [
        "\n",
        "done"
       ]
      },
      {
       "output_type": "stream",
       "stream": "stdout",
       "text": [
        "\n",
        "done"
       ]
      },
      {
       "output_type": "stream",
       "stream": "stdout",
       "text": [
        "\n",
        "done"
       ]
      },
      {
       "output_type": "stream",
       "stream": "stdout",
       "text": [
        "\n",
        "done"
       ]
      },
      {
       "output_type": "stream",
       "stream": "stdout",
       "text": [
        "\n",
        "done"
       ]
      },
      {
       "output_type": "stream",
       "stream": "stdout",
       "text": [
        "\n",
        "done"
       ]
      },
      {
       "output_type": "stream",
       "stream": "stdout",
       "text": [
        "\n",
        "done"
       ]
      },
      {
       "output_type": "stream",
       "stream": "stdout",
       "text": [
        "\n",
        "done"
       ]
      },
      {
       "output_type": "stream",
       "stream": "stdout",
       "text": [
        "\n",
        "done"
       ]
      },
      {
       "output_type": "stream",
       "stream": "stdout",
       "text": [
        "\n",
        "done"
       ]
      },
      {
       "output_type": "stream",
       "stream": "stdout",
       "text": [
        "\n",
        "done"
       ]
      },
      {
       "output_type": "stream",
       "stream": "stdout",
       "text": [
        "\n",
        "done"
       ]
      },
      {
       "output_type": "stream",
       "stream": "stdout",
       "text": [
        "\n",
        "done"
       ]
      },
      {
       "output_type": "stream",
       "stream": "stdout",
       "text": [
        "\n",
        "done"
       ]
      },
      {
       "output_type": "stream",
       "stream": "stdout",
       "text": [
        "\n",
        "done"
       ]
      },
      {
       "output_type": "stream",
       "stream": "stdout",
       "text": [
        "\n",
        "done"
       ]
      },
      {
       "output_type": "stream",
       "stream": "stdout",
       "text": [
        "\n",
        "done"
       ]
      },
      {
       "output_type": "stream",
       "stream": "stdout",
       "text": [
        "\n",
        "done"
       ]
      },
      {
       "output_type": "stream",
       "stream": "stdout",
       "text": [
        "\n",
        "done"
       ]
      },
      {
       "output_type": "stream",
       "stream": "stdout",
       "text": [
        "\n",
        "done"
       ]
      },
      {
       "output_type": "stream",
       "stream": "stdout",
       "text": [
        "\n",
        "done"
       ]
      },
      {
       "output_type": "stream",
       "stream": "stdout",
       "text": [
        "\n",
        "done"
       ]
      },
      {
       "output_type": "stream",
       "stream": "stdout",
       "text": [
        "\n",
        "done"
       ]
      },
      {
       "output_type": "stream",
       "stream": "stdout",
       "text": [
        "\n",
        "done"
       ]
      },
      {
       "output_type": "stream",
       "stream": "stdout",
       "text": [
        "\n",
        "done"
       ]
      },
      {
       "output_type": "stream",
       "stream": "stdout",
       "text": [
        "\n",
        "done"
       ]
      },
      {
       "output_type": "stream",
       "stream": "stdout",
       "text": [
        "\n",
        "done"
       ]
      },
      {
       "output_type": "stream",
       "stream": "stdout",
       "text": [
        "\n",
        "done"
       ]
      },
      {
       "output_type": "stream",
       "stream": "stdout",
       "text": [
        "\n",
        "done"
       ]
      },
      {
       "output_type": "stream",
       "stream": "stdout",
       "text": [
        "\n",
        "done"
       ]
      },
      {
       "output_type": "stream",
       "stream": "stdout",
       "text": [
        "\n",
        "done"
       ]
      },
      {
       "output_type": "stream",
       "stream": "stdout",
       "text": [
        "\n",
        "done"
       ]
      },
      {
       "output_type": "stream",
       "stream": "stdout",
       "text": [
        "\n",
        "done"
       ]
      },
      {
       "output_type": "stream",
       "stream": "stdout",
       "text": [
        "\n",
        "done"
       ]
      },
      {
       "output_type": "stream",
       "stream": "stdout",
       "text": [
        "\n",
        "done"
       ]
      },
      {
       "output_type": "stream",
       "stream": "stdout",
       "text": [
        "\n",
        "done"
       ]
      },
      {
       "output_type": "stream",
       "stream": "stdout",
       "text": [
        "\n",
        "done"
       ]
      },
      {
       "output_type": "stream",
       "stream": "stdout",
       "text": [
        "\n",
        "done"
       ]
      },
      {
       "output_type": "stream",
       "stream": "stdout",
       "text": [
        "\n",
        "done"
       ]
      },
      {
       "output_type": "stream",
       "stream": "stdout",
       "text": [
        "\n",
        "done"
       ]
      },
      {
       "output_type": "stream",
       "stream": "stdout",
       "text": [
        "\n",
        "done"
       ]
      },
      {
       "output_type": "stream",
       "stream": "stdout",
       "text": [
        "\n",
        "done"
       ]
      },
      {
       "output_type": "stream",
       "stream": "stdout",
       "text": [
        "\n",
        "done"
       ]
      },
      {
       "output_type": "stream",
       "stream": "stdout",
       "text": [
        "\n",
        "done"
       ]
      },
      {
       "output_type": "stream",
       "stream": "stdout",
       "text": [
        "\n",
        "done"
       ]
      },
      {
       "output_type": "stream",
       "stream": "stdout",
       "text": [
        "\n",
        "done"
       ]
      },
      {
       "output_type": "stream",
       "stream": "stdout",
       "text": [
        "\n",
        "done"
       ]
      },
      {
       "output_type": "stream",
       "stream": "stdout",
       "text": [
        "\n",
        "done"
       ]
      },
      {
       "output_type": "stream",
       "stream": "stdout",
       "text": [
        "\n",
        "done"
       ]
      },
      {
       "output_type": "stream",
       "stream": "stdout",
       "text": [
        "\n",
        "done"
       ]
      },
      {
       "output_type": "stream",
       "stream": "stdout",
       "text": [
        "\n",
        "done"
       ]
      },
      {
       "output_type": "stream",
       "stream": "stdout",
       "text": [
        "\n",
        "done"
       ]
      },
      {
       "output_type": "stream",
       "stream": "stdout",
       "text": [
        "\n",
        "done"
       ]
      },
      {
       "output_type": "stream",
       "stream": "stdout",
       "text": [
        "\n",
        "done"
       ]
      },
      {
       "output_type": "stream",
       "stream": "stdout",
       "text": [
        "\n",
        "done"
       ]
      },
      {
       "output_type": "stream",
       "stream": "stdout",
       "text": [
        "\n",
        "done"
       ]
      },
      {
       "output_type": "stream",
       "stream": "stdout",
       "text": [
        "\n",
        "done"
       ]
      },
      {
       "output_type": "stream",
       "stream": "stdout",
       "text": [
        "\n",
        "done"
       ]
      },
      {
       "output_type": "stream",
       "stream": "stdout",
       "text": [
        "\n",
        "done"
       ]
      },
      {
       "output_type": "stream",
       "stream": "stdout",
       "text": [
        "\n",
        "done"
       ]
      },
      {
       "output_type": "stream",
       "stream": "stdout",
       "text": [
        "\n",
        "done"
       ]
      },
      {
       "output_type": "stream",
       "stream": "stdout",
       "text": [
        "\n",
        "done"
       ]
      },
      {
       "output_type": "stream",
       "stream": "stdout",
       "text": [
        "\n",
        "done"
       ]
      },
      {
       "output_type": "stream",
       "stream": "stdout",
       "text": [
        "\n",
        "done"
       ]
      },
      {
       "output_type": "stream",
       "stream": "stdout",
       "text": [
        "\n",
        "done"
       ]
      },
      {
       "output_type": "stream",
       "stream": "stdout",
       "text": [
        "\n",
        "done"
       ]
      },
      {
       "output_type": "stream",
       "stream": "stdout",
       "text": [
        "\n",
        "done"
       ]
      },
      {
       "output_type": "stream",
       "stream": "stdout",
       "text": [
        "\n",
        "done"
       ]
      },
      {
       "output_type": "stream",
       "stream": "stdout",
       "text": [
        "\n",
        "done"
       ]
      },
      {
       "output_type": "stream",
       "stream": "stdout",
       "text": [
        "\n",
        "done"
       ]
      },
      {
       "output_type": "stream",
       "stream": "stdout",
       "text": [
        "\n",
        "done"
       ]
      },
      {
       "output_type": "stream",
       "stream": "stdout",
       "text": [
        "\n",
        "done"
       ]
      },
      {
       "output_type": "stream",
       "stream": "stdout",
       "text": [
        "\n",
        "done"
       ]
      },
      {
       "output_type": "stream",
       "stream": "stdout",
       "text": [
        "\n",
        "done"
       ]
      },
      {
       "output_type": "stream",
       "stream": "stdout",
       "text": [
        "\n",
        "done"
       ]
      },
      {
       "output_type": "stream",
       "stream": "stdout",
       "text": [
        "\n",
        "done"
       ]
      },
      {
       "output_type": "stream",
       "stream": "stdout",
       "text": [
        "\n",
        "done"
       ]
      },
      {
       "output_type": "stream",
       "stream": "stdout",
       "text": [
        "\n",
        "done"
       ]
      },
      {
       "output_type": "stream",
       "stream": "stdout",
       "text": [
        "\n",
        "done"
       ]
      },
      {
       "output_type": "stream",
       "stream": "stdout",
       "text": [
        "\n",
        "done"
       ]
      },
      {
       "output_type": "stream",
       "stream": "stdout",
       "text": [
        "\n",
        "done"
       ]
      },
      {
       "output_type": "stream",
       "stream": "stdout",
       "text": [
        "\n",
        "done"
       ]
      },
      {
       "output_type": "stream",
       "stream": "stdout",
       "text": [
        "\n",
        "done"
       ]
      },
      {
       "output_type": "stream",
       "stream": "stdout",
       "text": [
        "\n",
        "done"
       ]
      },
      {
       "output_type": "stream",
       "stream": "stdout",
       "text": [
        "\n",
        "done"
       ]
      },
      {
       "output_type": "stream",
       "stream": "stdout",
       "text": [
        "\n",
        "done"
       ]
      },
      {
       "output_type": "stream",
       "stream": "stdout",
       "text": [
        "\n",
        "done"
       ]
      },
      {
       "output_type": "stream",
       "stream": "stdout",
       "text": [
        "\n",
        "done"
       ]
      },
      {
       "output_type": "stream",
       "stream": "stdout",
       "text": [
        "\n",
        "done"
       ]
      },
      {
       "output_type": "stream",
       "stream": "stdout",
       "text": [
        "\n",
        "done"
       ]
      },
      {
       "output_type": "stream",
       "stream": "stdout",
       "text": [
        "\n",
        "done"
       ]
      },
      {
       "output_type": "stream",
       "stream": "stdout",
       "text": [
        "\n",
        "done"
       ]
      },
      {
       "output_type": "stream",
       "stream": "stdout",
       "text": [
        "\n",
        "done"
       ]
      },
      {
       "output_type": "stream",
       "stream": "stdout",
       "text": [
        "\n",
        "done"
       ]
      },
      {
       "output_type": "stream",
       "stream": "stdout",
       "text": [
        "\n",
        "done"
       ]
      },
      {
       "output_type": "stream",
       "stream": "stdout",
       "text": [
        "\n",
        "done"
       ]
      },
      {
       "output_type": "stream",
       "stream": "stdout",
       "text": [
        "\n",
        "done"
       ]
      },
      {
       "output_type": "stream",
       "stream": "stdout",
       "text": [
        "\n",
        "done"
       ]
      },
      {
       "output_type": "stream",
       "stream": "stdout",
       "text": [
        "\n",
        "done"
       ]
      },
      {
       "output_type": "stream",
       "stream": "stdout",
       "text": [
        "\n",
        "done"
       ]
      },
      {
       "output_type": "stream",
       "stream": "stdout",
       "text": [
        "\n",
        "done"
       ]
      },
      {
       "output_type": "stream",
       "stream": "stdout",
       "text": [
        "\n",
        "done"
       ]
      },
      {
       "output_type": "stream",
       "stream": "stdout",
       "text": [
        "\n",
        "done"
       ]
      },
      {
       "output_type": "stream",
       "stream": "stdout",
       "text": [
        "\n",
        "done"
       ]
      },
      {
       "output_type": "stream",
       "stream": "stdout",
       "text": [
        "\n",
        "done"
       ]
      },
      {
       "output_type": "stream",
       "stream": "stdout",
       "text": [
        "\n",
        "done"
       ]
      },
      {
       "output_type": "stream",
       "stream": "stdout",
       "text": [
        "\n",
        "done"
       ]
      },
      {
       "output_type": "stream",
       "stream": "stdout",
       "text": [
        "\n",
        "done"
       ]
      },
      {
       "output_type": "stream",
       "stream": "stdout",
       "text": [
        "\n",
        "done"
       ]
      },
      {
       "output_type": "stream",
       "stream": "stdout",
       "text": [
        "\n",
        "done"
       ]
      },
      {
       "output_type": "stream",
       "stream": "stdout",
       "text": [
        "\n",
        "done"
       ]
      },
      {
       "output_type": "stream",
       "stream": "stdout",
       "text": [
        "\n",
        "done"
       ]
      },
      {
       "output_type": "stream",
       "stream": "stdout",
       "text": [
        "\n",
        "done"
       ]
      },
      {
       "output_type": "stream",
       "stream": "stdout",
       "text": [
        "\n",
        "done"
       ]
      },
      {
       "output_type": "stream",
       "stream": "stdout",
       "text": [
        "\n",
        "done"
       ]
      },
      {
       "output_type": "stream",
       "stream": "stdout",
       "text": [
        "\n",
        "done"
       ]
      },
      {
       "output_type": "stream",
       "stream": "stdout",
       "text": [
        "\n",
        "done"
       ]
      },
      {
       "output_type": "stream",
       "stream": "stdout",
       "text": [
        "\n",
        "done"
       ]
      },
      {
       "output_type": "stream",
       "stream": "stdout",
       "text": [
        "\n",
        "done"
       ]
      },
      {
       "output_type": "stream",
       "stream": "stdout",
       "text": [
        "\n",
        "done"
       ]
      },
      {
       "output_type": "stream",
       "stream": "stdout",
       "text": [
        "\n",
        "done"
       ]
      },
      {
       "output_type": "stream",
       "stream": "stdout",
       "text": [
        "\n",
        "done"
       ]
      },
      {
       "output_type": "stream",
       "stream": "stdout",
       "text": [
        "\n",
        "done"
       ]
      },
      {
       "output_type": "stream",
       "stream": "stdout",
       "text": [
        "\n",
        "done"
       ]
      },
      {
       "output_type": "stream",
       "stream": "stdout",
       "text": [
        "\n",
        "done"
       ]
      },
      {
       "output_type": "stream",
       "stream": "stdout",
       "text": [
        "\n",
        "done"
       ]
      },
      {
       "output_type": "stream",
       "stream": "stdout",
       "text": [
        "\n",
        "done"
       ]
      },
      {
       "output_type": "stream",
       "stream": "stdout",
       "text": [
        "\n",
        "done"
       ]
      },
      {
       "output_type": "stream",
       "stream": "stdout",
       "text": [
        "\n",
        "done"
       ]
      },
      {
       "output_type": "stream",
       "stream": "stdout",
       "text": [
        "\n",
        "done"
       ]
      },
      {
       "output_type": "stream",
       "stream": "stdout",
       "text": [
        "\n",
        "done"
       ]
      },
      {
       "output_type": "stream",
       "stream": "stdout",
       "text": [
        "\n",
        "done"
       ]
      },
      {
       "output_type": "stream",
       "stream": "stdout",
       "text": [
        "\n",
        "done"
       ]
      },
      {
       "output_type": "stream",
       "stream": "stdout",
       "text": [
        "\n",
        "done"
       ]
      },
      {
       "output_type": "stream",
       "stream": "stdout",
       "text": [
        "\n",
        "done"
       ]
      },
      {
       "output_type": "stream",
       "stream": "stdout",
       "text": [
        "\n",
        "done"
       ]
      },
      {
       "output_type": "stream",
       "stream": "stdout",
       "text": [
        "\n",
        "done"
       ]
      },
      {
       "output_type": "stream",
       "stream": "stdout",
       "text": [
        "\n",
        "done"
       ]
      },
      {
       "output_type": "stream",
       "stream": "stdout",
       "text": [
        "\n",
        "done"
       ]
      },
      {
       "output_type": "stream",
       "stream": "stdout",
       "text": [
        "\n",
        "done"
       ]
      },
      {
       "output_type": "stream",
       "stream": "stdout",
       "text": [
        "\n",
        "done"
       ]
      },
      {
       "output_type": "stream",
       "stream": "stdout",
       "text": [
        "\n",
        "done"
       ]
      },
      {
       "output_type": "stream",
       "stream": "stdout",
       "text": [
        "\n",
        "done"
       ]
      },
      {
       "output_type": "stream",
       "stream": "stdout",
       "text": [
        "\n",
        "done"
       ]
      },
      {
       "output_type": "stream",
       "stream": "stdout",
       "text": [
        "\n",
        "done"
       ]
      },
      {
       "output_type": "stream",
       "stream": "stdout",
       "text": [
        "\n",
        "done"
       ]
      },
      {
       "output_type": "stream",
       "stream": "stdout",
       "text": [
        "\n",
        "done"
       ]
      },
      {
       "output_type": "stream",
       "stream": "stdout",
       "text": [
        "\n",
        "done"
       ]
      },
      {
       "output_type": "stream",
       "stream": "stdout",
       "text": [
        "\n",
        "done"
       ]
      },
      {
       "output_type": "stream",
       "stream": "stdout",
       "text": [
        "\n",
        "done"
       ]
      },
      {
       "output_type": "stream",
       "stream": "stdout",
       "text": [
        "\n",
        "done"
       ]
      },
      {
       "output_type": "stream",
       "stream": "stdout",
       "text": [
        "\n",
        "done"
       ]
      },
      {
       "output_type": "stream",
       "stream": "stdout",
       "text": [
        "\n",
        "done"
       ]
      },
      {
       "output_type": "stream",
       "stream": "stdout",
       "text": [
        "\n",
        "done"
       ]
      },
      {
       "output_type": "stream",
       "stream": "stdout",
       "text": [
        "\n",
        "done"
       ]
      },
      {
       "output_type": "stream",
       "stream": "stdout",
       "text": [
        "\n",
        "done"
       ]
      },
      {
       "output_type": "stream",
       "stream": "stdout",
       "text": [
        "\n",
        "done"
       ]
      },
      {
       "output_type": "stream",
       "stream": "stdout",
       "text": [
        "\n",
        "done"
       ]
      },
      {
       "output_type": "stream",
       "stream": "stdout",
       "text": [
        "\n",
        "done"
       ]
      },
      {
       "output_type": "stream",
       "stream": "stdout",
       "text": [
        "\n",
        "done"
       ]
      },
      {
       "output_type": "stream",
       "stream": "stdout",
       "text": [
        "\n",
        "done"
       ]
      },
      {
       "output_type": "stream",
       "stream": "stdout",
       "text": [
        "\n",
        "done"
       ]
      },
      {
       "output_type": "stream",
       "stream": "stdout",
       "text": [
        "\n",
        "done"
       ]
      },
      {
       "output_type": "stream",
       "stream": "stdout",
       "text": [
        "\n",
        "done"
       ]
      },
      {
       "output_type": "stream",
       "stream": "stdout",
       "text": [
        "\n",
        "done"
       ]
      },
      {
       "output_type": "stream",
       "stream": "stdout",
       "text": [
        "\n",
        "done"
       ]
      },
      {
       "output_type": "stream",
       "stream": "stdout",
       "text": [
        "\n",
        "done"
       ]
      },
      {
       "output_type": "stream",
       "stream": "stdout",
       "text": [
        "\n",
        "done"
       ]
      },
      {
       "output_type": "stream",
       "stream": "stdout",
       "text": [
        "\n",
        "done"
       ]
      },
      {
       "output_type": "stream",
       "stream": "stdout",
       "text": [
        "\n",
        "done"
       ]
      },
      {
       "output_type": "stream",
       "stream": "stdout",
       "text": [
        "\n",
        "done"
       ]
      },
      {
       "output_type": "stream",
       "stream": "stdout",
       "text": [
        "\n",
        "done"
       ]
      },
      {
       "output_type": "stream",
       "stream": "stdout",
       "text": [
        "\n",
        "done"
       ]
      },
      {
       "output_type": "stream",
       "stream": "stdout",
       "text": [
        "\n",
        "done"
       ]
      },
      {
       "output_type": "stream",
       "stream": "stdout",
       "text": [
        "\n",
        "done"
       ]
      },
      {
       "output_type": "stream",
       "stream": "stdout",
       "text": [
        "\n",
        "done"
       ]
      },
      {
       "output_type": "stream",
       "stream": "stdout",
       "text": [
        "\n",
        "done"
       ]
      },
      {
       "output_type": "stream",
       "stream": "stdout",
       "text": [
        "\n",
        "done"
       ]
      },
      {
       "output_type": "stream",
       "stream": "stdout",
       "text": [
        "\n",
        "done"
       ]
      },
      {
       "output_type": "stream",
       "stream": "stdout",
       "text": [
        "\n",
        "done"
       ]
      },
      {
       "output_type": "stream",
       "stream": "stdout",
       "text": [
        "\n",
        "done"
       ]
      },
      {
       "output_type": "stream",
       "stream": "stdout",
       "text": [
        "\n",
        "done"
       ]
      },
      {
       "output_type": "stream",
       "stream": "stdout",
       "text": [
        "\n",
        "done"
       ]
      },
      {
       "output_type": "stream",
       "stream": "stdout",
       "text": [
        "\n",
        "done"
       ]
      },
      {
       "output_type": "stream",
       "stream": "stdout",
       "text": [
        "\n",
        "done"
       ]
      },
      {
       "output_type": "stream",
       "stream": "stdout",
       "text": [
        "\n",
        "done"
       ]
      },
      {
       "output_type": "stream",
       "stream": "stdout",
       "text": [
        "\n",
        "done"
       ]
      },
      {
       "output_type": "stream",
       "stream": "stdout",
       "text": [
        "\n",
        "done"
       ]
      },
      {
       "output_type": "stream",
       "stream": "stdout",
       "text": [
        "\n",
        "done"
       ]
      },
      {
       "output_type": "stream",
       "stream": "stdout",
       "text": [
        "\n"
       ]
      }
     ],
     "prompt_number": 442
    },
    {
     "cell_type": "code",
     "collapsed": false,
     "input": [
      "bags[-2:]"
     ],
     "language": "python",
     "metadata": {},
     "outputs": [
      {
       "html": [
        "<div style=\"max-width:1500px;overflow:auto;\">\n",
        "<table border=\"1\" class=\"dataframe\">\n",
        "  <thead>\n",
        "    <tr style=\"text-align: right;\">\n",
        "      <th></th>\n",
        "      <th>JJ</th>\n",
        "      <th>NN</th>\n",
        "      <th>VB</th>\n",
        "      <th>other</th>\n",
        "    </tr>\n",
        "  </thead>\n",
        "  <tbody>\n",
        "    <tr>\n",
        "      <th>1456</th>\n",
        "      <td>[good, Asian, good, better]</td>\n",
        "      <td>[concept, fusion, food, way, place, think, Dup...</td>\n",
        "      <td>[is, is, is, is]</td>\n",
        "      <td>[It, It, not, really, all, the, for, this, eve...</td>\n",
        "    </tr>\n",
        "    <tr>\n",
        "      <th>1457</th>\n",
        "      <td>[best, other, cool, other, great, Tasmanian, w...</td>\n",
        "      <td>[Raku, sushi, dishes, time, DC, business, coll...</td>\n",
        "      <td>[has, 've, had, have, go, try, eat, go, is, 'v...</td>\n",
        "      <td>[some, of, the, ever, and, they, to, with, it,...</td>\n",
        "    </tr>\n",
        "  </tbody>\n",
        "</table>\n",
        "</div>"
       ],
       "metadata": {},
       "output_type": "pyout",
       "prompt_number": 467,
       "text": [
        "                                                     JJ  \\\n",
        "1456                        [good, Asian, good, better]   \n",
        "1457  [best, other, cool, other, great, Tasmanian, w...   \n",
        "\n",
        "                                                     NN  \\\n",
        "1456  [concept, fusion, food, way, place, think, Dup...   \n",
        "1457  [Raku, sushi, dishes, time, DC, business, coll...   \n",
        "\n",
        "                                                     VB  \\\n",
        "1456                                   [is, is, is, is]   \n",
        "1457  [has, 've, had, have, go, try, eat, go, is, 'v...   \n",
        "\n",
        "                                                  other  \n",
        "1456  [It, It, not, really, all, the, for, this, eve...  \n",
        "1457  [some, of, the, ever, and, they, to, with, it,...  "
       ]
      }
     ],
     "prompt_number": 467
    },
    {
     "cell_type": "code",
     "collapsed": false,
     "input": [
      "#strip double layer lists\n",
      "for title in bags.columns:\n",
      "    for i in range(len(bags)):\n",
      "        #if(type(bags[title][i])==list):\n",
      "           #bags[title][i]=bags[title][i][0]\n",
      "        bags[title][i]=filter(lambda w:len(w)>1 or w =='$' ,bags[title][i])"
     ],
     "language": "python",
     "metadata": {},
     "outputs": [],
     "prompt_number": 468
    },
    {
     "cell_type": "code",
     "collapsed": false,
     "input": [
      "bags.to_csv('bagOfWords0_10.txt',sep='\\t',encoding='utf-8')"
     ],
     "language": "python",
     "metadata": {},
     "outputs": [],
     "prompt_number": 469
    },
    {
     "cell_type": "code",
     "collapsed": false,
     "input": [
      "reviews.id.value_counts()"
     ],
     "language": "python",
     "metadata": {},
     "outputs": [
      {
       "metadata": {},
       "output_type": "pyout",
       "prompt_number": 509,
       "text": [
        "raku-bethesda                            325\n",
        "satsuma-bethesda                         219\n",
        "hanaro-restaurant-and-lounge-bethesda    199\n",
        "maki-maki-bethesda                       196\n",
        "matuba-bethesda-3                        157\n",
        "yuzu-japanese-dining-bethesda            117\n",
        "yirasai-sushi-and-cafe-bethesda           95\n",
        "hinata-sushi-carry-out-bethesda           87\n",
        "aji-nippon-restaurant-bethesda            43\n",
        "tako-grill-bethesda-2                     20\n",
        "Name: id, dtype: int64"
       ]
      }
     ],
     "prompt_number": 509
    },
    {
     "cell_type": "code",
     "collapsed": false,
     "input": [
      "bags=pd.concat([reviews, bags], axis=1)"
     ],
     "language": "python",
     "metadata": {},
     "outputs": [],
     "prompt_number": 505
    },
    {
     "cell_type": "code",
     "collapsed": false,
     "input": [
      "rating1=bags[bags.review_rating=='1.0']"
     ],
     "language": "python",
     "metadata": {},
     "outputs": [],
     "prompt_number": 510
    },
    {
     "cell_type": "code",
     "collapsed": false,
     "input": [
      "NNbag=[]\n",
      "for row in bags.NN:\n",
      "    NNbag+=row"
     ],
     "language": "python",
     "metadata": {},
     "outputs": [],
     "prompt_number": 540
    },
    {
     "cell_type": "code",
     "collapsed": false,
     "input": [
      "#count terms\n",
      "from collections import defaultdict\n",
      "word_dict = defaultdict(lambda: 0)\n",
      "for word in NNbag:\n",
      "    w=word.lower()\n",
      "    word_dict[w] += 1"
     ],
     "language": "python",
     "metadata": {},
     "outputs": [],
     "prompt_number": 586
    },
    {
     "cell_type": "code",
     "collapsed": false,
     "input": [
      "#ordered term counts\n",
      "from collections import OrderedDict\n",
      "NN_descending = OrderedDict(sorted(word_dict.items(), key=lambda kv: kv[1],reverse=True))"
     ],
     "language": "python",
     "metadata": {},
     "outputs": [],
     "prompt_number": 587
    },
    {
     "cell_type": "code",
     "collapsed": false,
     "input": [
      "freqNN=[(NN[0],NN[1]) for NN in NN_descending.items() if NN[1]>1 ]"
     ],
     "language": "python",
     "metadata": {},
     "outputs": [],
     "prompt_number": 594
    },
    {
     "cell_type": "code",
     "collapsed": false,
     "input": [
      "filter(lambda x:x[1]<5,freqNN)"
     ],
     "language": "python",
     "metadata": {},
     "outputs": [
      {
       "metadata": {},
       "output_type": "pyout",
       "prompt_number": 600,
       "text": [
        "[(u'dynamic', 4),\n",
        " (u'yellow', 4),\n",
        " (u'convenience', 4),\n",
        " (u'straw', 4),\n",
        " (u'setup', 4),\n",
        " (u'elbow', 4),\n",
        " (u'foodie', 4),\n",
        " (u'daruma', 4),\n",
        " (u'workout', 4),\n",
        " (u'roast', 4),\n",
        " (u'oshinko', 4),\n",
        " (u'grease', 4),\n",
        " (u'bouillabaisse', 4),\n",
        " (u'soda', 4),\n",
        " (u'enjoy', 4),\n",
        " (u'gyu', 4),\n",
        " (u'boston', 4),\n",
        " (u'manner', 4),\n",
        " (u'dog', 4),\n",
        " (u'colors', 4),\n",
        " (u'upstairs', 4),\n",
        " (u'mixture', 4),\n",
        " (u'watermelon', 4),\n",
        " (u'men', 4),\n",
        " (u'cod', 4),\n",
        " (u'tone', 4),\n",
        " (u'conference', 4),\n",
        " (u'tiny', 4),\n",
        " (u'chill', 4),\n",
        " (u'im', 4),\n",
        " (u'fuss', 4),\n",
        " (u'appetite', 4),\n",
        " (u'east', 4),\n",
        " (u'background', 4),\n",
        " (u'seasonings', 4),\n",
        " (u'steps', 4),\n",
        " (u'dear', 4),\n",
        " (u'period', 4),\n",
        " (u'eater', 4),\n",
        " (u'tho', 4),\n",
        " (u'hassle', 4),\n",
        " (u'shio', 4),\n",
        " (u'spiciness', 4),\n",
        " (u'role', 4),\n",
        " (u'update', 4),\n",
        " (u'diet', 4),\n",
        " (u\"'d\", 4),\n",
        " (u'packets', 4),\n",
        " (u'neighbors', 4),\n",
        " (u'concept', 4),\n",
        " (u'dance', 4),\n",
        " (u'pros', 4),\n",
        " (u'veg', 4),\n",
        " (u'decade', 4),\n",
        " (u'sports', 4),\n",
        " (u'sharing', 4),\n",
        " (u'chocolate', 4),\n",
        " (u'7pm', 4),\n",
        " (u'pink', 4),\n",
        " (u'sf', 4),\n",
        " (u'square', 4),\n",
        " (u'rude', 4),\n",
        " (u'partner', 4),\n",
        " (u'training', 4),\n",
        " (u'draft', 4),\n",
        " (u'season', 4),\n",
        " (u'fruits', 4),\n",
        " (u'poisoning', 4),\n",
        " (u'and', 4),\n",
        " (u'alot', 4),\n",
        " (u'mussel', 4),\n",
        " (u'track', 4),\n",
        " (u'sodas', 4),\n",
        " (u'college', 4),\n",
        " (u'anyways', 4),\n",
        " (u'ways', 4),\n",
        " (u'mandarin', 4),\n",
        " (u'cocktails', 4),\n",
        " (u'jo', 4),\n",
        " (u'photos', 4),\n",
        " (u'candies', 4),\n",
        " (u'couples', 4),\n",
        " (u'status', 4),\n",
        " (u'driver', 4),\n",
        " (u'tradition', 4),\n",
        " (u'sampler', 4),\n",
        " (u'furniture', 4),\n",
        " (u'kyoto', 4),\n",
        " (u'package', 4),\n",
        " (u'neighbor', 4),\n",
        " (u'sale', 4),\n",
        " (u'tobiko', 4),\n",
        " (u'teryaki', 4),\n",
        " (u'co-worker', 4),\n",
        " (u'fill', 4),\n",
        " (u'event', 4),\n",
        " (u'aji-nippon', 4),\n",
        " (u'ticket', 4),\n",
        " (u'sushis', 4),\n",
        " (u'multitude', 4),\n",
        " (u'mmm', 4),\n",
        " (u'co-workers', 4),\n",
        " (u'tag', 4),\n",
        " (u'markets', 4),\n",
        " (u'def', 4),\n",
        " (u'needs', 4),\n",
        " (u'comfort', 4),\n",
        " (u'advice', 4),\n",
        " (u'register', 4),\n",
        " (u'jalape\\xf1o', 4),\n",
        " (u'turnover', 4),\n",
        " (u'sundays', 4),\n",
        " (u'evenings', 4),\n",
        " (u'houses', 4),\n",
        " (u'beginning', 4),\n",
        " (u'ms.', 4),\n",
        " (u'temperature', 4),\n",
        " (u'arlington', 4),\n",
        " (u'grace', 4),\n",
        " (u'pc', 4),\n",
        " (u'lil', 4),\n",
        " (u'giant', 4),\n",
        " (u'combinations', 4),\n",
        " (u'locals', 4),\n",
        " (u'ps', 4),\n",
        " (u'secret', 4),\n",
        " (u'decoration', 4),\n",
        " (u'chase', 4),\n",
        " (u'grand', 4),\n",
        " (u'strips', 4),\n",
        " (u'd.c.', 4),\n",
        " (u'gems', 4),\n",
        " (u'march', 4),\n",
        " (u'google', 4),\n",
        " (u'sight', 4),\n",
        " (u'cutlet', 4),\n",
        " (u'sushi..', 4),\n",
        " (u'ppl', 4),\n",
        " (u'homemade', 4),\n",
        " (u'adults', 4),\n",
        " (u'cafe', 4),\n",
        " (u'nigri', 4),\n",
        " (u'-the', 4),\n",
        " (u'mayonnaise', 4),\n",
        " (u'b/c', 4),\n",
        " (u'manhattan', 4),\n",
        " (u'fishes', 4),\n",
        " (u'clue', 4),\n",
        " (u'fresh', 4),\n",
        " (u'ingredient', 4),\n",
        " (u'goodies', 4),\n",
        " (u'noise', 4),\n",
        " (u'kudos', 4),\n",
        " (u'body', 4),\n",
        " (u'got', 4),\n",
        " (u'let', 4),\n",
        " (u'use', 4),\n",
        " (u'crap', 4),\n",
        " (u'doubt', 4),\n",
        " (u'asahi', 4),\n",
        " (u'ramens', 4),\n",
        " (u'taco', 4),\n",
        " (u'tomato', 4),\n",
        " (u'bap', 4),\n",
        " (u'category', 4),\n",
        " (u'waters', 4),\n",
        " (u'apps', 4),\n",
        " (u'ponzu', 4),\n",
        " (u'really', 4),\n",
        " (u'shelf', 4),\n",
        " (u'dynamite', 4),\n",
        " (u'serrano', 4),\n",
        " (u'class', 4),\n",
        " (u'ippudo', 4),\n",
        " (u'pickup', 4),\n",
        " (u'take-out', 4),\n",
        " (u'belts', 4),\n",
        " (u'ebi', 4),\n",
        " (u'state', 4),\n",
        " (u'grain', 4),\n",
        " (u'labor', 4),\n",
        " (u'portabello', 4),\n",
        " (u'vanilla', 4),\n",
        " (u'appearance', 4),\n",
        " (u'cvs', 4),\n",
        " (u'layer', 4),\n",
        " (u'site', 4),\n",
        " (u'agedashi', 4),\n",
        " (u'ave', 4),\n",
        " (u'raku-an', 4),\n",
        " (u'sizes', 4),\n",
        " (u'promise', 4),\n",
        " (u'receipt', 4),\n",
        " (u'bus', 4),\n",
        " (u'display', 4),\n",
        " (u'stay', 4),\n",
        " (u'bike', 3),\n",
        " (u'penny', 3),\n",
        " (u'clientele', 3),\n",
        " (u'venue', 3),\n",
        " (u'blackfinn', 3),\n",
        " (u'ribeye', 3),\n",
        " (u'path', 3),\n",
        " (u'soul', 3),\n",
        " (u'smoke', 3),\n",
        " (u'theres', 3),\n",
        " (u'oyakodon', 3),\n",
        " (u'excellent', 3),\n",
        " (u'hold', 3),\n",
        " (u'must', 3),\n",
        " (u'sweeter', 3),\n",
        " (u'answer', 3),\n",
        " (u'bonsai', 3),\n",
        " (u'fit', 3),\n",
        " (u'drawback', 3),\n",
        " (u'expats', 3),\n",
        " (u'silver', 3),\n",
        " (u'whim', 3),\n",
        " (u'aisle', 3),\n",
        " (u'heck', 3),\n",
        " (u'too', 3),\n",
        " (u'gym', 3),\n",
        " (u'hibachi', 3),\n",
        " (u'design', 3),\n",
        " (u'fashion', 3),\n",
        " (u'modern', 3),\n",
        " (u'mint', 3),\n",
        " (u'dozen', 3),\n",
        " (u'strength', 3),\n",
        " (u'doors', 3),\n",
        " (u'cilantro-cucumber', 3),\n",
        " (u'inconsistency', 3),\n",
        " (u'metal', 3),\n",
        " (u'earth', 3),\n",
        " (u'sugar', 3),\n",
        " (u'theme', 3),\n",
        " (u'whitefish', 3),\n",
        " (u'ears', 3),\n",
        " (u'liquor', 3),\n",
        " (u'result', 3),\n",
        " (u'handful', 3),\n",
        " (u'country', 3),\n",
        " (u'ill', 3),\n",
        " (u'character', 3),\n",
        " (u'shiitake', 3),\n",
        " (u'dont', 3),\n",
        " (u'interest', 3),\n",
        " (u'chili', 3),\n",
        " (u'saltiness', 3),\n",
        " (u'portobello', 3),\n",
        " (u'impression', 3),\n",
        " (u'yea', 3),\n",
        " (u'kinks', 3),\n",
        " (u'thumbs', 3),\n",
        " (u'dreams', 3),\n",
        " (u'hunt', 3),\n",
        " (u'ear', 3),\n",
        " (u'comments', 3),\n",
        " (u'christmas', 3),\n",
        " (u'amazingness', 3),\n",
        " (u'post', 3),\n",
        " (u'down', 3),\n",
        " (u'shoots', 3),\n",
        " (u'support', 3),\n",
        " (u'flying', 3),\n",
        " (u'was', 3),\n",
        " (u'form', 3),\n",
        " (u'offer', 3),\n",
        " (u'garnish', 3),\n",
        " (u'mesclun', 3),\n",
        " (u'redskin', 3),\n",
        " (u'test', 3),\n",
        " (u'phoenix', 3),\n",
        " (u'hope', 3),\n",
        " (u'melon', 3),\n",
        " (u'vegan', 3),\n",
        " (u'staples', 3),\n",
        " (u'sidewalk', 3),\n",
        " (u'sigh', 3),\n",
        " (u'maine', 3),\n",
        " (u'kama', 3),\n",
        " (u'mussels', 3),\n",
        " (u'address', 3),\n",
        " (u'suggestion', 3),\n",
        " (u'mackeral', 3),\n",
        " (u'chairs', 3),\n",
        " (u'memory', 3),\n",
        " (u'tekka', 3),\n",
        " (u'car', 3),\n",
        " (u'connoisseur', 3),\n",
        " (u'following', 3),\n",
        " (u'tune', 3),\n",
        " (u\"'doraku\", 3),\n",
        " (u'tastebuds', 3),\n",
        " (u'freezer', 3),\n",
        " (u'marbling', 3),\n",
        " (u'gyu-tan', 3),\n",
        " (u'challenge', 3),\n",
        " (u'cold', 3),\n",
        " (u'conversations', 3),\n",
        " (u'killer', 3),\n",
        " (u'wont', 3),\n",
        " (u'drop', 3),\n",
        " (u'container', 3),\n",
        " (u'landlord', 3),\n",
        " (u'matsuba', 3),\n",
        " (u'cars', 3),\n",
        " (u'vegetarians', 3),\n",
        " (u'wi-fi', 3),\n",
        " (u'chevy', 3),\n",
        " (u'pisco', 3),\n",
        " (u'long', 3),\n",
        " (u'butt', 3),\n",
        " (u'shitake', 3),\n",
        " (u'crack', 3),\n",
        " (u'rens', 3),\n",
        " (u'any', 3),\n",
        " (u'offering', 3),\n",
        " (u'potential', 3),\n",
        " (u'urge', 3),\n",
        " (u'pricy', 3),\n",
        " (u'collar', 3),\n",
        " (u'walking', 3),\n",
        " (u'ground', 3),\n",
        " (u'treasure', 3),\n",
        " (u'proportion', 3),\n",
        " (u'concern', 3),\n",
        " (u'arrival', 3),\n",
        " (u'cities', 3),\n",
        " (u'dates', 3),\n",
        " (u'butterfly', 3),\n",
        " (u'duty', 3),\n",
        " (u'madness', 3),\n",
        " (u'color', 3),\n",
        " (u'cokes', 3),\n",
        " (u'boat', 3),\n",
        " (u'sticks', 3),\n",
        " (u'olives', 3),\n",
        " (u'sit', 3),\n",
        " (u'bathrooms', 3),\n",
        " (u'chopstick', 3),\n",
        " (u'karaage', 3),\n",
        " (u'everyday', 3),\n",
        " (u'gentlemen', 3),\n",
        " (u'relief', 3),\n",
        " (u'cucumbers', 3),\n",
        " (u'waiters/waitresses', 3),\n",
        " (u'extras', 3),\n",
        " (u'establishments', 3),\n",
        " (u'nappa', 3),\n",
        " (u'either', 3),\n",
        " (u'grub', 3),\n",
        " (u'pacific', 3),\n",
        " (u'pickles', 3),\n",
        " (u'tomorrow', 3),\n",
        " (u'great', 3),\n",
        " (u'luck', 3),\n",
        " (u'communication', 3),\n",
        " (u'buds', 3),\n",
        " (u'oden', 3),\n",
        " (u'energy', 3),\n",
        " (u'prawn', 3),\n",
        " (u'strawberry', 3),\n",
        " (u'johnny', 3),\n",
        " (u'hijiki', 3),\n",
        " (u'drivers', 3),\n",
        " (u'you', 3),\n",
        " (u'peak', 3),\n",
        " (u'fab', 3),\n",
        " (u'pass', 3),\n",
        " (u'teppanyaki', 3),\n",
        " (u'mound', 3),\n",
        " (u'pics', 3),\n",
        " (u'destination', 3),\n",
        " (u'scallions', 3),\n",
        " (u'excuse', 3),\n",
        " (u'minimum', 3),\n",
        " (u'salty', 3),\n",
        " (u'american', 3),\n",
        " (u'sandwich', 3),\n",
        " (u'frills', 3),\n",
        " (u'tentacles', 3),\n",
        " (u'playing', 3),\n",
        " (u'signs', 3),\n",
        " (u'broths', 3),\n",
        " (u'fool', 3),\n",
        " (u'foot', 3),\n",
        " (u'mystery', 3),\n",
        " (u'hard', 3),\n",
        " (u'hill', 3),\n",
        " (u'print', 3),\n",
        " (u'ass', 3),\n",
        " (u'base', 3),\n",
        " (u'ichiban', 3),\n",
        " (u'story', 3),\n",
        " (u'master', 3),\n",
        " (u'mmmm', 3),\n",
        " (u'bank', 3),\n",
        " (u'tummy', 3),\n",
        " (u'mountain', 3),\n",
        " (u'majority', 3),\n",
        " (u'oyster', 3),\n",
        " (u'yammy', 3),\n",
        " (u'mobile', 3),\n",
        " (u'popularity', 3),\n",
        " (u'clean', 3),\n",
        " (u'sangria', 3),\n",
        " (u'factor', 3),\n",
        " (u'caramel', 3),\n",
        " (u'river', 3),\n",
        " (u'expert', 3),\n",
        " (u'creme', 3),\n",
        " (u'korea', 3),\n",
        " (u'do', 3),\n",
        " (u'manners', 3),\n",
        " (u'yakatori', 3),\n",
        " (u'damo', 3),\n",
        " (u'napa', 3),\n",
        " (u'panko', 3),\n",
        " (u'grills', 3),\n",
        " (u'chatter', 3),\n",
        " (u'avacado', 3),\n",
        " (u'temari', 3),\n",
        " (u'problems', 3),\n",
        " (u'handroll', 3),\n",
        " (u'fridge', 3),\n",
        " (u'fuji', 3),\n",
        " (u'edge', 3),\n",
        " (u'..i', 3),\n",
        " (u'handrolls', 3),\n",
        " (u'cuisines', 3),\n",
        " (u'quarters', 3),\n",
        " (u'vodka', 3),\n",
        " (u'format', 3),\n",
        " (u'dengaku', 3),\n",
        " (u'decision', 3),\n",
        " (u'gratuity', 3),\n",
        " (u'good-', 3),\n",
        " (u'custom', 3),\n",
        " (u'blow', 3),\n",
        " (u'jumbo', 3),\n",
        " (u'amounts', 3),\n",
        " (u'hint', 3),\n",
        " (u'elements', 3),\n",
        " (u'wonton', 3),\n",
        " (u'lane', 3),\n",
        " (u'land', 3),\n",
        " (u'gf', 3),\n",
        " (u'does', 3),\n",
        " (u'garden', 3),\n",
        " (u'facebook', 3),\n",
        " (u'notes', 3),\n",
        " (u'verdict', 3),\n",
        " (u'donburi', 3),\n",
        " (u'shrimps', 3),\n",
        " (u'sausage', 3),\n",
        " (u'schedule', 3),\n",
        " (u'napkins', 3),\n",
        " (u'degree', 3),\n",
        " (u'vinegar', 3),\n",
        " (u'morsels', 3),\n",
        " (u'thats', 3),\n",
        " (u'ive', 3),\n",
        " (u'next', 3),\n",
        " (u'kim', 3),\n",
        " (u'closing', 3),\n",
        " (u'control', 3),\n",
        " (u'wedge', 3),\n",
        " (u'tan', 3),\n",
        " (u'vibe', 3),\n",
        " (u'surimai', 3),\n",
        " (u'classy', 3),\n",
        " (u'looks', 3),\n",
        " (u'perfect', 3),\n",
        " (u'holiday', 3),\n",
        " (u'service/staff', 3),\n",
        " (u'flair', 3),\n",
        " (u'ratings', 3),\n",
        " (u'jaleo', 3),\n",
        " (u'bim', 3),\n",
        " (u'matt', 3),\n",
        " (u'anyhow', 3),\n",
        " (u'peeve', 3),\n",
        " (u'florida', 3),\n",
        " (u'georgetown', 3),\n",
        " (u'delux', 3),\n",
        " (u'bed', 3),\n",
        " (u'terriyaki', 3),\n",
        " (u'gesture', 3),\n",
        " (u'=p', 3),\n",
        " (u'5pm', 3),\n",
        " (u'knowledge', 3),\n",
        " (u'timing', 3),\n",
        " (u'btw', 3),\n",
        " (u'powder', 3),\n",
        " (u'omg', 3),\n",
        " (u'icecream', 3),\n",
        " (u'speed', 3),\n",
        " (u'ability', 3),\n",
        " (u'joy', 3),\n",
        " (u'joe', 3),\n",
        " (u'always', 3),\n",
        " (u'passing', 3),\n",
        " (u'natalie', 3),\n",
        " (u'yay', 3),\n",
        " (u'creations', 3),\n",
        " (u'waste', 3),\n",
        " (u'disdain', 3),\n",
        " (u'hubs', 3),\n",
        " (u'va', 3),\n",
        " (u'surface', 3),\n",
        " (u'effect', 3),\n",
        " (u'skill', 3),\n",
        " (u'bell', 3),\n",
        " (u'bench', 3),\n",
        " (u'reasons', 3),\n",
        " (u'string', 3),\n",
        " (u'loss', 3),\n",
        " (u'success', 3),\n",
        " (u'parasite', 3),\n",
        " (u'replacement', 3),\n",
        " (u'esp', 3),\n",
        " (u'pear', 3),\n",
        " (u'shavings', 3),\n",
        " (u'swimming', 3),\n",
        " (u'matcha', 3),\n",
        " (u'trek', 3),\n",
        " (u'count', 3),\n",
        " (u'glory', 3),\n",
        " (u'pig', 3),\n",
        " (u'pit', 3),\n",
        " (u'boot', 3),\n",
        " (u'detail', 3),\n",
        " (u'child', 2),\n",
        " (u'inari', 2),\n",
        " (u'hate', 2),\n",
        " (u'saw', 2),\n",
        " (u'pride', 2),\n",
        " (u'allergy', 2),\n",
        " (u'risk', 2),\n",
        " (u'skills', 2),\n",
        " (u'ups', 2),\n",
        " (u'panda', 2),\n",
        " (u'fingers', 2),\n",
        " (u'asia', 2),\n",
        " (u'tilapia', 2),\n",
        " (u'kicker', 2),\n",
        " (u'dry', 2),\n",
        " (u'reports', 2),\n",
        " (u'umami', 2),\n",
        " (u'criticism', 2),\n",
        " (u'prints', 2),\n",
        " (u'patience', 2),\n",
        " (u'slivers', 2),\n",
        " (u'.well', 2),\n",
        " (u'kikkoman', 2),\n",
        " (u'speaking', 2),\n",
        " (u'pouch', 2),\n",
        " (u'yup', 2),\n",
        " (u'fresher', 2),\n",
        " (u'dividers', 2),\n",
        " (u'yuraku', 2),\n",
        " (u'feature', 2),\n",
        " (u'amazing', 2),\n",
        " (u'loyalty', 2),\n",
        " (u'salsa', 2),\n",
        " (u'ventilation', 2),\n",
        " (u'move', 2),\n",
        " (u'suggest', 2),\n",
        " (u'oysters', 2),\n",
        " (u'operations', 2),\n",
        " (u'feedback', 2),\n",
        " (u'over', 2),\n",
        " (u'better', 2),\n",
        " (u'fin', 2),\n",
        " (u'split', 2),\n",
        " (u'coffee', 2),\n",
        " (u'rocks', 2),\n",
        " (u'mean', 2),\n",
        " (u'.and', 2),\n",
        " (u'literature', 2),\n",
        " (u'content', 2),\n",
        " (u'hanging', 2),\n",
        " (u'.they', 2),\n",
        " (u'barrier', 2),\n",
        " (u'shelves', 2),\n",
        " (u'clothes', 2),\n",
        " (u'malbec', 2),\n",
        " (u'shoppes', 2),\n",
        " (u'staying', 2),\n",
        " (u'floors', 2),\n",
        " (u'sakis', 2),\n",
        " (u'plastic', 2),\n",
        " (u'cornmeal', 2),\n",
        " (u'carry', 2),\n",
        " (u'heights', 2),\n",
        " (u'however', 2),\n",
        " (u'john', 2),\n",
        " (u'ceiling', 2),\n",
        " (u'wisdom', 2),\n",
        " (u'honolulu', 2),\n",
        " (u'liter', 2),\n",
        " (u'softshell', 2),\n",
        " (u'seater', 2),\n",
        " (u'10min', 2),\n",
        " (u'anybody', 2),\n",
        " (u'detour', 2),\n",
        " (u'gripe', 2),\n",
        " (u'recommended', 2),\n",
        " (u'luxury', 2),\n",
        " (u'board', 2),\n",
        " (u'landmark', 2),\n",
        " (u'organization', 2),\n",
        " (u'phase', 2),\n",
        " (u'don', 2),\n",
        " (u'lie', 2),\n",
        " (u'reputation', 2),\n",
        " (u'great..', 2),\n",
        " (u'accompaniment', 2),\n",
        " (u'dot', 2),\n",
        " (u'nevada', 2),\n",
        " (u'availability', 2),\n",
        " (u'touches', 2),\n",
        " (u'shellfish', 2),\n",
        " (u'gees', 2),\n",
        " (u'de', 2),\n",
        " (u'contrast', 2),\n",
        " (u'fair', 2),\n",
        " (u'roasted', 2),\n",
        " (u'pads', 2),\n",
        " (u'midst', 2),\n",
        " (u'techniques', 2),\n",
        " (u'hotategai', 2),\n",
        " (u'tolerance', 2),\n",
        " (u'nature', 2),\n",
        " (u'here', 2),\n",
        " (u'wtf', 2),\n",
        " (u'cos', 2),\n",
        " (u'adventures', 2),\n",
        " (u'kell', 2),\n",
        " (u'games', 2),\n",
        " (u'freshest', 2),\n",
        " (u'quantities', 2),\n",
        " (u'worker', 2),\n",
        " (u'smorgasbord', 2),\n",
        " (u'storefront', 2),\n",
        " (u'exterior', 2),\n",
        " (u'patient', 2),\n",
        " (u'sakura', 2),\n",
        " (u'wholefoods', 2),\n",
        " (u'nih', 2),\n",
        " (u'rail', 2),\n",
        " (u'garlic', 2),\n",
        " (u'dark', 2),\n",
        " (u'opportunity', 2),\n",
        " (u'curd', 2),\n",
        " (u'condiments', 2),\n",
        " (u'claims', 2),\n",
        " (u'etiquette', 2),\n",
        " (u'mclean', 2),\n",
        " (u'capitol', 2),\n",
        " (u'photo', 2),\n",
        " (u'swears', 2),\n",
        " (u'jose', 2),\n",
        " (u'han', 2),\n",
        " (u'elm', 2),\n",
        " (u'shoulder', 2),\n",
        " (u'joanna', 2),\n",
        " (u'flavoring', 2),\n",
        " (u'desire', 2),\n",
        " (u'gift', 2),\n",
        " (u'mirin', 2),\n",
        " (u'alice', 2),\n",
        " (u'old', 2),\n",
        " (u'cocaine', 2),\n",
        " (u'daikaya', 2),\n",
        " (u'foh', 2),\n",
        " (u'super', 2),\n",
        " (u'place..', 2),\n",
        " (u'satay', 2),\n",
        " (u'managers', 2),\n",
        " (u'thoughts', 2),\n",
        " (u'magazines', 2),\n",
        " (u'saturdays', 2),\n",
        " (u'shhhh', 2),\n",
        " (u'regrets', 2),\n",
        " (u'tachibana', 2),\n",
        " (u'true', 2),\n",
        " (u'japanese/sushi', 2),\n",
        " (u'versions', 2),\n",
        " (u'betheada', 2),\n",
        " (u'tournament', 2),\n",
        " (u'somebody', 2),\n",
        " (u'mush', 2),\n",
        " (u'triangles', 2),\n",
        " (u'faryab', 2),\n",
        " (u'pumpkin-ginger', 2),\n",
        " (u'strangers', 2),\n",
        " (u'qualm', 2),\n",
        " (u'mile', 2),\n",
        " (u'primer', 2),\n",
        " (u'supplies', 2),\n",
        " (u'grilling', 2),\n",
        " (u'murasaki', 2),\n",
        " (u'5min', 2),\n",
        " (u'cook', 2),\n",
        " (u'teas', 2),\n",
        " (u'substitute', 2),\n",
        " (u'cleanliness', 2),\n",
        " (u'assistance', 2),\n",
        " (u'current', 2),\n",
        " (u'sushi/nigiri', 2),\n",
        " (u'boost', 2),\n",
        " (u'okinawa', 2),\n",
        " (u'yards', 2),\n",
        " (u'standout', 2),\n",
        " (u'bop', 2),\n",
        " (u'stomachs', 2),\n",
        " (u'team', 2),\n",
        " (u'fake', 2),\n",
        " (u'hotels', 2),\n",
        " (u'estate', 2),\n",
        " (u'approach', 2),\n",
        " (u'incident', 2),\n",
        " (u'cab', 2),\n",
        " (u'laughter', 2),\n",
        " (u'stream', 2),\n",
        " (u'downfall', 2),\n",
        " (u'december', 2),\n",
        " (u'awesome', 2),\n",
        " (u'garages', 2),\n",
        " (u'cans', 2),\n",
        " (u'map', 2),\n",
        " (u'dive', 2),\n",
        " (u'purists', 2),\n",
        " (u'suck', 2),\n",
        " (u'plating', 2),\n",
        " (u'persons', 2),\n",
        " (u'silence', 2),\n",
        " (u'-spicy', 2),\n",
        " (u'carpaccio', 2),\n",
        " (u'monitor', 2),\n",
        " (u'apex', 2),\n",
        " (u'vicinity', 2),\n",
        " (u'yams', 2),\n",
        " (u'policy', 2),\n",
        " (u'main', 2),\n",
        " (u'soybeans', 2),\n",
        " (u'ahi', 2),\n",
        " (u'appertizer', 2),\n",
        " (u'aficionados', 2),\n",
        " (u'quarter', 2),\n",
        " (u'em', 2),\n",
        " (u'eh', 2),\n",
        " (u'yeah', 2),\n",
        " (u'bradley', 2),\n",
        " (u'entree', 2),\n",
        " (u'childhood', 2),\n",
        " (u'vote', 2),\n",
        " (u'array', 2),\n",
        " (u'little', 2),\n",
        " (u'district', 2),\n",
        " (u'outing', 2),\n",
        " (u'suit', 2),\n",
        " (u'huh', 2),\n",
        " (u'gobo', 2),\n",
        " (u'cards', 2),\n",
        " (u'dollop', 2),\n",
        " (u'voices', 2),\n",
        " (u'roll-', 2),\n",
        " (u'oh', 2),\n",
        " (u'wonder', 2),\n",
        " (u'kanpyo', 2),\n",
        " (u'pain', 2),\n",
        " (u'opposite', 2),\n",
        " (u'hamaki', 2),\n",
        " (u'sauteed', 2),\n",
        " (u'izakaya', 2),\n",
        " (u'boyz', 2),\n",
        " (u'dice', 2),\n",
        " (u'enough', 2),\n",
        " (u'tears', 2),\n",
        " (u'black', 2),\n",
        " (u'sierra', 2),\n",
        " (u'nobu', 2),\n",
        " (u'compliments', 2),\n",
        " (u'bad..', 2),\n",
        " (u'artist', 2),\n",
        " (u'isnt', 2),\n",
        " (u'sear', 2),\n",
        " (u'americanized', 2),\n",
        " (u'vice', 2),\n",
        " (u'surfaces', 2),\n",
        " (u'checks', 2),\n",
        " (u'notice', 2),\n",
        " (u'august', 2),\n",
        " (u'domo', 2),\n",
        " (u'cramp', 2),\n",
        " (u'tour', 2),\n",
        " (u'firmness', 2),\n",
        " (u'satisfaction', 2),\n",
        " (u'crew', 2),\n",
        " (u'direction', 2),\n",
        " (u'eatery', 2),\n",
        " (u'instant', 2),\n",
        " (u'might', 2),\n",
        " (u'trick', 2),\n",
        " (u'warning', 2),\n",
        " (u'twists', 2),\n",
        " (u'property', 2),\n",
        " (u'stickers', 2),\n",
        " (u'mont', 2),\n",
        " (u'enjoyment', 2),\n",
        " (u'awesomeness', 2),\n",
        " (u'theater', 2),\n",
        " (u'peach', 2),\n",
        " (u'charges', 2),\n",
        " (u'model', 2),\n",
        " (u'peace', 2),\n",
        " (u'real', 2),\n",
        " (u'read', 2),\n",
        " (u'stools', 2),\n",
        " (u'moco', 2),\n",
        " (u'rear', 2),\n",
        " (u'clam', 2),\n",
        " (u'harami', 2),\n",
        " (u'second-', 2),\n",
        " (u'mustard', 2),\n",
        " (u'gross', 2),\n",
        " (u'noon', 2),\n",
        " (u'carb', 2),\n",
        " (u'staffs', 2),\n",
        " (u'island', 2),\n",
        " (u'fell', 2),\n",
        " (u'act', 2),\n",
        " (u'poki', 2),\n",
        " (u'coupon', 2),\n",
        " (u'jowl', 2),\n",
        " (u'los', 2),\n",
        " (u'mondays', 2),\n",
        " (u'bubble', 2),\n",
        " (u'chalkboard', 2),\n",
        " (u'brain', 2),\n",
        " (u'tsukiji', 2),\n",
        " (u'default', 2),\n",
        " (u'nightlife', 2),\n",
        " (u'al', 2),\n",
        " (u'wheaton', 2),\n",
        " (u'rubber', 2),\n",
        " (u'poop', 2),\n",
        " (u'branzino', 2),\n",
        " (u'teeth', 2),\n",
        " (u'herbs', 2),\n",
        " (u'podium', 2),\n",
        " (u'lipstick', 2),\n",
        " (u'sardine', 2),\n",
        " (u'individual', 2),\n",
        " (u'calls', 2),\n",
        " (u'original', 2),\n",
        " (u'sushi-', 2),\n",
        " (u'portabella', 2),\n",
        " (u'glimpse', 2),\n",
        " (u'costco', 2),\n",
        " (u'foster', 2),\n",
        " (u'tempuras', 2),\n",
        " (u'ta', 2),\n",
        " (u'song', 2),\n",
        " (u'tootsee', 2),\n",
        " (u'burger', 2),\n",
        " (u'chalk', 2),\n",
        " (u'anywho', 2),\n",
        " (u'clock', 2),\n",
        " (u'version', 2),\n",
        " (u'matsuhisa', 2),\n",
        " (u'free', 2),\n",
        " (u'november', 2),\n",
        " (u'advertising', 2),\n",
        " (u'pick', 2),\n",
        " (u'action', 2),\n",
        " (u'restaruant', 2),\n",
        " (u'transit', 2),\n",
        " (u'chunks', 2),\n",
        " (u'passage', 2),\n",
        " (u'consolation', 2),\n",
        " (u'benihana', 2),\n",
        " (u'botan', 2),\n",
        " (u'shirts', 2),\n",
        " (u'plans', 2),\n",
        " (u'sakuramen', 2),\n",
        " (u'plane', 2),\n",
        " (u'halibut', 2),\n",
        " (u'essence', 2),\n",
        " (u'trade', 2),\n",
        " (u'mcdonalds', 2),\n",
        " (u'to-go', 2),\n",
        " (u'avenue', 2),\n",
        " (u'complex', 2),\n",
        " (u'absence', 2),\n",
        " (u'soccer', 2),\n",
        " (u'teeter', 2),\n",
        " (u'digging', 2),\n",
        " (u'inch', 2),\n",
        " (u'hearts', 2),\n",
        " (u'2x', 2),\n",
        " (u'weight', 2),\n",
        " (u'operation', 2),\n",
        " (u'research', 2),\n",
        " (u'pun', 2),\n",
        " (u'dirt', 2),\n",
        " (u'horse', 2),\n",
        " (u'pleasant', 2),\n",
        " (u'cookie', 2),\n",
        " (u'bumpin', 2),\n",
        " (u'loads', 2),\n",
        " (u'guest', 2),\n",
        " (u'definition', 2),\n",
        " (u'e.g', 2),\n",
        " (u'tokuso', 2),\n",
        " (u'harris', 2),\n",
        " (u'dine', 2),\n",
        " (u'bland', 2),\n",
        " (u'paint', 2),\n",
        " (u'kaiware', 2),\n",
        " (u'statement', 2),\n",
        " (u'selling', 2),\n",
        " (u'plaza', 2),\n",
        " (u'park', 2),\n",
        " (u'steaks', 2),\n",
        " (u'king', 2),\n",
        " (u'voucher', 2),\n",
        " (u'tongues', 2),\n",
        " (u'4-9pm', 2),\n",
        " (u'wasnt', 2),\n",
        " (u'creaminess', 2),\n",
        " (u'juicy', 2),\n",
        " (u'recital', 2),\n",
        " (u'shops', 2),\n",
        " (u'slow', 2),\n",
        " (u'warnings', 2),\n",
        " (u'leave', 2),\n",
        " (u'anniversary', 2),\n",
        " (u'kaz', 2),\n",
        " (u'dimension', 2),\n",
        " (u'ugh', 2),\n",
        " (u'golf', 2),\n",
        " (u'faces', 2),\n",
        " (u'impact', 2),\n",
        " (u'starters', 2),\n",
        " (u'turnaround', 2),\n",
        " (u'circle', 2),\n",
        " (u'fianc\\xe9', 2),\n",
        " (u'roles', 2),\n",
        " (u'crabmeat', 2),\n",
        " (u'seweed', 2),\n",
        " (u'annandale', 2),\n",
        " (u'flavours', 2),\n",
        " (u'sips', 2),\n",
        " (u'arm', 2),\n",
        " (u'ika', 2),\n",
        " (u'understanding', 2),\n",
        " (u'license', 2),\n",
        " (u'cakes', 2),\n",
        " (u'sweet', 2),\n",
        " (u'likes', 2),\n",
        " (u'yakuniku', 2),\n",
        " (u'duh', 2),\n",
        " (u'mushidori', 2),\n",
        " (u'damn', 2),\n",
        " (u'peppers', 2),\n",
        " (u'brick', 2),\n",
        " (u'territory', 2),\n",
        " (u'meeting', 2),\n",
        " (u'flight', 2),\n",
        " (u'samples', 2),\n",
        " (u'gal', 2),\n",
        " (u'liver', 2),\n",
        " (u'open', 2),\n",
        " (u'dime', 2),\n",
        " (u'boo', 2),\n",
        " (u'chang', 2),\n",
        " (u'cheek', 2),\n",
        " (u'maker', 2),\n",
        " (u'cheep', 2),\n",
        " (u'entry', 2),\n",
        " (u'friendship', 2),\n",
        " (u'herry', 2),\n",
        " (u'shape', 2),\n",
        " (u'alternative', 2),\n",
        " (u'ban', 2),\n",
        " (u'source', 2),\n",
        " (u'kushi', 2),\n",
        " (u'message', 2),\n",
        " (u'indication', 2),\n",
        " (u'mediocrity', 2),\n",
        " (u'tomago', 2),\n",
        " (u'everybody', 2),\n",
        " (u'reach', 2),\n",
        " (u'processing', 2),\n",
        " (u'graduation', 2),\n",
        " (u'regular', 2),\n",
        " ...]"
       ]
      }
     ],
     "prompt_number": 600
    },
    {
     "cell_type": "code",
     "collapsed": false,
     "input": [
      "#review tokenizer(& punctuation stripper)\n",
      "punctuations = set(['[','!','#','\"','%','&','\\\\','(',')','*'\n",
      "                    ,'+',',','-','.','/',':',';','<','=','>','?','@','[',']','^','_','`','{','|','}','~',']'])\n",
      "strip_punctuations = lambda x: ''.join([i for i in x if i not in punctuations])\n",
      "reviews['words']=[strip_punctuations(r.lower()).split() for r in reviews.review]"
     ],
     "language": "python",
     "metadata": {},
     "outputs": [],
     "prompt_number": 886
    },
    {
     "cell_type": "code",
     "collapsed": false,
     "input": [
      "#apply naive bayes classifier\n",
      "import collections, itertools\n",
      "import nltk.classify.util, nltk.metrics\n",
      "from nltk.classify import NaiveBayesClassifier\n",
      "from nltk.corpus import stopwords\n",
      "from nltk.collocations import *\n",
      "from nltk.metrics import BigramAssocMeasures,scores\n",
      "from nltk.probability import FreqDist, ConditionalFreqDist\n",
      "\n",
      "\n",
      "positive_documents = reviews.words[reviews.review_rating.astype(float)<2.5]\n",
      "negative_documents = reviews.words[reviews.review_rating.astype(float)>4.5]\n",
      "data = {\n",
      "        'pos':positive_documents,\n",
      "        'neg':negative_documents\n",
      "        }\n",
      "\n",
      "#create bag of words\n",
      "def all_words(data):\n",
      "    dic={}\n",
      "    for label in data.keys():\n",
      "        tokens = []\n",
      "        for words in data[label]:\n",
      "            tokens += words\n",
      "        dic[label] = tokens\n",
      "    return dic\n",
      "\n",
      "\n",
      "#initial run, include all words in analysis\n",
      "def word_feats(words):\n",
      "    return dict([(word.lower(), True) for word in words])    \n",
      "    \n",
      "#identify significant features             ----nBestWords N\n",
      "def get_nBestFeatures(labeled_words,N):\n",
      "    word_fd = FreqDist()\n",
      "    label_word_fd = ConditionalFreqDist()\n",
      "    \n",
      "    word_count = {'total':0}\n",
      "    for label in labeled_words.keys():\n",
      "        for word in labeled_words[label]:\n",
      "            word_fd[word.lower()]+=1\n",
      "            label_word_fd[label][word.lower()]+=1\n",
      "        #word count\n",
      "        word_count[label] = label_word_fd[label].N()\n",
      "        word_count['total'] += word_count[label]\n",
      "#     for word in positive_words:\n",
      "#         word_fd[word.lower()]+=1\n",
      "#         label_word_fd['pos'][word.lower()]+=1\n",
      "\n",
      "#     for word in negative_words:\n",
      "#         word_fd[word.lower()]+=1\n",
      "#         label_word_fd['neg'][word.lower()]+=1\n",
      "\n",
      "    word_scores = {}\n",
      "    \n",
      "    for word, freq in word_fd.iteritems():\n",
      "        word_scores[word] = 0\n",
      "        for label in labeled_words.keys():\n",
      "            word_scores[word] += BigramAssocMeasures.chi_sq(label_word_fd[label][word],\n",
      "                (freq, word_count[label]), word_count['total'])            \n",
      "#             pos_score = BigramAssocMeasures.chi_sq(label_word_fd['pos'][word],\n",
      "#                 (freq, pos_word_count), total_word_count)\n",
      "#             neg_score = BigramAssocMeasures.chi_sq(label_word_fd['neg'][word],\n",
      "#                 (freq, word_count['label']), word_count['total'])\n",
      "\n",
      "    best = sorted(word_scores.iteritems(), key=lambda (w,s): s, reverse=True)[:N]\n",
      "    bestwords = set([w for w, s in best])\n",
      "    return bestwords\n",
      "\n",
      "#second run, include only nBestWords    ----minFreq\n",
      "def best_word_feats(words,bestwords):\n",
      "    return dict([(word, True) for word in words if word in bestwords and word_fd[word]>=minFreq])\n",
      "\n",
      "\n",
      "#identify n-grams       ---minFreq, nBestNGrams N\n",
      "def find_ngrams(data):\n",
      "    volcabulary = []\n",
      "    for sublist in all_words(data).values():\n",
      "        volcabulary += sublist\n",
      "        \n",
      "    bigram_finder = BigramCollocationFinder.from_words(volcabulary)\n",
      "    bigram_finder.apply_freq_filter(minFreq)\n",
      "    bigrams = bigram_finder.nbest(BigramAssocMeasures.pmi, 2000)\n",
      "    trigram_finder = TrigramCollocationFinder.from_words(volcabulary)\n",
      "    trigram_finder.apply_freq_filter(minFreq-2)\n",
      "    trigram_measures = nltk.collocations.TrigramAssocMeasures()\n",
      "    trigrams = trigram_finder.nbest(trigram_measures.pmi, 2000)\n",
      "    return bigrams+trigrams\n",
      " \n",
      "#final run, include n-grams     \n",
      "def best_ngram_word_feats(words, ngrams, bestwords, score_fn=BigramAssocMeasures.chi_sq):\n",
      "    bigram_finder = BigramCollocationFinder.from_words(words)\n",
      "    bigrams_ = bigram_finder.nbest(BigramAssocMeasures.pmi, nBestNGrams)\n",
      "    trigram_finder = TrigramCollocationFinder.from_words(words)\n",
      "    trigrams_ = trigram_finder.nbest(trigram_measures.pmi, nBestNGrams)\n",
      "    d = dict([(ngram, True) for ngram in bigrams_+trigrams_ if ngram in ngrams])\n",
      "    d.update(best_word_feats(words,bestwords))\n",
      "    return d"
     ],
     "language": "python",
     "metadata": {},
     "outputs": [],
     "prompt_number": 994
    },
    {
     "cell_type": "code",
     "collapsed": false,
     "input": [
      "#only take the top nBest important features of all into account\n",
      "nBestFeatures=1000\n",
      "#ignore words with <minFreq\n",
      "minFreq=5\n",
      "#top n ngrams for EACH review\n",
      "nBestNGrams=50\n",
      " \n",
      "def evaluate_classifier(data,featx):\n",
      "    \n",
      "    bestwords = get_nBestFeatures(all_words(data),N=1000)\n",
      "    if best_word_feats==featx:\n",
      "        features = {label:[(featx(words,bestwords),label) for words in data[label]] for label in data.keys()}\n",
      "    elif best_ngram_word_feats==featx:\n",
      "        ngrams = find_ngrams(data)\n",
      "        features = {label:[(featx(words,ngrams,bestwords),label) for words in data[label]] for label in data.keys()}\n",
      "    else:\n",
      "        features={label:[(featx(words),label) for words in data[label]] for label in data.keys()}\n",
      "    \n",
      "    for label in features.keys():\n",
      "        print (label + 'sample = %i' %len(features[label]))\n",
      "        \n",
      "    trainfeats = []\n",
      "    testfeats = []\n",
      "    for label in features.keys():\n",
      "        trainfeats += features[label][:len(features[label])*3/4] #decide size of train/test cutoff here\n",
      "        testfeats += features[label][len(features[label])*3/4:]\n",
      "        \n",
      "    print 'training size:  %i, testing size: %i' %(len(trainfeats),len(testfeats))\n",
      " \n",
      "    classifier = NaiveBayesClassifier.train(trainfeats)\n",
      "    refsets = collections.defaultdict(set)  \n",
      "    testsets = collections.defaultdict(set)   \n",
      " \n",
      "    for i, (feats, label) in enumerate(testfeats):\n",
      "            refsets[label].add(i)\n",
      "            observed = classifier.classify(feats)\n",
      "            testsets[observed].add(i)\n",
      " \n",
      "    print 'accuracy:', nltk.classify.util.accuracy(classifier, testfeats)\n",
      "    if(len(features)==2):\n",
      "        print 'pos precision:', scores.precision(refsets['pos'], testsets['pos'])\n",
      "        print 'pos recall:', scores.recall(refsets['pos'], testsets['pos'])\n",
      "        print 'neg precision:', scores.precision(refsets['neg'], testsets['neg'])\n",
      "        print 'neg recall:', scores.recall(refsets['neg'], testsets['neg'])\n",
      "    classifier.show_most_informative_features(n=10)\n",
      "    #return (nltk.classify.util.accuracy(classifier, testfeats),scores.recall(refsets['pos'], testsets['pos']))\n",
      "    \n",
      "\n",
      " \n",
      "print 'evaluating single word features'\n",
      "#evaluate_classifier(data,word_feats)\n",
      "\n",
      "\n",
      " \n",
      "print 'evaluating best word features'\n",
      "evaluate_classifier(data,best_word_feats)\n",
      "\n",
      "\n",
      " \n",
      "print 'evaluating best words + bigram chi_sq word features'\n",
      "evaluate_classifier(data,best_ngram_word_feats)"
     ],
     "language": "python",
     "metadata": {},
     "outputs": [
      {
       "output_type": "stream",
       "stream": "stdout",
       "text": [
        "evaluating single word features\n",
        "evaluating best word features\n",
        "negsample = 388"
       ]
      },
      {
       "output_type": "stream",
       "stream": "stdout",
       "text": [
        "\n",
        "possample = 253\n",
        "training size:  480, testing size: 161\n",
        "accuracy:"
       ]
      },
      {
       "output_type": "stream",
       "stream": "stdout",
       "text": [
        " 0.857142857143\n",
        "pos precision: 0.741176470588\n",
        "pos recall: 0.984375\n",
        "neg precision: 0.986842105263\n",
        "neg recall: 0.773195876289\n",
        "Most Informative Features\n",
        "                  wanted = True              pos : neg    =     13.8 : 1.0\n",
        "                   bland = True              pos : neg    =     11.8 : 1.0\n",
        "                 kitchen = True              pos : neg    =     11.8 : 1.0\n",
        "              completely = True              pos : neg    =     10.8 : 1.0\n",
        "                mediocre = True              pos : neg    =     10.8 : 1.0\n",
        "                 sitting = True              pos : neg    =      9.7 : 1.0\n",
        "                  waited = True              pos : neg    =      9.7 : 1.0\n",
        "              overpriced = True              pos : neg    =      9.7 : 1.0\n",
        "                wouldn't = True              pos : neg    =      9.5 : 1.0\n",
        "                  decent = True              pos : neg    =      8.9 : 1.0\n",
        "evaluating best words + bigram chi_sq word features\n",
        "negsample = 388"
       ]
      },
      {
       "output_type": "stream",
       "stream": "stdout",
       "text": [
        "\n",
        "possample = 253\n",
        "training size:  480, testing size: 161\n",
        "accuracy:"
       ]
      },
      {
       "output_type": "stream",
       "stream": "stdout",
       "text": [
        " 0.832298136646\n",
        "pos precision: 0.707865168539\n",
        "pos recall: 0.984375\n",
        "neg precision: 0.986111111111\n",
        "neg recall: 0.731958762887\n",
        "Most Informative Features\n",
        "                  wanted = True              pos : neg    =     13.8 : 1.0"
       ]
      },
      {
       "output_type": "stream",
       "stream": "stdout",
       "text": [
        "\n",
        "                 kitchen = True              pos : neg    =     11.8 : 1.0\n",
        "                   bland = True              pos : neg    =     11.8 : 1.0\n",
        "                mediocre = True              pos : neg    =     10.8 : 1.0\n",
        "              completely = True              pos : neg    =     10.8 : 1.0\n",
        "                 sitting = True              pos : neg    =      9.7 : 1.0\n",
        "                  waited = True              pos : neg    =      9.7 : 1.0\n",
        "    (u\"don't\", u'think') = True              pos : neg    =      9.7 : 1.0\n",
        "              overpriced = True              pos : neg    =      9.7 : 1.0\n",
        "                wouldn't = True              pos : neg    =      9.5 : 1.0\n"
       ]
      }
     ],
     "prompt_number": 997
    },
    {
     "cell_type": "code",
     "collapsed": false,
     "input": [
      "len(bestwords)"
     ],
     "language": "python",
     "metadata": {},
     "outputs": [
      {
       "metadata": {},
       "output_type": "pyout",
       "prompt_number": 993,
       "text": [
        "1000"
       ]
      }
     ],
     "prompt_number": 993
    },
    {
     "cell_type": "code",
     "collapsed": false,
     "input": [
      "#plot distribution for pandas data\n",
      "pd.options.display.mpl_style = 'default'\n",
      "reviews.review_rating.astype(float).hist()\n",
      "reviews.review_rating[0:200].astype(float).hist()"
     ],
     "language": "python",
     "metadata": {},
     "outputs": [
      {
       "metadata": {},
       "output_type": "pyout",
       "prompt_number": 641,
       "text": [
        "<matplotlib.axes._subplots.AxesSubplot at 0x11834c410>"
       ]
      },
      {
       "metadata": {},
       "output_type": "display_data",
       "png": "[encoded data removed]",
       "text": [
        "<matplotlib.figure.Figure at 0x118355510>"
       ]
      }
     ],
     "prompt_number": 641
    },
    {
     "cell_type": "code",
     "collapsed": false,
     "input": [
      "dir(nltk.metrics)"
     ],
     "language": "python",
     "metadata": {},
     "outputs": [
      {
       "metadata": {},
       "output_type": "pyout",
       "prompt_number": 676,
       "text": [
        "['__builtins__',\n",
        " '__doc__',\n",
        " '__file__',\n",
        " '__name__',\n",
        " '__package__',\n",
        " 'alignment_error_rate']"
       ]
      }
     ],
     "prompt_number": 676
    },
    {
     "cell_type": "code",
     "collapsed": false,
     "input": [
      "nltk.download('precision')"
     ],
     "language": "python",
     "metadata": {},
     "outputs": [
      {
       "output_type": "stream",
       "stream": "stdout",
       "text": [
        "[nltk_data] Error loading precision: Package 'precision' not found in\n",
        "[nltk_data]     index\n"
       ]
      },
      {
       "metadata": {},
       "output_type": "pyout",
       "prompt_number": 673,
       "text": [
        "False"
       ]
      }
     ],
     "prompt_number": 673
    }
   ],
   "metadata": {}
  }
 ]
}